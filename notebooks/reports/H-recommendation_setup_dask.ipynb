{
 "cells": [
  {
   "cell_type": "code",
   "execution_count": 1,
   "metadata": {},
   "outputs": [
    {
     "name": "stderr",
     "output_type": "stream",
     "text": [
      "Traceback (most recent call last):\n",
      "  File \"/home/kelvin/anaconda3/envs/rdkit/lib/python3.6/site-packages/rdkit/Chem/PandasTools.py\", line 130, in <module>\n",
      "    if 'display.width' in pd.core.config._registered_options:\n",
      "AttributeError: module 'pandas.core' has no attribute 'config'\n"
     ]
    }
   ],
   "source": [
    "from joblib import load, dump\n",
    "import numpy as np\n",
    "import h5py\n",
    "import pandas as pd\n",
    "from sklearn.metrics.pairwise import cosine_distances, distance_metrics\n",
    "from matplotlib import pyplot as plt\n",
    "import numba\n",
    "from umda import DaskMRS, EmbeddingModel\n",
    "from dask.distributed import Client\n",
    "\n",
    "plt.style.use('publication')"
   ]
  },
  {
   "cell_type": "code",
   "execution_count": 2,
   "metadata": {},
   "outputs": [],
   "source": [
    "client = Client(threads_per_worker=2, n_workers=4)"
   ]
  },
  {
   "cell_type": "code",
   "execution_count": 3,
   "metadata": {},
   "outputs": [
    {
     "data": {
      "text/html": [
       "<table style=\"border: 2px solid white;\">\n",
       "<tr>\n",
       "<td style=\"vertical-align: top; border: 0px solid white\">\n",
       "<h3 style=\"text-align: left;\">Client</h3>\n",
       "<ul style=\"text-align: left; list-style: none; margin: 0; padding: 0;\">\n",
       "  <li><b>Scheduler: </b>tcp://127.0.0.1:45717</li>\n",
       "  <li><b>Dashboard: </b><a href='http://127.0.0.1:8787/status' target='_blank'>http://127.0.0.1:8787/status</a></li>\n",
       "</ul>\n",
       "</td>\n",
       "<td style=\"vertical-align: top; border: 0px solid white\">\n",
       "<h3 style=\"text-align: left;\">Cluster</h3>\n",
       "<ul style=\"text-align: left; list-style:none; margin: 0; padding: 0;\">\n",
       "  <li><b>Workers: </b>4</li>\n",
       "  <li><b>Cores: </b>8</li>\n",
       "  <li><b>Memory: </b>33.29 GB</li>\n",
       "</ul>\n",
       "</td>\n",
       "</tr>\n",
       "</table>"
      ],
      "text/plain": [
       "<Client: 'tcp://127.0.0.1:45717' processes=4 threads=8, memory=33.29 GB>"
      ]
     },
     "execution_count": 3,
     "metadata": {},
     "output_type": "execute_result"
    }
   ],
   "source": [
    "client"
   ]
  },
  {
   "cell_type": "code",
   "execution_count": 4,
   "metadata": {},
   "outputs": [],
   "source": [
    "embedder = EmbeddingModel.from_pkl(\"../../models/mol2vec_model.pkl\", \"../../models/embedding_pipeline.pkl\", radius=1)"
   ]
  },
  {
   "cell_type": "code",
   "execution_count": 3,
   "metadata": {},
   "outputs": [
    {
     "name": "stderr",
     "output_type": "stream",
     "text": [
      "2020-12-07 17:04:20.465 | INFO     | umda.classes:save:59 - Saved model to ../../models/EmbeddingModel.pkl.\n"
     ]
    }
   ],
   "source": [
    "embedder.save(\"../../models/EmbeddingModel.pkl\")"
   ]
  },
  {
   "cell_type": "code",
   "execution_count": 4,
   "metadata": {},
   "outputs": [
    {
     "data": {
      "text/plain": [
       "['../../models/best_gp_estimator.pkl']"
      ]
     },
     "execution_count": 4,
     "metadata": {},
     "output_type": "execute_result"
    }
   ],
   "source": [
    "gp_grid = load(\"../../models/gp_grid.pkl\")\n",
    "\n",
    "dump(gp_grid.best_estimator_, \"../../models/best_gp_estimator.pkl\")"
   ]
  },
  {
   "cell_type": "code",
   "execution_count": 5,
   "metadata": {},
   "outputs": [
    {
     "name": "stderr",
     "output_type": "stream",
     "text": [
      "2021-02-24 16:30:13.878 | WARNING  | umda.classes:__init__:250 - Dask version of MRS is being run; logging messages may not be accurate!\n",
      "2021-02-24 16:30:15.810 | INFO     | umda.classes:save:228 - Saved MRS to ../../models/TMC1_MRS_GP.pkl\n"
     ]
    }
   ],
   "source": [
    "mrs_gp = DaskMRS.from_pickle(\"../../models/kmeans_model.pkl\", \"../../models/best_gp_estimator.pkl\")\n",
    "\n",
    "mrs_gp.save(\"../../models/TMC1_MRS_GP.pkl\")"
   ]
  },
  {
   "cell_type": "code",
   "execution_count": 6,
   "metadata": {},
   "outputs": [],
   "source": [
    "data = h5py.File(\"../../data/processed/smiles_embeddings_300.h5\", \"r\")"
   ]
  },
  {
   "cell_type": "code",
   "execution_count": 7,
   "metadata": {},
   "outputs": [],
   "source": [
    "pipeline = load(\"../../models/embedding_pipeline.pkl\")"
   ]
  },
  {
   "cell_type": "code",
   "execution_count": 8,
   "metadata": {},
   "outputs": [],
   "source": [
    "tmc1_df = pd.read_pickle(\"../../data/interim/tmc1_table_vecs.pkl\")"
   ]
  },
  {
   "cell_type": "code",
   "execution_count": 9,
   "metadata": {},
   "outputs": [],
   "source": [
    "tmc1_vecs = np.vstack(tmc1_df[\"Vecs\"])\n",
    "tmc1_embedding = pipeline[0].transform(tmc1_vecs).compute()"
   ]
  },
  {
   "cell_type": "markdown",
   "metadata": {},
   "source": [
    "### GP recommendations without clustering "
   ]
  },
  {
   "cell_type": "code",
   "execution_count": 10,
   "metadata": {},
   "outputs": [
    {
     "name": "stderr",
     "output_type": "stream",
     "text": [
      "2021-02-24 16:30:32.674 | INFO     | umda.classes:recommend:322 - Not using clusters.\n",
      "2021-02-24 16:30:32.689 | INFO     | umda.classes:recommend:340 - There are nan molecules in this aggregate.\n"
     ]
    }
   ],
   "source": [
    "gp_nocluster_df = mrs_gp.recommend(X=tmc1_embedding, cluster=False, h5_data=data)"
   ]
  },
  {
   "cell_type": "code",
   "execution_count": 26,
   "metadata": {},
   "outputs": [],
   "source": [
    "from periodictable import elements"
   ]
  },
  {
   "cell_type": "code",
   "execution_count": 43,
   "metadata": {},
   "outputs": [],
   "source": [
    "exclude_list = [\n",
    "    \"P\", \"Ho\", \"As\", \"Zr\", \"Sn\", \"V\", \"Au\", \"Br\", \"F\", \"Re\", \"U\", \"Al\", \"In\", \"Cl\", \"Ag\", \"Ce\", \"Hg\", \"Ta\", \"Te\", \"Ni\", \"Be\", \"Li\", \"Sb\", \"Bi\", \"Mn\", \"Co\", \"Tm\", \"Si\"\n",
    "]"
   ]
  },
  {
   "cell_type": "code",
   "execution_count": 44,
   "metadata": {},
   "outputs": [],
   "source": [
    "gp_recommendations = gp_nocluster_df.loc[(gp_nocluster_df[\"Abundance\"].between(8., 20.)) & (~gp_nocluster_df[\"SMILES\"].str.contains('|'.join(exclude_list),regex=True))].head(50)"
   ]
  },
  {
   "cell_type": "code",
   "execution_count": 45,
   "metadata": {},
   "outputs": [
    {
     "data": {
      "text/html": [
       "<div>\n",
       "<style scoped>\n",
       "    .dataframe tbody tr th:only-of-type {\n",
       "        vertical-align: middle;\n",
       "    }\n",
       "\n",
       "    .dataframe tbody tr th {\n",
       "        vertical-align: top;\n",
       "    }\n",
       "\n",
       "    .dataframe thead th {\n",
       "        text-align: right;\n",
       "    }\n",
       "</style>\n",
       "<table border=\"1\" class=\"dataframe\">\n",
       "  <thead>\n",
       "    <tr style=\"text-align: right;\">\n",
       "      <th></th>\n",
       "      <th>Abundance</th>\n",
       "      <th>Uncertainty</th>\n",
       "      <th>Index</th>\n",
       "      <th>SMILES</th>\n",
       "      <th>Counts</th>\n",
       "    </tr>\n",
       "  </thead>\n",
       "  <tbody>\n",
       "    <tr>\n",
       "      <th>8</th>\n",
       "      <td>13.269550</td>\n",
       "      <td>1.833104</td>\n",
       "      <td>71272</td>\n",
       "      <td>S=[S+]</td>\n",
       "      <td>8</td>\n",
       "    </tr>\n",
       "    <tr>\n",
       "      <th>9</th>\n",
       "      <td>13.208389</td>\n",
       "      <td>1.817918</td>\n",
       "      <td>74122</td>\n",
       "      <td>[C+]#C</td>\n",
       "      <td>26</td>\n",
       "    </tr>\n",
       "    <tr>\n",
       "      <th>17</th>\n",
       "      <td>12.851073</td>\n",
       "      <td>1.834660</td>\n",
       "      <td>42075</td>\n",
       "      <td>CC#[S+]</td>\n",
       "      <td>30</td>\n",
       "    </tr>\n",
       "    <tr>\n",
       "      <th>18</th>\n",
       "      <td>12.838302</td>\n",
       "      <td>1.847769</td>\n",
       "      <td>14546</td>\n",
       "      <td>O=[O+]</td>\n",
       "      <td>9</td>\n",
       "    </tr>\n",
       "    <tr>\n",
       "      <th>34</th>\n",
       "      <td>12.311587</td>\n",
       "      <td>1.862161</td>\n",
       "      <td>2847</td>\n",
       "      <td>[C+]#CC#[C-]</td>\n",
       "      <td>13</td>\n",
       "    </tr>\n",
       "    <tr>\n",
       "      <th>36</th>\n",
       "      <td>12.209261</td>\n",
       "      <td>1.866075</td>\n",
       "      <td>25611</td>\n",
       "      <td>N=CO</td>\n",
       "      <td>3</td>\n",
       "    </tr>\n",
       "    <tr>\n",
       "      <th>37</th>\n",
       "      <td>12.198914</td>\n",
       "      <td>1.838046</td>\n",
       "      <td>67603</td>\n",
       "      <td>C=C=[C+]C</td>\n",
       "      <td>25</td>\n",
       "    </tr>\n",
       "    <tr>\n",
       "      <th>39</th>\n",
       "      <td>12.120914</td>\n",
       "      <td>1.855056</td>\n",
       "      <td>74764</td>\n",
       "      <td>N#CSN</td>\n",
       "      <td>7</td>\n",
       "    </tr>\n",
       "    <tr>\n",
       "      <th>43</th>\n",
       "      <td>11.904348</td>\n",
       "      <td>1.860113</td>\n",
       "      <td>57705</td>\n",
       "      <td>N#CC#CC=O</td>\n",
       "      <td>18</td>\n",
       "    </tr>\n",
       "    <tr>\n",
       "      <th>44</th>\n",
       "      <td>11.782551</td>\n",
       "      <td>1.873986</td>\n",
       "      <td>22953</td>\n",
       "      <td>N#CC1CN1</td>\n",
       "      <td>3</td>\n",
       "    </tr>\n",
       "    <tr>\n",
       "      <th>47</th>\n",
       "      <td>11.615007</td>\n",
       "      <td>1.857736</td>\n",
       "      <td>41772</td>\n",
       "      <td>C#CC(N)C#N</td>\n",
       "      <td>13</td>\n",
       "    </tr>\n",
       "    <tr>\n",
       "      <th>48</th>\n",
       "      <td>11.496323</td>\n",
       "      <td>1.858235</td>\n",
       "      <td>34881</td>\n",
       "      <td>CC(=N)O</td>\n",
       "      <td>1</td>\n",
       "    </tr>\n",
       "    <tr>\n",
       "      <th>49</th>\n",
       "      <td>11.480562</td>\n",
       "      <td>1.922316</td>\n",
       "      <td>84527</td>\n",
       "      <td>N#CC(=C=S)C#N</td>\n",
       "      <td>1</td>\n",
       "    </tr>\n",
       "    <tr>\n",
       "      <th>50</th>\n",
       "      <td>11.433650</td>\n",
       "      <td>1.851255</td>\n",
       "      <td>47251</td>\n",
       "      <td>C#CC(C)N</td>\n",
       "      <td>13</td>\n",
       "    </tr>\n",
       "    <tr>\n",
       "      <th>51</th>\n",
       "      <td>11.394831</td>\n",
       "      <td>1.915288</td>\n",
       "      <td>45843</td>\n",
       "      <td>N#CC#CC#CCC#N</td>\n",
       "      <td>8</td>\n",
       "    </tr>\n",
       "    <tr>\n",
       "      <th>53</th>\n",
       "      <td>11.380845</td>\n",
       "      <td>1.908803</td>\n",
       "      <td>64965</td>\n",
       "      <td>[C+]#CC#CC#CC#CC</td>\n",
       "      <td>8</td>\n",
       "    </tr>\n",
       "    <tr>\n",
       "      <th>54</th>\n",
       "      <td>11.301452</td>\n",
       "      <td>1.865864</td>\n",
       "      <td>50644</td>\n",
       "      <td>C#CC(=O)C#CC#N</td>\n",
       "      <td>15</td>\n",
       "    </tr>\n",
       "    <tr>\n",
       "      <th>55</th>\n",
       "      <td>11.289967</td>\n",
       "      <td>1.884636</td>\n",
       "      <td>62440</td>\n",
       "      <td>N#CC(C#N)C=O</td>\n",
       "      <td>6</td>\n",
       "    </tr>\n",
       "    <tr>\n",
       "      <th>57</th>\n",
       "      <td>11.277346</td>\n",
       "      <td>1.864263</td>\n",
       "      <td>56929</td>\n",
       "      <td>C=CCI</td>\n",
       "      <td>4</td>\n",
       "    </tr>\n",
       "    <tr>\n",
       "      <th>58</th>\n",
       "      <td>11.211613</td>\n",
       "      <td>1.890868</td>\n",
       "      <td>88651</td>\n",
       "      <td>N#CC#CCCC#N</td>\n",
       "      <td>4</td>\n",
       "    </tr>\n",
       "    <tr>\n",
       "      <th>59</th>\n",
       "      <td>11.205308</td>\n",
       "      <td>1.863886</td>\n",
       "      <td>36090</td>\n",
       "      <td>C=CC=O</td>\n",
       "      <td>5</td>\n",
       "    </tr>\n",
       "    <tr>\n",
       "      <th>60</th>\n",
       "      <td>11.200914</td>\n",
       "      <td>1.868153</td>\n",
       "      <td>64022</td>\n",
       "      <td>CC#CC1CO1</td>\n",
       "      <td>6</td>\n",
       "    </tr>\n",
       "    <tr>\n",
       "      <th>61</th>\n",
       "      <td>11.030347</td>\n",
       "      <td>1.869349</td>\n",
       "      <td>11649</td>\n",
       "      <td>CC#CC#CCC</td>\n",
       "      <td>13</td>\n",
       "    </tr>\n",
       "    <tr>\n",
       "      <th>63</th>\n",
       "      <td>10.856794</td>\n",
       "      <td>1.871130</td>\n",
       "      <td>81516</td>\n",
       "      <td>C#CC(=O)NC</td>\n",
       "      <td>6</td>\n",
       "    </tr>\n",
       "    <tr>\n",
       "      <th>64</th>\n",
       "      <td>10.856022</td>\n",
       "      <td>1.903158</td>\n",
       "      <td>85514</td>\n",
       "      <td>C#CC#CC1CC1C#N</td>\n",
       "      <td>5</td>\n",
       "    </tr>\n",
       "    <tr>\n",
       "      <th>65</th>\n",
       "      <td>10.805035</td>\n",
       "      <td>1.877376</td>\n",
       "      <td>79590</td>\n",
       "      <td>N#CC1C=CSC=1</td>\n",
       "      <td>3</td>\n",
       "    </tr>\n",
       "    <tr>\n",
       "      <th>66</th>\n",
       "      <td>10.799006</td>\n",
       "      <td>1.854208</td>\n",
       "      <td>43493</td>\n",
       "      <td>C#CC(O)CO</td>\n",
       "      <td>1</td>\n",
       "    </tr>\n",
       "    <tr>\n",
       "      <th>67</th>\n",
       "      <td>10.752815</td>\n",
       "      <td>1.887675</td>\n",
       "      <td>80805</td>\n",
       "      <td>N#CC1=CCOC1</td>\n",
       "      <td>2</td>\n",
       "    </tr>\n",
       "    <tr>\n",
       "      <th>68</th>\n",
       "      <td>10.697695</td>\n",
       "      <td>1.873162</td>\n",
       "      <td>83323</td>\n",
       "      <td>C#CC(O)(C#N)C=O</td>\n",
       "      <td>2</td>\n",
       "    </tr>\n",
       "    <tr>\n",
       "      <th>69</th>\n",
       "      <td>10.675297</td>\n",
       "      <td>1.858146</td>\n",
       "      <td>26523</td>\n",
       "      <td>C=C(N)OC</td>\n",
       "      <td>1</td>\n",
       "    </tr>\n",
       "    <tr>\n",
       "      <th>70</th>\n",
       "      <td>10.654561</td>\n",
       "      <td>1.861082</td>\n",
       "      <td>45069</td>\n",
       "      <td>CC#CC(=O)C=O</td>\n",
       "      <td>14</td>\n",
       "    </tr>\n",
       "    <tr>\n",
       "      <th>71</th>\n",
       "      <td>10.631892</td>\n",
       "      <td>1.865740</td>\n",
       "      <td>1515</td>\n",
       "      <td>O=C1C=CCC1</td>\n",
       "      <td>2</td>\n",
       "    </tr>\n",
       "    <tr>\n",
       "      <th>72</th>\n",
       "      <td>10.602048</td>\n",
       "      <td>1.878257</td>\n",
       "      <td>5403</td>\n",
       "      <td>C#CCCC#CC=O</td>\n",
       "      <td>9</td>\n",
       "    </tr>\n",
       "    <tr>\n",
       "      <th>73</th>\n",
       "      <td>10.592976</td>\n",
       "      <td>1.868357</td>\n",
       "      <td>75394</td>\n",
       "      <td>C#CCC(O)C#CC#N</td>\n",
       "      <td>12</td>\n",
       "    </tr>\n",
       "    <tr>\n",
       "      <th>74</th>\n",
       "      <td>10.565175</td>\n",
       "      <td>1.855985</td>\n",
       "      <td>38658</td>\n",
       "      <td>C#CC#CC(C)C=O</td>\n",
       "      <td>13</td>\n",
       "    </tr>\n",
       "    <tr>\n",
       "      <th>75</th>\n",
       "      <td>10.536168</td>\n",
       "      <td>1.852857</td>\n",
       "      <td>75794</td>\n",
       "      <td>O=CC#CCCO</td>\n",
       "      <td>11</td>\n",
       "    </tr>\n",
       "    <tr>\n",
       "      <th>76</th>\n",
       "      <td>10.494324</td>\n",
       "      <td>1.856279</td>\n",
       "      <td>56127</td>\n",
       "      <td>CC(=O)C#CCO</td>\n",
       "      <td>4</td>\n",
       "    </tr>\n",
       "    <tr>\n",
       "      <th>77</th>\n",
       "      <td>10.490251</td>\n",
       "      <td>1.879947</td>\n",
       "      <td>24453</td>\n",
       "      <td>C#CC(O)C#CCC#N</td>\n",
       "      <td>10</td>\n",
       "    </tr>\n",
       "    <tr>\n",
       "      <th>78</th>\n",
       "      <td>10.440342</td>\n",
       "      <td>1.911788</td>\n",
       "      <td>28111</td>\n",
       "      <td>C#CC(=O)C(O)C#C</td>\n",
       "      <td>1</td>\n",
       "    </tr>\n",
       "    <tr>\n",
       "      <th>79</th>\n",
       "      <td>10.429047</td>\n",
       "      <td>1.895016</td>\n",
       "      <td>74373</td>\n",
       "      <td>C#CC#CCC#CCC</td>\n",
       "      <td>9</td>\n",
       "    </tr>\n",
       "    <tr>\n",
       "      <th>80</th>\n",
       "      <td>10.426534</td>\n",
       "      <td>1.870614</td>\n",
       "      <td>42451</td>\n",
       "      <td>CC#CC#CC(C)C</td>\n",
       "      <td>2</td>\n",
       "    </tr>\n",
       "    <tr>\n",
       "      <th>81</th>\n",
       "      <td>10.356791</td>\n",
       "      <td>1.875363</td>\n",
       "      <td>79386</td>\n",
       "      <td>C=CCON</td>\n",
       "      <td>1</td>\n",
       "    </tr>\n",
       "    <tr>\n",
       "      <th>82</th>\n",
       "      <td>10.338886</td>\n",
       "      <td>1.861892</td>\n",
       "      <td>46546</td>\n",
       "      <td>C#CCCC(=O)C#N</td>\n",
       "      <td>8</td>\n",
       "    </tr>\n",
       "    <tr>\n",
       "      <th>83</th>\n",
       "      <td>10.323349</td>\n",
       "      <td>1.855494</td>\n",
       "      <td>1608</td>\n",
       "      <td>CCC(O)C#CC#N</td>\n",
       "      <td>6</td>\n",
       "    </tr>\n",
       "    <tr>\n",
       "      <th>84</th>\n",
       "      <td>10.323069</td>\n",
       "      <td>1.893014</td>\n",
       "      <td>78263</td>\n",
       "      <td>N#CC1C=CNCC=1</td>\n",
       "      <td>2</td>\n",
       "    </tr>\n",
       "    <tr>\n",
       "      <th>85</th>\n",
       "      <td>10.302088</td>\n",
       "      <td>1.893758</td>\n",
       "      <td>79611</td>\n",
       "      <td>N#CCN1CC=CC1</td>\n",
       "      <td>2</td>\n",
       "    </tr>\n",
       "    <tr>\n",
       "      <th>86</th>\n",
       "      <td>10.296795</td>\n",
       "      <td>1.868371</td>\n",
       "      <td>939</td>\n",
       "      <td>CC#CC(C#N)CC</td>\n",
       "      <td>1</td>\n",
       "    </tr>\n",
       "    <tr>\n",
       "      <th>87</th>\n",
       "      <td>10.275652</td>\n",
       "      <td>1.856006</td>\n",
       "      <td>65928</td>\n",
       "      <td>C#CC#CCCCO</td>\n",
       "      <td>5</td>\n",
       "    </tr>\n",
       "    <tr>\n",
       "      <th>91</th>\n",
       "      <td>10.195708</td>\n",
       "      <td>1.861866</td>\n",
       "      <td>29765</td>\n",
       "      <td>C#CCC(=O)CO</td>\n",
       "      <td>2</td>\n",
       "    </tr>\n",
       "    <tr>\n",
       "      <th>92</th>\n",
       "      <td>10.118188</td>\n",
       "      <td>1.865959</td>\n",
       "      <td>73606</td>\n",
       "      <td>C#CCCCC=O</td>\n",
       "      <td>2</td>\n",
       "    </tr>\n",
       "  </tbody>\n",
       "</table>\n",
       "</div>"
      ],
      "text/plain": [
       "    Abundance  Uncertainty  Index            SMILES  Counts\n",
       "8   13.269550     1.833104  71272            S=[S+]       8\n",
       "9   13.208389     1.817918  74122            [C+]#C      26\n",
       "17  12.851073     1.834660  42075           CC#[S+]      30\n",
       "18  12.838302     1.847769  14546            O=[O+]       9\n",
       "34  12.311587     1.862161   2847      [C+]#CC#[C-]      13\n",
       "36  12.209261     1.866075  25611              N=CO       3\n",
       "37  12.198914     1.838046  67603         C=C=[C+]C      25\n",
       "39  12.120914     1.855056  74764             N#CSN       7\n",
       "43  11.904348     1.860113  57705         N#CC#CC=O      18\n",
       "44  11.782551     1.873986  22953          N#CC1CN1       3\n",
       "47  11.615007     1.857736  41772        C#CC(N)C#N      13\n",
       "48  11.496323     1.858235  34881           CC(=N)O       1\n",
       "49  11.480562     1.922316  84527     N#CC(=C=S)C#N       1\n",
       "50  11.433650     1.851255  47251          C#CC(C)N      13\n",
       "51  11.394831     1.915288  45843     N#CC#CC#CCC#N       8\n",
       "53  11.380845     1.908803  64965  [C+]#CC#CC#CC#CC       8\n",
       "54  11.301452     1.865864  50644    C#CC(=O)C#CC#N      15\n",
       "55  11.289967     1.884636  62440      N#CC(C#N)C=O       6\n",
       "57  11.277346     1.864263  56929             C=CCI       4\n",
       "58  11.211613     1.890868  88651       N#CC#CCCC#N       4\n",
       "59  11.205308     1.863886  36090            C=CC=O       5\n",
       "60  11.200914     1.868153  64022         CC#CC1CO1       6\n",
       "61  11.030347     1.869349  11649         CC#CC#CCC      13\n",
       "63  10.856794     1.871130  81516        C#CC(=O)NC       6\n",
       "64  10.856022     1.903158  85514    C#CC#CC1CC1C#N       5\n",
       "65  10.805035     1.877376  79590      N#CC1C=CSC=1       3\n",
       "66  10.799006     1.854208  43493         C#CC(O)CO       1\n",
       "67  10.752815     1.887675  80805       N#CC1=CCOC1       2\n",
       "68  10.697695     1.873162  83323   C#CC(O)(C#N)C=O       2\n",
       "69  10.675297     1.858146  26523          C=C(N)OC       1\n",
       "70  10.654561     1.861082  45069      CC#CC(=O)C=O      14\n",
       "71  10.631892     1.865740   1515        O=C1C=CCC1       2\n",
       "72  10.602048     1.878257   5403       C#CCCC#CC=O       9\n",
       "73  10.592976     1.868357  75394    C#CCC(O)C#CC#N      12\n",
       "74  10.565175     1.855985  38658     C#CC#CC(C)C=O      13\n",
       "75  10.536168     1.852857  75794         O=CC#CCCO      11\n",
       "76  10.494324     1.856279  56127       CC(=O)C#CCO       4\n",
       "77  10.490251     1.879947  24453    C#CC(O)C#CCC#N      10\n",
       "78  10.440342     1.911788  28111   C#CC(=O)C(O)C#C       1\n",
       "79  10.429047     1.895016  74373      C#CC#CCC#CCC       9\n",
       "80  10.426534     1.870614  42451      CC#CC#CC(C)C       2\n",
       "81  10.356791     1.875363  79386            C=CCON       1\n",
       "82  10.338886     1.861892  46546     C#CCCC(=O)C#N       8\n",
       "83  10.323349     1.855494   1608      CCC(O)C#CC#N       6\n",
       "84  10.323069     1.893014  78263     N#CC1C=CNCC=1       2\n",
       "85  10.302088     1.893758  79611      N#CCN1CC=CC1       2\n",
       "86  10.296795     1.868371    939      CC#CC(C#N)CC       1\n",
       "87  10.275652     1.856006  65928        C#CC#CCCCO       5\n",
       "91  10.195708     1.861866  29765       C#CCC(=O)CO       2\n",
       "92  10.118188     1.865959  73606         C#CCCCC=O       2"
      ]
     },
     "execution_count": 45,
     "metadata": {},
     "output_type": "execute_result"
    }
   ],
   "source": [
    "gp_recommendations"
   ]
  },
  {
   "cell_type": "code",
   "execution_count": 46,
   "metadata": {},
   "outputs": [],
   "source": [
    "gp_recommendations.to_csv(\"gp_recommendations_nocluster_filtered.csv\", index=False)"
   ]
  },
  {
   "cell_type": "code",
   "execution_count": 47,
   "metadata": {},
   "outputs": [
    {
     "name": "stderr",
     "output_type": "stream",
     "text": [
      "2021-02-25 13:06:56.903 | INFO     | umda.classes:recommend:331 - Using the following clusters: dask.array<getitem, shape=(nan,), dtype=int32, chunksize=(nan,), chunktype=numpy.ndarray>\n",
      "2021-02-25 13:06:56.914 | INFO     | umda.classes:recommend:340 - There are nan molecules in this aggregate.\n"
     ]
    }
   ],
   "source": [
    "gp_cluster_df = mrs_gp.recommend(X=tmc1_embedding, cluster=True, h5_data=data)"
   ]
  },
  {
   "cell_type": "code",
   "execution_count": 49,
   "metadata": {},
   "outputs": [
    {
     "data": {
      "text/html": [
       "<div>\n",
       "<style scoped>\n",
       "    .dataframe tbody tr th:only-of-type {\n",
       "        vertical-align: middle;\n",
       "    }\n",
       "\n",
       "    .dataframe tbody tr th {\n",
       "        vertical-align: top;\n",
       "    }\n",
       "\n",
       "    .dataframe thead th {\n",
       "        text-align: right;\n",
       "    }\n",
       "</style>\n",
       "<table border=\"1\" class=\"dataframe\">\n",
       "  <thead>\n",
       "    <tr style=\"text-align: right;\">\n",
       "      <th></th>\n",
       "      <th>Abundance</th>\n",
       "      <th>Uncertainty</th>\n",
       "      <th>Index</th>\n",
       "      <th>SMILES</th>\n",
       "      <th>Counts</th>\n",
       "    </tr>\n",
       "  </thead>\n",
       "  <tbody>\n",
       "    <tr>\n",
       "      <th>0</th>\n",
       "      <td>9.470241</td>\n",
       "      <td>1.940433</td>\n",
       "      <td>18395</td>\n",
       "      <td>C#CC1COC2CC2C1</td>\n",
       "      <td>5</td>\n",
       "    </tr>\n",
       "    <tr>\n",
       "      <th>1</th>\n",
       "      <td>8.872396</td>\n",
       "      <td>1.934734</td>\n",
       "      <td>19964</td>\n",
       "      <td>CC1:C:[NH]:C(C=O):N:1</td>\n",
       "      <td>1</td>\n",
       "    </tr>\n",
       "    <tr>\n",
       "      <th>2</th>\n",
       "      <td>8.829399</td>\n",
       "      <td>1.911380</td>\n",
       "      <td>416</td>\n",
       "      <td>CC1CC=CC(CO)C1</td>\n",
       "      <td>1</td>\n",
       "    </tr>\n",
       "    <tr>\n",
       "      <th>3</th>\n",
       "      <td>8.701645</td>\n",
       "      <td>1.968171</td>\n",
       "      <td>9431</td>\n",
       "      <td>C1OC1C12CC1N1CC12</td>\n",
       "      <td>1</td>\n",
       "    </tr>\n",
       "    <tr>\n",
       "      <th>4</th>\n",
       "      <td>8.693258</td>\n",
       "      <td>1.968784</td>\n",
       "      <td>19318</td>\n",
       "      <td>C#CC(O)c1ccncc1</td>\n",
       "      <td>1</td>\n",
       "    </tr>\n",
       "    <tr>\n",
       "      <th>5</th>\n",
       "      <td>8.634320</td>\n",
       "      <td>1.948234</td>\n",
       "      <td>27535</td>\n",
       "      <td>N=C1OCC1COC=O</td>\n",
       "      <td>1</td>\n",
       "    </tr>\n",
       "    <tr>\n",
       "      <th>6</th>\n",
       "      <td>8.261837</td>\n",
       "      <td>1.945674</td>\n",
       "      <td>26734</td>\n",
       "      <td>O=P(Cl)(Cl)C1C=CC=CC=1</td>\n",
       "      <td>2</td>\n",
       "    </tr>\n",
       "    <tr>\n",
       "      <th>7</th>\n",
       "      <td>7.956397</td>\n",
       "      <td>1.944555</td>\n",
       "      <td>359</td>\n",
       "      <td>Cn1cc(Cl)c(CN)n1</td>\n",
       "      <td>2</td>\n",
       "    </tr>\n",
       "    <tr>\n",
       "      <th>8</th>\n",
       "      <td>7.930492</td>\n",
       "      <td>1.857817</td>\n",
       "      <td>15497</td>\n",
       "      <td>NCCCC(=O)C(=O)O</td>\n",
       "      <td>17</td>\n",
       "    </tr>\n",
       "    <tr>\n",
       "      <th>9</th>\n",
       "      <td>7.771595</td>\n",
       "      <td>1.950596</td>\n",
       "      <td>14433</td>\n",
       "      <td>CC(=O)OCC(Br)CBr</td>\n",
       "      <td>24</td>\n",
       "    </tr>\n",
       "    <tr>\n",
       "      <th>10</th>\n",
       "      <td>7.745927</td>\n",
       "      <td>2.009088</td>\n",
       "      <td>15002</td>\n",
       "      <td>OC1C2CCC1C1CCCC21</td>\n",
       "      <td>7</td>\n",
       "    </tr>\n",
       "    <tr>\n",
       "      <th>11</th>\n",
       "      <td>7.724165</td>\n",
       "      <td>1.907763</td>\n",
       "      <td>26636</td>\n",
       "      <td>CCC1C=C(C)C=CC=1C</td>\n",
       "      <td>12</td>\n",
       "    </tr>\n",
       "    <tr>\n",
       "      <th>12</th>\n",
       "      <td>7.699120</td>\n",
       "      <td>2.067072</td>\n",
       "      <td>5861</td>\n",
       "      <td>O=S1(=O)CCCC(CO)C1</td>\n",
       "      <td>3</td>\n",
       "    </tr>\n",
       "    <tr>\n",
       "      <th>13</th>\n",
       "      <td>7.662720</td>\n",
       "      <td>1.997001</td>\n",
       "      <td>647</td>\n",
       "      <td>C1CC1OC1CC2(COC2)C1</td>\n",
       "      <td>13</td>\n",
       "    </tr>\n",
       "    <tr>\n",
       "      <th>14</th>\n",
       "      <td>7.182805</td>\n",
       "      <td>1.946014</td>\n",
       "      <td>13521</td>\n",
       "      <td>C#CCCCn1cc(C)nn1</td>\n",
       "      <td>18</td>\n",
       "    </tr>\n",
       "    <tr>\n",
       "      <th>15</th>\n",
       "      <td>7.048989</td>\n",
       "      <td>2.012643</td>\n",
       "      <td>27554</td>\n",
       "      <td>O=C1NCCNc2ccccc21</td>\n",
       "      <td>3</td>\n",
       "    </tr>\n",
       "    <tr>\n",
       "      <th>16</th>\n",
       "      <td>7.044072</td>\n",
       "      <td>1.918381</td>\n",
       "      <td>20627</td>\n",
       "      <td>CN(CCCF)CC1(C#N)CC1</td>\n",
       "      <td>1</td>\n",
       "    </tr>\n",
       "    <tr>\n",
       "      <th>17</th>\n",
       "      <td>6.975981</td>\n",
       "      <td>1.996467</td>\n",
       "      <td>1187</td>\n",
       "      <td>Nc1nnc(s1)C1CCCO1</td>\n",
       "      <td>9</td>\n",
       "    </tr>\n",
       "    <tr>\n",
       "      <th>18</th>\n",
       "      <td>6.767549</td>\n",
       "      <td>1.960325</td>\n",
       "      <td>3647</td>\n",
       "      <td>O=C(O)c1ncn2CCCCc12</td>\n",
       "      <td>1</td>\n",
       "    </tr>\n",
       "    <tr>\n",
       "      <th>19</th>\n",
       "      <td>6.681194</td>\n",
       "      <td>1.888401</td>\n",
       "      <td>19238</td>\n",
       "      <td>C#CCN(C)C(=O)C(C)(C)CO</td>\n",
       "      <td>6</td>\n",
       "    </tr>\n",
       "  </tbody>\n",
       "</table>\n",
       "</div>"
      ],
      "text/plain": [
       "    Abundance  Uncertainty  Index                  SMILES  Counts\n",
       "0    9.470241     1.940433  18395          C#CC1COC2CC2C1       5\n",
       "1    8.872396     1.934734  19964   CC1:C:[NH]:C(C=O):N:1       1\n",
       "2    8.829399     1.911380    416          CC1CC=CC(CO)C1       1\n",
       "3    8.701645     1.968171   9431       C1OC1C12CC1N1CC12       1\n",
       "4    8.693258     1.968784  19318         C#CC(O)c1ccncc1       1\n",
       "5    8.634320     1.948234  27535           N=C1OCC1COC=O       1\n",
       "6    8.261837     1.945674  26734  O=P(Cl)(Cl)C1C=CC=CC=1       2\n",
       "7    7.956397     1.944555    359        Cn1cc(Cl)c(CN)n1       2\n",
       "8    7.930492     1.857817  15497         NCCCC(=O)C(=O)O      17\n",
       "9    7.771595     1.950596  14433        CC(=O)OCC(Br)CBr      24\n",
       "10   7.745927     2.009088  15002       OC1C2CCC1C1CCCC21       7\n",
       "11   7.724165     1.907763  26636       CCC1C=C(C)C=CC=1C      12\n",
       "12   7.699120     2.067072   5861      O=S1(=O)CCCC(CO)C1       3\n",
       "13   7.662720     1.997001    647     C1CC1OC1CC2(COC2)C1      13\n",
       "14   7.182805     1.946014  13521        C#CCCCn1cc(C)nn1      18\n",
       "15   7.048989     2.012643  27554       O=C1NCCNc2ccccc21       3\n",
       "16   7.044072     1.918381  20627     CN(CCCF)CC1(C#N)CC1       1\n",
       "17   6.975981     1.996467   1187       Nc1nnc(s1)C1CCCO1       9\n",
       "18   6.767549     1.960325   3647     O=C(O)c1ncn2CCCCc12       1\n",
       "19   6.681194     1.888401  19238  C#CCN(C)C(=O)C(C)(C)CO       6"
      ]
     },
     "execution_count": 49,
     "metadata": {},
     "output_type": "execute_result"
    }
   ],
   "source": [
    "gp_cluster_df.sort_values([\"Abundance\"], ascending=False).head(20)"
   ]
  },
  {
   "cell_type": "code",
   "execution_count": 11,
   "metadata": {},
   "outputs": [],
   "source": [
    "comp = gp_cluster_df.sort_values([\"Abundance\"], ascending=False).head(15)[\"SMILES\"].to_list()"
   ]
  },
  {
   "cell_type": "code",
   "execution_count": 12,
   "metadata": {},
   "outputs": [
    {
     "data": {
      "text/plain": [
       "['C#CC1COC2CC2C1',\n",
       " 'CC1:C:[NH]:C(C=O):N:1',\n",
       " 'CC1CC=CC(CO)C1',\n",
       " 'C#CC(O)c1ccncc1',\n",
       " 'C1OC1C12CC1N1CC12',\n",
       " 'N=C1OCC1COC=O',\n",
       " 'O=P(Cl)(Cl)C1C=CC=CC=1',\n",
       " 'Cn1cc(Cl)c(CN)n1',\n",
       " 'NCCCC(=O)C(=O)O',\n",
       " 'CCC1C=C(C)C=CC=1C',\n",
       " 'CC(=O)OCC(Br)CBr',\n",
       " 'OC1C2CCC1C1CCCC21',\n",
       " 'O=S1(=O)CCCC(CO)C1',\n",
       " 'C1CC1OC1CC2(COC2)C1',\n",
       " 'C#CCCCn1cc(C)nn1']"
      ]
     },
     "execution_count": 12,
     "metadata": {},
     "output_type": "execute_result"
    }
   ],
   "source": [
    "comp"
   ]
  },
  {
   "cell_type": "markdown",
   "metadata": {},
   "source": [
    "## Using gradient boosting for recommendations"
   ]
  },
  {
   "cell_type": "code",
   "execution_count": 2,
   "metadata": {},
   "outputs": [
    {
     "data": {
      "text/plain": [
       "['../../models/best_gbr_estimator.pkl']"
      ]
     },
     "execution_count": 2,
     "metadata": {},
     "output_type": "execute_result"
    }
   ],
   "source": [
    "boost_grid = load(\"../../models/gradient_boosting_grid.pkl\")\n",
    "\n",
    "dump(boost_grid.best_estimator_, \"../../models/best_gbr_estimator.pkl\")"
   ]
  },
  {
   "cell_type": "code",
   "execution_count": 7,
   "metadata": {},
   "outputs": [
    {
     "name": "stderr",
     "output_type": "stream",
     "text": [
      "2020-12-08 09:14:02.678 | INFO     | umda.classes:save:224 - Saved MRS to ../../models/TMC1_MRS_GBR.pkl\n"
     ]
    }
   ],
   "source": [
    "mrs_gbr = MRS.from_pickle(\"../../models/kmeans_model.pkl\", \"../../models/best_gbr_estimator.pkl\")\n",
    "\n",
    "mrs_gbr.save(\"../../models/TMC1_MRS_GBR.pkl\")"
   ]
  },
  {
   "cell_type": "code",
   "execution_count": null,
   "metadata": {},
   "outputs": [
    {
     "name": "stderr",
     "output_type": "stream",
     "text": [
      "2020-12-08 09:17:06.637 | INFO     | umda.classes:recommend:190 - There are 3857598 molecules in this aggregate.\n"
     ]
    }
   ],
   "source": [
    "gbr_nocluster_df = mrs_gbr.recommend(X=tmc1_embedding, cluster=False, h5_data=data)"
   ]
  },
  {
   "cell_type": "code",
   "execution_count": 8,
   "metadata": {},
   "outputs": [
    {
     "name": "stderr",
     "output_type": "stream",
     "text": [
      "2020-12-08 09:14:18.471 | INFO     | umda.classes:recommend:181 - Using the following clusters: [ 8  9 13]\n",
      "2020-12-08 09:14:57.906 | INFO     | umda.classes:recommend:190 - There are 914160 molecules in this aggregate.\n"
     ]
    }
   ],
   "source": [
    "gbr_cluster_df = mrs_gbr.recommend(X=tmc1_embedding, cluster=True, h5_data=data, dist_thres=1e-4)"
   ]
  },
  {
   "cell_type": "code",
   "execution_count": 89,
   "metadata": {},
   "outputs": [
    {
     "ename": "NameError",
     "evalue": "name 'gbr_cluster_df' is not defined",
     "output_type": "error",
     "traceback": [
      "\u001b[0;31m---------------------------------------------------------------------------\u001b[0m",
      "\u001b[0;31mNameError\u001b[0m                                 Traceback (most recent call last)",
      "\u001b[0;32m<ipython-input-89-a7b290839519>\u001b[0m in \u001b[0;36m<module>\u001b[0;34m\u001b[0m\n\u001b[0;32m----> 1\u001b[0;31m \u001b[0mgbr_cluster_df\u001b[0m\u001b[0;34m.\u001b[0m\u001b[0mhead\u001b[0m\u001b[0;34m(\u001b[0m\u001b[0;36m50\u001b[0m\u001b[0;34m)\u001b[0m\u001b[0;34m\u001b[0m\u001b[0;34m\u001b[0m\u001b[0m\n\u001b[0m",
      "\u001b[0;31mNameError\u001b[0m: name 'gbr_cluster_df' is not defined"
     ]
    }
   ],
   "source": [
    "gbr_cluster_df.head(50)"
   ]
  },
  {
   "cell_type": "code",
   "execution_count": 154,
   "metadata": {},
   "outputs": [],
   "source": [
    "from subprocess import Popen, PIPE\n",
    "import matplotlib.image as image\n",
    "from matplotlib.offsetbox import AnnotationBbox, OffsetImage"
   ]
  },
  {
   "cell_type": "code",
   "execution_count": 155,
   "metadata": {},
   "outputs": [],
   "source": [
    "def add_image(axis, filepath, zoom=0.15, position=[0.0, 0.0]):\n",
    "    \"\"\"\n",
    "        Function to add an image annotation to a specified axis.\n",
    "        Takes the matplotlib axis and filepath to the image as input,\n",
    "        and optional arguments for the scaling (zoom) and position of\n",
    "        the image in axis units.\n",
    "    \"\"\"\n",
    "    image = OffsetImage(plt.imread(filepath, format=\"png\"), zoom=zoom)\n",
    "    image.image.axes = axis\n",
    "\n",
    "    box = AnnotationBbox(\n",
    "        image, position, xybox=position, xycoords=\"data\", frameon=False\n",
    "    )\n",
    "    axis.add_artist(box)\n"
   ]
  },
  {
   "cell_type": "code",
   "execution_count": 156,
   "metadata": {},
   "outputs": [],
   "source": [
    "for index, smi in enumerate(comp):\n",
    "    cmd = f\"\"\"obabel -:\"{smi}\" -opng\"\"\"\n",
    "    with open(f\"molecules/{index}.png\", \"w+\") as write_file:\n",
    "        proc = Popen(cmd, stdout=write_file, shell=True)"
   ]
  },
  {
   "cell_type": "code",
   "execution_count": 157,
   "metadata": {},
   "outputs": [],
   "source": [
    "selected = gbr_cluster_df.loc[gbr_cluster_df[\"SMILES\"].isin(comp[:10])]\n",
    "gp_selected = gp_cluster_df.loc[gp_cluster_df[\"SMILES\"].isin(comp[:10])]\n",
    "\n",
    "selected.reset_index(inplace=True, drop=True)"
   ]
  },
  {
   "cell_type": "code",
   "execution_count": 158,
   "metadata": {},
   "outputs": [
    {
     "data": {
      "image/png": "[encoded data removed]",
      "text/plain": [
       "<Figure size 2400x1200 with 1 Axes>"
      ]
     },
     "metadata": {},
     "output_type": "display_data"
    }
   ],
   "source": [
    "fig, ax = plt.subplots(figsize=(8, 4))\n",
    "\n",
    "ax.bar(np.arange(len(selected)), selected[\"Abundance\"], yerr=gp_selected[\"Uncertainty\"], capsize=5, linewidth=1., edgecolor=\"k\")\n",
    "ax.set_xticks(np.arange(len(selected)))\n",
    "ax.set_xticklabels(comp, rotation=45)\n",
    "for index, row in selected.iterrows():\n",
    "    add_image(ax, f\"molecules/{index}.png\", zoom=0.15, position=[index, row[\"Abundance\"] + 4.])\n",
    "ax.set_ylim([0., 25.])\n",
    "ax.set_ylabel(\"log $N_{col}$ (cm$^{-2}$)\")\n",
    "fig.savefig(\"example-predictions.png\", dpi=300, transparent=True)"
   ]
  },
  {
   "cell_type": "markdown",
   "metadata": {},
   "source": [
    "## Requests"
   ]
  },
  {
   "cell_type": "code",
   "execution_count": 50,
   "metadata": {},
   "outputs": [],
   "source": [
    "targets = [\n",
    "    \"C1=CNC=C1\",   # pyrrole\n",
    "    \"C1=CC=NC=C1\", # pyridine\n",
    "    \"C1=CC=C(C(=C1)C#N)C#N\", # ortho-DCB\n",
    "    \"C(C(=O)O)N\", # glycine\n",
    "    \"C1C=CC2=CC=CC=C21\", # indene\n",
    "    \"C1=CC=CC=C1\", # benzene\n",
    "    \"C1=CC=C(C=C1)O\", # phenol\n",
    "    \"C1=CC=C2C=C3C=CC=CC3=CC2=C1\", # anthracene\n",
    "    \"C1=CC=C2C=CC=CC2=C1\", # naphthalene\n",
    "    \"C#N\", # hydrogen cyanide\n",
    "]"
   ]
  },
  {
   "cell_type": "code",
   "execution_count": 51,
   "metadata": {},
   "outputs": [],
   "source": [
    "target_df = mrs_gp.predict(smi=targets, embedding_model=embedder)"
   ]
  },
  {
   "cell_type": "code",
   "execution_count": 52,
   "metadata": {},
   "outputs": [],
   "source": [
    "target_df[\"Name\"] = [\"Pyrrole\", \"Pyridine\", \"ortho-DCB\", \"Glycine\", \"Indene\", \"Benzene\", \"Phenol\", \"Anthracene\", \"Naphthalene\", \"Hydrogen cyanide\"]"
   ]
  },
  {
   "cell_type": "code",
   "execution_count": 53,
   "metadata": {},
   "outputs": [
    {
     "data": {
      "text/html": [
       "<div>\n",
       "<style scoped>\n",
       "    .dataframe tbody tr th:only-of-type {\n",
       "        vertical-align: middle;\n",
       "    }\n",
       "\n",
       "    .dataframe tbody tr th {\n",
       "        vertical-align: top;\n",
       "    }\n",
       "\n",
       "    .dataframe thead th {\n",
       "        text-align: right;\n",
       "    }\n",
       "</style>\n",
       "<table border=\"1\" class=\"dataframe\">\n",
       "  <thead>\n",
       "    <tr style=\"text-align: right;\">\n",
       "      <th></th>\n",
       "      <th>Abundance</th>\n",
       "      <th>Uncertainty</th>\n",
       "      <th>SMILES</th>\n",
       "      <th>Name</th>\n",
       "    </tr>\n",
       "  </thead>\n",
       "  <tbody>\n",
       "    <tr>\n",
       "      <th>0</th>\n",
       "      <td>11.342027</td>\n",
       "      <td>1.880711</td>\n",
       "      <td>C1=CNC=C1</td>\n",
       "      <td>Pyrrole</td>\n",
       "    </tr>\n",
       "    <tr>\n",
       "      <th>1</th>\n",
       "      <td>10.756382</td>\n",
       "      <td>1.889131</td>\n",
       "      <td>C1=CC=NC=C1</td>\n",
       "      <td>Pyridine</td>\n",
       "    </tr>\n",
       "    <tr>\n",
       "      <th>2</th>\n",
       "      <td>10.147371</td>\n",
       "      <td>1.924440</td>\n",
       "      <td>C1=CC=C(C(=C1)C#N)C#N</td>\n",
       "      <td>ortho-DCB</td>\n",
       "    </tr>\n",
       "    <tr>\n",
       "      <th>3</th>\n",
       "      <td>10.566735</td>\n",
       "      <td>1.848942</td>\n",
       "      <td>C(C(=O)O)N</td>\n",
       "      <td>Glycine</td>\n",
       "    </tr>\n",
       "    <tr>\n",
       "      <th>4</th>\n",
       "      <td>9.572698</td>\n",
       "      <td>1.905230</td>\n",
       "      <td>C1C=CC2=CC=CC=C21</td>\n",
       "      <td>Indene</td>\n",
       "    </tr>\n",
       "    <tr>\n",
       "      <th>5</th>\n",
       "      <td>11.170639</td>\n",
       "      <td>1.904580</td>\n",
       "      <td>C1=CC=CC=C1</td>\n",
       "      <td>Benzene</td>\n",
       "    </tr>\n",
       "    <tr>\n",
       "      <th>6</th>\n",
       "      <td>10.427209</td>\n",
       "      <td>1.888029</td>\n",
       "      <td>C1=CC=C(C=C1)O</td>\n",
       "      <td>Phenol</td>\n",
       "    </tr>\n",
       "    <tr>\n",
       "      <th>7</th>\n",
       "      <td>7.024256</td>\n",
       "      <td>2.050570</td>\n",
       "      <td>C1=CC=C2C=C3C=CC=CC3=CC2=C1</td>\n",
       "      <td>Anthracene</td>\n",
       "    </tr>\n",
       "    <tr>\n",
       "      <th>8</th>\n",
       "      <td>9.131197</td>\n",
       "      <td>1.962772</td>\n",
       "      <td>C1=CC=C2C=CC=CC2=C1</td>\n",
       "      <td>Naphthalene</td>\n",
       "    </tr>\n",
       "    <tr>\n",
       "      <th>9</th>\n",
       "      <td>12.691491</td>\n",
       "      <td>0.517970</td>\n",
       "      <td>C#N</td>\n",
       "      <td>Hydrogen cyanide</td>\n",
       "    </tr>\n",
       "  </tbody>\n",
       "</table>\n",
       "</div>"
      ],
      "text/plain": [
       "   Abundance  Uncertainty                       SMILES              Name\n",
       "0  11.342027     1.880711                    C1=CNC=C1           Pyrrole\n",
       "1  10.756382     1.889131                  C1=CC=NC=C1          Pyridine\n",
       "2  10.147371     1.924440        C1=CC=C(C(=C1)C#N)C#N         ortho-DCB\n",
       "3  10.566735     1.848942                   C(C(=O)O)N           Glycine\n",
       "4   9.572698     1.905230            C1C=CC2=CC=CC=C21            Indene\n",
       "5  11.170639     1.904580                  C1=CC=CC=C1           Benzene\n",
       "6  10.427209     1.888029               C1=CC=C(C=C1)O            Phenol\n",
       "7   7.024256     2.050570  C1=CC=C2C=C3C=CC=CC3=CC2=C1        Anthracene\n",
       "8   9.131197     1.962772          C1=CC=C2C=CC=CC2=C1       Naphthalene\n",
       "9  12.691491     0.517970                          C#N  Hydrogen cyanide"
      ]
     },
     "execution_count": 53,
     "metadata": {},
     "output_type": "execute_result"
    }
   ],
   "source": [
    "target_df"
   ]
  },
  {
   "cell_type": "code",
   "execution_count": 19,
   "metadata": {},
   "outputs": [],
   "source": [
    "indene = np.sum([1345768928638.639, 2727913957371.784, 1753385269270.761, 3079442410060.451])"
   ]
  },
  {
   "cell_type": "code",
   "execution_count": 20,
   "metadata": {},
   "outputs": [
    {
     "name": "stdout",
     "output_type": "stream",
     "text": [
      "8.9065e+12\n"
     ]
    }
   ],
   "source": [
    "print(f\"{indene:.4e}\")"
   ]
  },
  {
   "cell_type": "code",
   "execution_count": 21,
   "metadata": {},
   "outputs": [],
   "source": [
    "tmc1_predict = mrs_gp.predict(X=tmc1_embedding, smi=tmc1_df[\"SMILES\"].to_list())"
   ]
  },
  {
   "cell_type": "code",
   "execution_count": 22,
   "metadata": {},
   "outputs": [],
   "source": [
    "tmc1_predict[\"Observed\"] = np.log10(tmc1_df[\"Column density (cm^-2)\"].values)"
   ]
  },
  {
   "cell_type": "code",
   "execution_count": 24,
   "metadata": {},
   "outputs": [
    {
     "data": {
      "text/html": [
       "<div>\n",
       "<style scoped>\n",
       "    .dataframe tbody tr th:only-of-type {\n",
       "        vertical-align: middle;\n",
       "    }\n",
       "\n",
       "    .dataframe tbody tr th {\n",
       "        vertical-align: top;\n",
       "    }\n",
       "\n",
       "    .dataframe thead th {\n",
       "        text-align: right;\n",
       "    }\n",
       "</style>\n",
       "<table border=\"1\" class=\"dataframe\">\n",
       "  <thead>\n",
       "    <tr style=\"text-align: right;\">\n",
       "      <th></th>\n",
       "      <th>Abundance</th>\n",
       "      <th>Uncertainty</th>\n",
       "      <th>SMILES</th>\n",
       "      <th>Observed</th>\n",
       "    </tr>\n",
       "  </thead>\n",
       "  <tbody>\n",
       "    <tr>\n",
       "      <th>60</th>\n",
       "      <td>12.209865</td>\n",
       "      <td>0.705337</td>\n",
       "      <td>C#CC#C[C+]=O</td>\n",
       "      <td>12.230449</td>\n",
       "    </tr>\n",
       "    <tr>\n",
       "      <th>61</th>\n",
       "      <td>11.443057</td>\n",
       "      <td>0.705723</td>\n",
       "      <td>C=N</td>\n",
       "      <td>11.176091</td>\n",
       "    </tr>\n",
       "    <tr>\n",
       "      <th>62</th>\n",
       "      <td>13.012256</td>\n",
       "      <td>0.705765</td>\n",
       "      <td>C=O</td>\n",
       "      <td>13.079181</td>\n",
       "    </tr>\n",
       "    <tr>\n",
       "      <th>63</th>\n",
       "      <td>11.487834</td>\n",
       "      <td>0.705322</td>\n",
       "      <td>C#CC#[O+]</td>\n",
       "      <td>11.322219</td>\n",
       "    </tr>\n",
       "    <tr>\n",
       "      <th>64</th>\n",
       "      <td>11.726483</td>\n",
       "      <td>0.705708</td>\n",
       "      <td>O=C=[OH+]</td>\n",
       "      <td>11.602060</td>\n",
       "    </tr>\n",
       "    <tr>\n",
       "      <th>65</th>\n",
       "      <td>11.679801</td>\n",
       "      <td>0.705798</td>\n",
       "      <td>C=[OH+]</td>\n",
       "      <td>11.477121</td>\n",
       "    </tr>\n",
       "    <tr>\n",
       "      <th>66</th>\n",
       "      <td>10.892450</td>\n",
       "      <td>0.705462</td>\n",
       "      <td>NC#[O+]</td>\n",
       "      <td>10.602060</td>\n",
       "    </tr>\n",
       "    <tr>\n",
       "      <th>67</th>\n",
       "      <td>11.103087</td>\n",
       "      <td>0.705668</td>\n",
       "      <td>C#NO</td>\n",
       "      <td>10.845098</td>\n",
       "    </tr>\n",
       "    <tr>\n",
       "      <th>68</th>\n",
       "      <td>11.323161</td>\n",
       "      <td>0.705201</td>\n",
       "      <td>N#CO</td>\n",
       "      <td>11.041393</td>\n",
       "    </tr>\n",
       "    <tr>\n",
       "      <th>69</th>\n",
       "      <td>20.626199</td>\n",
       "      <td>0.699954</td>\n",
       "      <td>[HH]</td>\n",
       "      <td>22.000000</td>\n",
       "    </tr>\n",
       "    <tr>\n",
       "      <th>70</th>\n",
       "      <td>11.357431</td>\n",
       "      <td>0.518117</td>\n",
       "      <td>C#CC#C=O</td>\n",
       "      <td>11.079181</td>\n",
       "    </tr>\n",
       "    <tr>\n",
       "      <th>71</th>\n",
       "      <td>12.116688</td>\n",
       "      <td>0.706401</td>\n",
       "      <td>O=CO</td>\n",
       "      <td>12.146128</td>\n",
       "    </tr>\n",
       "    <tr>\n",
       "      <th>72</th>\n",
       "      <td>12.099364</td>\n",
       "      <td>0.705487</td>\n",
       "      <td>C#C=O</td>\n",
       "      <td>12.000000</td>\n",
       "    </tr>\n",
       "  </tbody>\n",
       "</table>\n",
       "</div>"
      ],
      "text/plain": [
       "    Abundance  Uncertainty        SMILES   Observed\n",
       "60  12.209865     0.705337  C#CC#C[C+]=O  12.230449\n",
       "61  11.443057     0.705723           C=N  11.176091\n",
       "62  13.012256     0.705765           C=O  13.079181\n",
       "63  11.487834     0.705322     C#CC#[O+]  11.322219\n",
       "64  11.726483     0.705708     O=C=[OH+]  11.602060\n",
       "65  11.679801     0.705798       C=[OH+]  11.477121\n",
       "66  10.892450     0.705462       NC#[O+]  10.602060\n",
       "67  11.103087     0.705668          C#NO  10.845098\n",
       "68  11.323161     0.705201          N#CO  11.041393\n",
       "69  20.626199     0.699954          [HH]  22.000000\n",
       "70  11.357431     0.518117      C#CC#C=O  11.079181\n",
       "71  12.116688     0.706401          O=CO  12.146128\n",
       "72  12.099364     0.705487         C#C=O  12.000000"
      ]
     },
     "execution_count": 24,
     "metadata": {},
     "output_type": "execute_result"
    }
   ],
   "source": [
    "tmc1_predict.iloc[60:73]"
   ]
  },
  {
   "cell_type": "code",
   "execution_count": 25,
   "metadata": {},
   "outputs": [
    {
     "data": {
      "text/html": [
       "<div>\n",
       "<style scoped>\n",
       "    .dataframe tbody tr th:only-of-type {\n",
       "        vertical-align: middle;\n",
       "    }\n",
       "\n",
       "    .dataframe tbody tr th {\n",
       "        vertical-align: top;\n",
       "    }\n",
       "\n",
       "    .dataframe thead th {\n",
       "        text-align: right;\n",
       "    }\n",
       "</style>\n",
       "<table border=\"1\" class=\"dataframe\">\n",
       "  <thead>\n",
       "    <tr style=\"text-align: right;\">\n",
       "      <th></th>\n",
       "      <th>Abundance</th>\n",
       "      <th>Uncertainty</th>\n",
       "      <th>SMILES</th>\n",
       "      <th>Observed</th>\n",
       "    </tr>\n",
       "  </thead>\n",
       "  <tbody>\n",
       "    <tr>\n",
       "      <th>42</th>\n",
       "      <td>11.869127</td>\n",
       "      <td>0.716729</td>\n",
       "      <td>C#CC#CC#CC#CC#CC#N</td>\n",
       "      <td>12.017033</td>\n",
       "    </tr>\n",
       "    <tr>\n",
       "      <th>24</th>\n",
       "      <td>13.803616</td>\n",
       "      <td>0.518019</td>\n",
       "      <td>C#CC#N</td>\n",
       "      <td>13.550228</td>\n",
       "    </tr>\n",
       "    <tr>\n",
       "      <th>4</th>\n",
       "      <td>12.789403</td>\n",
       "      <td>0.705246</td>\n",
       "      <td>N#[NH+]</td>\n",
       "      <td>12.698970</td>\n",
       "    </tr>\n",
       "    <tr>\n",
       "      <th>50</th>\n",
       "      <td>11.165463</td>\n",
       "      <td>0.706468</td>\n",
       "      <td>C=CC#CC#N</td>\n",
       "      <td>11.071882</td>\n",
       "    </tr>\n",
       "    <tr>\n",
       "      <th>11</th>\n",
       "      <td>12.369172</td>\n",
       "      <td>0.706473</td>\n",
       "      <td>C=C=C</td>\n",
       "      <td>12.397940</td>\n",
       "    </tr>\n",
       "    <tr>\n",
       "      <th>34</th>\n",
       "      <td>12.663339</td>\n",
       "      <td>0.707321</td>\n",
       "      <td>C#CC#CC#C</td>\n",
       "      <td>12.740363</td>\n",
       "    </tr>\n",
       "    <tr>\n",
       "      <th>79</th>\n",
       "      <td>11.202186</td>\n",
       "      <td>0.705875</td>\n",
       "      <td>N#CC#[NH+]</td>\n",
       "      <td>10.934498</td>\n",
       "    </tr>\n",
       "    <tr>\n",
       "      <th>16</th>\n",
       "      <td>12.949444</td>\n",
       "      <td>0.705550</td>\n",
       "      <td>N=C=O</td>\n",
       "      <td>13.029384</td>\n",
       "    </tr>\n",
       "    <tr>\n",
       "      <th>26</th>\n",
       "      <td>11.531823</td>\n",
       "      <td>0.428827</td>\n",
       "      <td>C#CC=O</td>\n",
       "      <td>11.920123</td>\n",
       "    </tr>\n",
       "    <tr>\n",
       "      <th>23</th>\n",
       "      <td>13.111632</td>\n",
       "      <td>0.706852</td>\n",
       "      <td>C=C=C=C</td>\n",
       "      <td>13.336460</td>\n",
       "    </tr>\n",
       "    <tr>\n",
       "      <th>22</th>\n",
       "      <td>13.307901</td>\n",
       "      <td>0.707059</td>\n",
       "      <td>C#CC#C</td>\n",
       "      <td>13.429752</td>\n",
       "    </tr>\n",
       "    <tr>\n",
       "      <th>63</th>\n",
       "      <td>11.487834</td>\n",
       "      <td>0.705322</td>\n",
       "      <td>C#CC#[O+]</td>\n",
       "      <td>11.322219</td>\n",
       "    </tr>\n",
       "    <tr>\n",
       "      <th>77</th>\n",
       "      <td>14.431062</td>\n",
       "      <td>0.700069</td>\n",
       "      <td>[CH]</td>\n",
       "      <td>14.146128</td>\n",
       "    </tr>\n",
       "    <tr>\n",
       "      <th>76</th>\n",
       "      <td>11.645144</td>\n",
       "      <td>0.705771</td>\n",
       "      <td>O=C1=CC=1</td>\n",
       "      <td>11.602060</td>\n",
       "    </tr>\n",
       "    <tr>\n",
       "      <th>54</th>\n",
       "      <td>11.212298</td>\n",
       "      <td>0.706101</td>\n",
       "      <td>[C-]#CC#CC#C</td>\n",
       "      <td>11.079181</td>\n",
       "    </tr>\n",
       "    <tr>\n",
       "      <th>5</th>\n",
       "      <td>14.464877</td>\n",
       "      <td>0.705834</td>\n",
       "      <td>N</td>\n",
       "      <td>14.699838</td>\n",
       "    </tr>\n",
       "    <tr>\n",
       "      <th>3</th>\n",
       "      <td>12.266699</td>\n",
       "      <td>0.705718</td>\n",
       "      <td>CC#CC#N</td>\n",
       "      <td>12.255273</td>\n",
       "    </tr>\n",
       "    <tr>\n",
       "      <th>25</th>\n",
       "      <td>11.772763</td>\n",
       "      <td>0.706341</td>\n",
       "      <td>[C-]#CC#[NH+]</td>\n",
       "      <td>11.680336</td>\n",
       "    </tr>\n",
       "    <tr>\n",
       "      <th>18</th>\n",
       "      <td>12.369348</td>\n",
       "      <td>0.705781</td>\n",
       "      <td>CC=O</td>\n",
       "      <td>12.429752</td>\n",
       "    </tr>\n",
       "    <tr>\n",
       "      <th>29</th>\n",
       "      <td>11.531823</td>\n",
       "      <td>0.428827</td>\n",
       "      <td>C#CC=O</td>\n",
       "      <td>11.260071</td>\n",
       "    </tr>\n",
       "  </tbody>\n",
       "</table>\n",
       "</div>"
      ],
      "text/plain": [
       "    Abundance  Uncertainty              SMILES   Observed\n",
       "42  11.869127     0.716729  C#CC#CC#CC#CC#CC#N  12.017033\n",
       "24  13.803616     0.518019              C#CC#N  13.550228\n",
       "4   12.789403     0.705246             N#[NH+]  12.698970\n",
       "50  11.165463     0.706468           C=CC#CC#N  11.071882\n",
       "11  12.369172     0.706473               C=C=C  12.397940\n",
       "34  12.663339     0.707321           C#CC#CC#C  12.740363\n",
       "79  11.202186     0.705875          N#CC#[NH+]  10.934498\n",
       "16  12.949444     0.705550               N=C=O  13.029384\n",
       "26  11.531823     0.428827              C#CC=O  11.920123\n",
       "23  13.111632     0.706852             C=C=C=C  13.336460\n",
       "22  13.307901     0.707059              C#CC#C  13.429752\n",
       "63  11.487834     0.705322           C#CC#[O+]  11.322219\n",
       "77  14.431062     0.700069                [CH]  14.146128\n",
       "76  11.645144     0.705771           O=C1=CC=1  11.602060\n",
       "54  11.212298     0.706101        [C-]#CC#CC#C  11.079181\n",
       "5   14.464877     0.705834                   N  14.699838\n",
       "3   12.266699     0.705718             CC#CC#N  12.255273\n",
       "25  11.772763     0.706341       [C-]#CC#[NH+]  11.680336\n",
       "18  12.369348     0.705781                CC=O  12.429752\n",
       "29  11.531823     0.428827              C#CC=O  11.260071"
      ]
     },
     "execution_count": 25,
     "metadata": {},
     "output_type": "execute_result"
    }
   ],
   "source": [
    "tmc1_predict.sample(20, replace=False)"
   ]
  },
  {
   "cell_type": "code",
   "execution_count": 26,
   "metadata": {},
   "outputs": [
    {
     "data": {
      "text/plain": [
       "0.07268617882704474"
      ]
     },
     "execution_count": 26,
     "metadata": {},
     "output_type": "execute_result"
    }
   ],
   "source": [
    "np.mean(np.square(tmc1_predict[\"Abundance\"] - tmc1_predict[\"Observed\"]))"
   ]
  },
  {
   "cell_type": "markdown",
   "metadata": {},
   "source": [
    "### Cyanopolyyne comparison"
   ]
  },
  {
   "cell_type": "code",
   "execution_count": 27,
   "metadata": {},
   "outputs": [],
   "source": [
    "cp_smiles = [\n",
    "    \"C#N\",\n",
    "    \"C#CC#N\",\n",
    "    \"C#CC#CC#N\",\n",
    "    \"C#CC#CC#CC#N\",\n",
    "    \"C#CC#CC#CC#CC#N\",\n",
    "    \"C#CC#CC#CC#CC#CC#N\",\n",
    "#     \"C#CC#CC#CC#CC#CC#CC#N\"\n",
    "]"
   ]
  },
  {
   "cell_type": "code",
   "execution_count": 43,
   "metadata": {},
   "outputs": [],
   "source": [
    "cp_vectors = np.vstack([embedder.vectorize(smi) for smi in cp_smiles]).compute()"
   ]
  },
  {
   "cell_type": "code",
   "execution_count": 28,
   "metadata": {},
   "outputs": [],
   "source": [
    "cp_df = mrs_gp.predict(smi=cp_smiles, embedding_model=embedder)"
   ]
  },
  {
   "cell_type": "code",
   "execution_count": 37,
   "metadata": {},
   "outputs": [
    {
     "data": {
      "text/html": [
       "<div>\n",
       "<style scoped>\n",
       "    .dataframe tbody tr th:only-of-type {\n",
       "        vertical-align: middle;\n",
       "    }\n",
       "\n",
       "    .dataframe tbody tr th {\n",
       "        vertical-align: top;\n",
       "    }\n",
       "\n",
       "    .dataframe thead th {\n",
       "        text-align: right;\n",
       "    }\n",
       "</style>\n",
       "<table border=\"1\" class=\"dataframe\">\n",
       "  <thead>\n",
       "    <tr style=\"text-align: right;\">\n",
       "      <th></th>\n",
       "      <th>Abundance</th>\n",
       "      <th>Uncertainty</th>\n",
       "      <th>SMILES</th>\n",
       "    </tr>\n",
       "  </thead>\n",
       "  <tbody>\n",
       "    <tr>\n",
       "      <th>0</th>\n",
       "      <td>12.691551</td>\n",
       "      <td>0.517981</td>\n",
       "      <td>C#N</td>\n",
       "    </tr>\n",
       "    <tr>\n",
       "      <th>1</th>\n",
       "      <td>13.803616</td>\n",
       "      <td>0.518019</td>\n",
       "      <td>C#CC#N</td>\n",
       "    </tr>\n",
       "    <tr>\n",
       "      <th>2</th>\n",
       "      <td>13.604588</td>\n",
       "      <td>0.705803</td>\n",
       "      <td>C#CC#CC#N</td>\n",
       "    </tr>\n",
       "    <tr>\n",
       "      <th>3</th>\n",
       "      <td>13.316949</td>\n",
       "      <td>0.707700</td>\n",
       "      <td>C#CC#CC#CC#N</td>\n",
       "    </tr>\n",
       "    <tr>\n",
       "      <th>4</th>\n",
       "      <td>13.056312</td>\n",
       "      <td>0.711130</td>\n",
       "      <td>C#CC#CC#CC#CC#N</td>\n",
       "    </tr>\n",
       "    <tr>\n",
       "      <th>5</th>\n",
       "      <td>11.869127</td>\n",
       "      <td>0.716729</td>\n",
       "      <td>C#CC#CC#CC#CC#CC#N</td>\n",
       "    </tr>\n",
       "  </tbody>\n",
       "</table>\n",
       "</div>"
      ],
      "text/plain": [
       "   Abundance  Uncertainty              SMILES\n",
       "0  12.691551     0.517981                 C#N\n",
       "1  13.803616     0.518019              C#CC#N\n",
       "2  13.604588     0.705803           C#CC#CC#N\n",
       "3  13.316949     0.707700        C#CC#CC#CC#N\n",
       "4  13.056312     0.711130     C#CC#CC#CC#CC#N\n",
       "5  11.869127     0.716729  C#CC#CC#CC#CC#CC#N"
      ]
     },
     "execution_count": 37,
     "metadata": {},
     "output_type": "execute_result"
    }
   ],
   "source": [
    "cp_df"
   ]
  },
  {
   "cell_type": "code",
   "execution_count": 51,
   "metadata": {},
   "outputs": [],
   "source": [
    "names = [\"Hydrogen cyanide\", \"Cyanoacetylene\", \"Cyanodiacetylene\", \"Cyanotriacetylene\", \"Cyanotetraacetylene\", \"Cyanopentaacetylene\"]"
   ]
  },
  {
   "cell_type": "code",
   "execution_count": 53,
   "metadata": {},
   "outputs": [],
   "source": [
    "cp_comp_df = pd.merge(tmc1_df.loc[tmc1_df[\"Molecule\"].isin(names)], cp_df, on=\"SMILES\")"
   ]
  },
  {
   "cell_type": "code",
   "execution_count": 54,
   "metadata": {},
   "outputs": [],
   "source": [
    "x = np.arange(1, len(cp_smiles) * 2 + 1., 2)\n",
    "\n",
    "absent = [0, 2, 4]"
   ]
  },
  {
   "cell_type": "code",
   "execution_count": 55,
   "metadata": {},
   "outputs": [],
   "source": [
    "mask = np.ones_like(x, dtype=bool)"
   ]
  },
  {
   "cell_type": "code",
   "execution_count": 56,
   "metadata": {},
   "outputs": [],
   "source": [
    "mask[absent] = False"
   ]
  },
  {
   "cell_type": "code",
   "execution_count": 57,
   "metadata": {},
   "outputs": [
    {
     "data": {
      "text/plain": [
       "array([1., 5., 9.])"
      ]
     },
     "execution_count": 57,
     "metadata": {},
     "output_type": "execute_result"
    }
   ],
   "source": [
    "x[absent]"
   ]
  },
  {
   "cell_type": "code",
   "execution_count": 58,
   "metadata": {},
   "outputs": [],
   "source": [
    "cp_comp_df = cp_comp_df.iloc[[5, 0, 1, 2, 3, 4]]"
   ]
  },
  {
   "cell_type": "code",
   "execution_count": 88,
   "metadata": {},
   "outputs": [
    {
     "data": {
      "image/png": "[encoded data removed]",
      "text/plain": [
       "<Figure size 2400x1200 with 1 Axes>"
      ]
     },
     "metadata": {},
     "output_type": "display_data"
    }
   ],
   "source": [
    "fig, ax = plt.subplots(figsize=(8,4))\n",
    "\n",
    "ax.errorbar(x, cp_df[\"Abundance\"], yerr=cp_df[\"Uncertainty\"], label=\"Model\", fmt=\"o\", zorder=1, color=\"#a26fb7\", lw=0.5, markeredgecolor=\"k\", elinewidth=1.5)\n",
    "ax.scatter(x[absent], cp_df[\"Abundance\"].iloc[absent], zorder=2, c=\"#7ba351\", marker=\"s\", label=\"Excluded\",  lw=1., edgecolors=\"k\", s=30.)\n",
    "ax.scatter(x, np.log10(cp_comp_df[\"Column density (cm^-2)\"]), marker='_', s=400, lw=3., label=\"Observed\", c=\"#cb6a49\")\n",
    "ax.set_xticks(x)\n",
    "ax.set_xticklabels([\"HCN\", \"HC3N\", \"HC5N\", \"HC7N\", \"HC9N\", \"HC11N\"])\n",
    "ax.set_ylabel(\"log $N_{col}$ cm$^{-2}$\")\n",
    "ax.legend()\n",
    "fig.savefig(\"../../reports/figures/cyanopolyyne_validation.png\", dpi=300, transparent=True)"
   ]
  },
  {
   "cell_type": "code",
   "execution_count": 64,
   "metadata": {},
   "outputs": [
    {
     "data": {
      "text/plain": [
       "0    12.691551\n",
       "1    13.803616\n",
       "2    13.604588\n",
       "3    13.316949\n",
       "4    13.056312\n",
       "5    11.869127\n",
       "Name: Abundance, dtype: float64"
      ]
     },
     "execution_count": 64,
     "metadata": {},
     "output_type": "execute_result"
    }
   ],
   "source": [
    "cp_df[\"Abundance\"]"
   ]
  },
  {
   "cell_type": "code",
   "execution_count": null,
   "metadata": {},
   "outputs": [],
   "source": []
  }
 ],
 "metadata": {
  "kernelspec": {
   "display_name": "Python 3.6.10 64-bit ('rdkit': conda)",
   "language": "python",
   "name": "python361064bitrdkitconda2231f7cd07614fa9b5f8257698e6a5f8"
  },
  "language_info": {
   "codemirror_mode": {
    "name": "ipython",
    "version": 3
   },
   "file_extension": ".py",
   "mimetype": "text/x-python",
   "name": "python",
   "nbconvert_exporter": "python",
   "pygments_lexer": "ipython3",
   "version": "3.6.10"
  },
  "widgets": {
   "application/vnd.jupyter.widget-state+json": {
    "state": {},
    "version_major": 2,
    "version_minor": 0
   }
  }
 },
 "nbformat": 4,
 "nbformat_minor": 4
}
