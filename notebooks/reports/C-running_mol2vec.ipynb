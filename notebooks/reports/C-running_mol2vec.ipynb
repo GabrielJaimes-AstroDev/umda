{
 "cells": [
  {
   "cell_type": "code",
   "execution_count": 1,
   "metadata": {
    "tags": []
   },
   "outputs": [
    {
     "name": "stderr",
     "output_type": "stream",
     "text": [
      "Traceback (most recent call last):\n",
      "  File \"/home/kelvin/anaconda3/envs/rdkit/lib/python3.6/site-packages/rdkit/Chem/PandasTools.py\", line 130, in <module>\n",
      "    if 'display.width' in pd.core.config._registered_options:\n",
      "AttributeError: module 'pandas.core' has no attribute 'config'\n"
     ]
    }
   ],
   "source": [
    "from pathlib import Path\n",
    "from tempfile import NamedTemporaryFile\n",
    "import os\n",
    "\n",
    "import numba\n",
    "import numpy as np\n",
    "import pandas as pd\n",
    "from matplotlib import pyplot as plt\n",
    "from mol2vec import features\n",
    "from rdkit import Chem\n",
    "from rdkit.Chem.Draw import IPythonConsole\n",
    "from rdkit.Chem import AllChem\n",
    "from gensim.models import word2vec"
   ]
  },
  {
   "cell_type": "code",
   "execution_count": 2,
   "metadata": {},
   "outputs": [],
   "source": [
    "model = word2vec.Word2Vec.load(\"../../models/mol2vec_model.pkl\")"
   ]
  },
  {
   "cell_type": "code",
   "execution_count": 3,
   "metadata": {
    "tags": []
   },
   "outputs": [
    {
     "name": "stdout",
     "output_type": "stream",
     "text": [
      "36399\n"
     ]
    }
   ],
   "source": [
    "# This gives the size of our corpus: basically how many different environments\n",
    "# our model is aware of\n",
    "print(len(model.wv.vocab))"
   ]
  },
  {
   "cell_type": "code",
   "execution_count": 4,
   "metadata": {},
   "outputs": [],
   "source": [
    "# Generate some small molecules for comparison and sanity check!\n",
    "benzene = Chem.MolFromSmiles(\"c1ccccc1\")\n",
    "acetaldehyde = Chem.MolFromSmiles(\"CC=O\")\n",
    "benzonitrile = Chem.MolFromSmiles(\"C1=CC=C(C=C1)C#N\")\n",
    "phenol = Chem.MolFromSmiles(\"Oc1ccccc1\")\n",
    "hc5n = Chem.MolFromSmiles(\"C#CC#CC#N\")\n",
    "\n",
    "molecules = [benzene, acetaldehyde, benzonitrile, phenol, hc5n]"
   ]
  },
  {
   "cell_type": "markdown",
   "metadata": {},
   "source": [
    "We now convert the `Mol` objects into \"sentences\" to be processed by our `mol2vec` model."
   ]
  },
  {
   "cell_type": "code",
   "execution_count": 5,
   "metadata": {},
   "outputs": [],
   "source": [
    "# Translate molecules\n",
    "sentences = [features.mol2alt_sentence(mol, 1) for mol in molecules]\n",
    "\n",
    "# Use our trained model to generate vectors for every sentence\n",
    "vectors = features.sentences2vec(sentences, model)"
   ]
  },
  {
   "cell_type": "markdown",
   "metadata": {},
   "source": [
    "So now every molecule is converted into a 300 dimensional vector! To check how similar molecules are, we can compute the cosine similarity, which is given by this formula:\n",
    "\n",
    "$$ \\cos(\\theta) = \\frac{\\bf{A} \\dot \\bf{B}}{\\vert\\vert \\bf{A} \\vert\\vert \\vert\\vert \\bf{B} \\vert\\vert} $$\n",
    "\n",
    "This metric basically measures the angle subtended between two vectors $\\bf{A}, \\bf{B}$. For orthogonal vectors (i.e. completely dissimilar), $\\cos(\\theta)=0$ and two equivalent vectors $\\cos(\\theta)=1$ (two equivalent molecules). The code below implements this measure, as well as a fast(er) implementation for calculating every pair."
   ]
  },
  {
   "cell_type": "code",
   "execution_count": 17,
   "metadata": {},
   "outputs": [],
   "source": [
    "@numba.jit(fastmath=True)\n",
    "def cosine_similarity(A, B):\n",
    "    return np.dot(A, B) / (np.linalg.norm(A) * np.linalg.norm(B))\n",
    "\n",
    "\n",
    "@numba.jit(fastmath=True)\n",
    "def pairwise_similarity(vectors):\n",
    "    n = len(vectors)\n",
    "    matrix = np.zeros((n, n), dtype=np.float32)\n",
    "    for i in range(n):\n",
    "        for j in range(n):\n",
    "            matrix[i,j] = cosine_similarity(vectors[i], vectors[j])\n",
    "    return matrix"
   ]
  },
  {
   "cell_type": "code",
   "execution_count": 7,
   "metadata": {},
   "outputs": [
    {
     "data": {
      "text/plain": [
       "array([[1.        , 0.48067454, 0.89181936, 0.95223397, 0.22049767],\n",
       "       [0.48067454, 1.        , 0.5183025 , 0.5278091 , 0.2662749 ],\n",
       "       [0.89181936, 0.5183025 , 1.0000001 , 0.87767535, 0.5311317 ],\n",
       "       [0.95223397, 0.5278091 , 0.87767535, 1.        , 0.22908221],\n",
       "       [0.22049767, 0.2662749 , 0.5311317 , 0.22908221, 0.9999999 ]],\n",
       "      dtype=float32)"
      ]
     },
     "execution_count": 7,
     "metadata": {},
     "output_type": "execute_result"
    }
   ],
   "source": [
    "pairwise_similarity(vectors)"
   ]
  },
  {
   "cell_type": "markdown",
   "metadata": {},
   "source": [
    "This matrix shows the cosine similarity between every molecule pair: the diagonal entries are all 1, because they're the same molecule (good sanity check), while the off-diagonal elements compare each molecule.\n",
    "\n",
    "In row order, we have: benzene, acetaldehyde, benzonitrile, phenol, HC5N. From chemical intuition, benzene, benzonitrile, and phenol should be very similar with one another because they all contain a benzene ring. Acetaldehyde should be closest to phenol because of oxygen. HC5N should be similar to benzonitrile because of the nitrile group.\n",
    "\n",
    "The first and third statements hold well, and they meet our expectations! The second one is a bit more dicey, as the result suggests that acetaldehyde is closer to benzonitrile than phenol despite what we originally thought. In this case, it's very likely that our `mol2vec` model isn't entirely doing what we're thinking, and we would need to do more tests to understand why this is. The encoding must not be focusing on the oxygen as much: for these comparisons, we would have to either: (a) tune the `mol2vec` model, (b) use a different type of encoding, or (c) use a different measure of similarlity."
   ]
  },
  {
   "cell_type": "markdown",
   "metadata": {},
   "source": [
    "## Comparison with TMC-1 molecules\n",
    "\n",
    "In this section we take a look at seeing if the `mol2vec` model is behaving as we think it should using molecules known in TMC-1. We'll take methyl cyanide (CH$_3$CN) and use it as a basis for comparison with a few select species to highlight it."
   ]
  },
  {
   "cell_type": "code",
   "execution_count": 8,
   "metadata": {},
   "outputs": [],
   "source": [
    "# retired in favor of the module version below\n",
    "\n",
    "# def smi_to_vector(smi: str, model):\n",
    "#     mol = Chem.MolFromSmiles(smi, sanitize=False)\n",
    "#     mol.UpdatePropertyCache(strict=False)\n",
    "#     Chem.GetSymmSSSR(mol)\n",
    "#     # generate a sentence from rdkit molecule\n",
    "#     sentence = features.mol2alt_sentence(mol, radius=1)\n",
    "#     # generate vector embedding from sentence and model\n",
    "#     vector = features.sentences2vec([sentence], model)\n",
    "#     return vector"
   ]
  },
  {
   "cell_type": "markdown",
   "metadata": {},
   "source": [
    "Read in the TMC-1 molecules list, and for now well ignore isotopologues."
   ]
  },
  {
   "cell_type": "code",
   "execution_count": 5,
   "metadata": {},
   "outputs": [],
   "source": [
    "df = pd.read_csv(\"../../data/raw/TMC-1_inventory.csv\")"
   ]
  },
  {
   "cell_type": "code",
   "execution_count": 6,
   "metadata": {},
   "outputs": [],
   "source": [
    "df = df.loc[df[\"Isotopologue\"] != 1]"
   ]
  },
  {
   "cell_type": "code",
   "execution_count": 7,
   "metadata": {},
   "outputs": [],
   "source": [
    "from umda.smi_vec import canonicize_smi, smi_to_vector"
   ]
  },
  {
   "cell_type": "code",
   "execution_count": 8,
   "metadata": {},
   "outputs": [],
   "source": [
    "tmc1_canonical = [canonicize_smi(smi) for smi in df[\"SMILES\"].tolist()]"
   ]
  },
  {
   "cell_type": "code",
   "execution_count": 10,
   "metadata": {},
   "outputs": [],
   "source": [
    "# Generate vectors for all of the molecules in TMC\n",
    "tmc_1_vecs = [smi_to_vector(smi, model)[0] for smi in tmc1_canonical]"
   ]
  },
  {
   "cell_type": "code",
   "execution_count": 11,
   "metadata": {},
   "outputs": [],
   "source": [
    "df[\"Vecs\"] = tmc_1_vecs"
   ]
  },
  {
   "cell_type": "code",
   "execution_count": 22,
   "metadata": {},
   "outputs": [],
   "source": [
    "df[\"SMILES\"] = tmc1_canonical"
   ]
  },
  {
   "cell_type": "code",
   "execution_count": 12,
   "metadata": {},
   "outputs": [
    {
     "data": {
      "text/html": [
       "<div>\n",
       "<style scoped>\n",
       "    .dataframe tbody tr th:only-of-type {\n",
       "        vertical-align: middle;\n",
       "    }\n",
       "\n",
       "    .dataframe tbody tr th {\n",
       "        vertical-align: top;\n",
       "    }\n",
       "\n",
       "    .dataframe thead th {\n",
       "        text-align: right;\n",
       "    }\n",
       "</style>\n",
       "<table border=\"1\" class=\"dataframe\">\n",
       "  <thead>\n",
       "    <tr style=\"text-align: right;\">\n",
       "      <th></th>\n",
       "      <th>Molecule</th>\n",
       "      <th>Formula</th>\n",
       "      <th>SMILES</th>\n",
       "      <th>Column density (cm^-2)</th>\n",
       "      <th>DOI</th>\n",
       "      <th>Isotopologue</th>\n",
       "      <th>Upper Limit</th>\n",
       "      <th>Notes</th>\n",
       "      <th>Vecs</th>\n",
       "    </tr>\n",
       "  </thead>\n",
       "  <tbody>\n",
       "    <tr>\n",
       "      <th>0</th>\n",
       "      <td>Methyltriacetylene</td>\n",
       "      <td>CH3C6H</td>\n",
       "      <td>CC#CC#CC#C</td>\n",
       "      <td>3.100000e+12</td>\n",
       "      <td>10.1086/504918</td>\n",
       "      <td>0</td>\n",
       "      <td>0</td>\n",
       "      <td>Remijan</td>\n",
       "      <td>[2.0953827, -4.50535, 0.52709067, -1.2093838, ...</td>\n",
       "    </tr>\n",
       "    <tr>\n",
       "      <th>1</th>\n",
       "      <td>Methyldiacetylene</td>\n",
       "      <td>CH3C4H</td>\n",
       "      <td>CC#CC#C</td>\n",
       "      <td>3.000000e+13</td>\n",
       "      <td>NaN</td>\n",
       "      <td>0</td>\n",
       "      <td>0</td>\n",
       "      <td>Walmsley et al 1984, MacLoed et al 1984, Loren...</td>\n",
       "      <td>[2.0440433, -2.4653375, 0.2275491, -0.7743592,...</td>\n",
       "    </tr>\n",
       "    <tr>\n",
       "      <th>2</th>\n",
       "      <td>Methylcyanodiacetylene</td>\n",
       "      <td>CH3C5N</td>\n",
       "      <td>CC#CC#CC#N</td>\n",
       "      <td>8.400000e+11</td>\n",
       "      <td>10.1086/504918</td>\n",
       "      <td>0</td>\n",
       "      <td>0</td>\n",
       "      <td>Remijan</td>\n",
       "      <td>[1.207319, -5.1080704, -0.039868705, -1.834622...</td>\n",
       "    </tr>\n",
       "    <tr>\n",
       "      <th>3</th>\n",
       "      <td>Methylcyanoacetylene</td>\n",
       "      <td>CH3C3N</td>\n",
       "      <td>CC#CC#N</td>\n",
       "      <td>1.800000e+12</td>\n",
       "      <td>10.1086/504918</td>\n",
       "      <td>0</td>\n",
       "      <td>0</td>\n",
       "      <td>Remijan</td>\n",
       "      <td>[1.1559796, -3.068057, -0.3394103, -1.3995979,...</td>\n",
       "    </tr>\n",
       "    <tr>\n",
       "      <th>5</th>\n",
       "      <td>Protonated nitrogen</td>\n",
       "      <td>N2H+</td>\n",
       "      <td>N#[NH+]</td>\n",
       "      <td>5.000000e+12</td>\n",
       "      <td>10.3847/1538-4365/aa69ba</td>\n",
       "      <td>0</td>\n",
       "      <td>0</td>\n",
       "      <td>FCRAO, 1 - 0; towards CP</td>\n",
       "      <td>[0.11407158, -0.76171607, -0.95510256, -0.7127...</td>\n",
       "    </tr>\n",
       "  </tbody>\n",
       "</table>\n",
       "</div>"
      ],
      "text/plain": [
       "                 Molecule Formula      SMILES  Column density (cm^-2)  \\\n",
       "0      Methyltriacetylene  CH3C6H  CC#CC#CC#C            3.100000e+12   \n",
       "1       Methyldiacetylene  CH3C4H     CC#CC#C            3.000000e+13   \n",
       "2  Methylcyanodiacetylene  CH3C5N  CC#CC#CC#N            8.400000e+11   \n",
       "3    Methylcyanoacetylene  CH3C3N     CC#CC#N            1.800000e+12   \n",
       "5     Protonated nitrogen    N2H+     N#[NH+]            5.000000e+12   \n",
       "\n",
       "                        DOI  Isotopologue  Upper Limit  \\\n",
       "0            10.1086/504918             0            0   \n",
       "1                       NaN             0            0   \n",
       "2            10.1086/504918             0            0   \n",
       "3            10.1086/504918             0            0   \n",
       "5  10.3847/1538-4365/aa69ba             0            0   \n",
       "\n",
       "                                               Notes  \\\n",
       "0                                            Remijan   \n",
       "1  Walmsley et al 1984, MacLoed et al 1984, Loren...   \n",
       "2                                            Remijan   \n",
       "3                                            Remijan   \n",
       "5                           FCRAO, 1 - 0; towards CP   \n",
       "\n",
       "                                                Vecs  \n",
       "0  [2.0953827, -4.50535, 0.52709067, -1.2093838, ...  \n",
       "1  [2.0440433, -2.4653375, 0.2275491, -0.7743592,...  \n",
       "2  [1.207319, -5.1080704, -0.039868705, -1.834622...  \n",
       "3  [1.1559796, -3.068057, -0.3394103, -1.3995979,...  \n",
       "5  [0.11407158, -0.76171607, -0.95510256, -0.7127...  "
      ]
     },
     "execution_count": 12,
     "metadata": {},
     "output_type": "execute_result"
    }
   ],
   "source": [
    "# Check out what the dataframe looks like\n",
    "df.head()"
   ]
  },
  {
   "cell_type": "markdown",
   "metadata": {},
   "source": [
    "Now we want a dictionary so that we can map the name of the molecule (which is more convenient) to its vector."
   ]
  },
  {
   "cell_type": "code",
   "execution_count": 13,
   "metadata": {},
   "outputs": [],
   "source": [
    "molecule_dict = {mol: vector for mol, vector in zip(df[\"Molecule\"], df[\"Vecs\"])}"
   ]
  },
  {
   "cell_type": "code",
   "execution_count": 14,
   "metadata": {},
   "outputs": [],
   "source": [
    "selected = [\"Methyl cyanide\", \"Methylcyanodiacetylene\", \"Acetaldehyde\", \"2-Propynal\", \"Vinylcyanide\", \"Carbonyl sulfide\"]"
   ]
  },
  {
   "cell_type": "code",
   "execution_count": 18,
   "metadata": {},
   "outputs": [],
   "source": [
    "# compute cosine similarity with methyl cyanide\n",
    "similarities = [cosine_similarity(molecule_dict[\"Methyl cyanide\"], molecule_dict[chosen]) for chosen in selected]"
   ]
  },
  {
   "cell_type": "code",
   "execution_count": 19,
   "metadata": {},
   "outputs": [
    {
     "data": {
      "text/plain": [
       "[0.9999998807907104,\n",
       " 0.8952176570892334,\n",
       " 0.4643494486808777,\n",
       " 0.6710745692253113,\n",
       " 0.7188612222671509,\n",
       " 0.45724305510520935]"
      ]
     },
     "execution_count": 19,
     "metadata": {},
     "output_type": "execute_result"
    }
   ],
   "source": [
    "# similarity of methyl cyanide with itself should be basically one for sanity check\n",
    "similarities"
   ]
  },
  {
   "cell_type": "code",
   "execution_count": 20,
   "metadata": {},
   "outputs": [
    {
     "data": {
      "image/png": "[encoded data removed]",
      "text/plain": [
       "<Figure size 432x288 with 1 Axes>"
      ]
     },
     "metadata": {
      "needs_background": "light"
     },
     "output_type": "display_data"
    }
   ],
   "source": [
    "fig, ax = plt.subplots()\n",
    "\n",
    "ax.bar(x=np.arange(len(similarities)), height=similarities)\n",
    "\n",
    "ax.set(xlabel=\"Molecule\", ylabel=\"Cosine similarity\", xticklabels=selected, xticks=range(7), title=\"Similarities to CH3CN\")\n",
    "for spine in [\"top\", \"right\"]:\n",
    "    ax.spines[spine].set_visible(False)\n",
    "\n",
    "fig.tight_layout()\n",
    "# fig.savefig(\"ch3cn_similarity.png\", dpi=300)"
   ]
  },
  {
   "cell_type": "code",
   "execution_count": 24,
   "metadata": {},
   "outputs": [],
   "source": [
    "df.to_pickle(\"../../data/interim/tmc1_table_vecs.pkl\")"
   ]
  }
 ],
 "metadata": {
  "kernelspec": {
   "display_name": "Python 3.6.10 64-bit ('rdkit': conda)",
   "language": "python",
   "name": "python361064bitrdkitconda2231f7cd07614fa9b5f8257698e6a5f8"
  },
  "language_info": {
   "codemirror_mode": {
    "name": "ipython",
    "version": 3
   },
   "file_extension": ".py",
   "mimetype": "text/x-python",
   "name": "python",
   "nbconvert_exporter": "python",
   "pygments_lexer": "ipython3",
   "version": "3.6.10"
  },
  "widgets": {
   "application/vnd.jupyter.widget-state+json": {
    "state": {},
    "version_major": 2,
    "version_minor": 0
   }
  }
 },
 "nbformat": 4,
 "nbformat_minor": 4
}
