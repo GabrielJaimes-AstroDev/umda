{
 "cells": [
  {
   "cell_type": "code",
   "execution_count": 1,
   "metadata": {},
   "outputs": [
    {
     "name": "stderr",
     "output_type": "stream",
     "text": [
      "Traceback (most recent call last):\n",
      "  File \"/home/kelvin/anaconda3/envs/rdkit/lib/python3.6/site-packages/rdkit/Chem/PandasTools.py\", line 130, in <module>\n",
      "    if 'display.width' in pd.core.config._registered_options:\n",
      "AttributeError: module 'pandas.core' has no attribute 'config'\n"
     ]
    }
   ],
   "source": [
    "from joblib import load, dump\n",
    "import numpy as np\n",
    "import h5py\n",
    "import pandas as pd\n",
    "from sklearn.metrics.pairwise import cosine_distances, distance_metrics\n",
    "from matplotlib import pyplot as plt\n",
    "import numba\n",
    "from umda import MRS, EmbeddingModel\n",
    "\n",
    "plt.style.use('publication')"
   ]
  },
  {
   "cell_type": "code",
   "execution_count": 2,
   "metadata": {},
   "outputs": [],
   "source": [
    "embedder = EmbeddingModel.from_pkl(\"../../models/mol2vec_model.pkl\", \"../../models/embedding_pipeline.pkl\", radius=1)"
   ]
  },
  {
   "cell_type": "code",
   "execution_count": 3,
   "metadata": {},
   "outputs": [
    {
     "name": "stderr",
     "output_type": "stream",
     "text": [
      "2020-11-24 13:48:50.053 | INFO     | umda.classes:save:59 - Saved model to ../../models/EmbeddingModel.pkl.\n"
     ]
    }
   ],
   "source": [
    "embedder.save(\"../../models/EmbeddingModel.pkl\")"
   ]
  },
  {
   "cell_type": "code",
   "execution_count": 4,
   "metadata": {},
   "outputs": [
    {
     "data": {
      "text/plain": [
       "['../../models/best_gp_estimator.pkl']"
      ]
     },
     "execution_count": 4,
     "metadata": {},
     "output_type": "execute_result"
    }
   ],
   "source": [
    "gp_grid = load(\"../../models/gp_grid.pkl\")\n",
    "\n",
    "dump(gp_grid.best_estimator_, \"../../models/best_gp_estimator.pkl\")"
   ]
  },
  {
   "cell_type": "code",
   "execution_count": 5,
   "metadata": {},
   "outputs": [
    {
     "name": "stderr",
     "output_type": "stream",
     "text": [
      "2020-11-24 13:48:52.560 | INFO     | umda.classes:save:220 - Saved MRS to ../../models/TMC1_MRS_GP.pkl\n"
     ]
    }
   ],
   "source": [
    "mrs_gp = MRS.from_pickle(\"../../models/kmeans_model.pkl\", \"../../models/best_gp_estimator.pkl\")\n",
    "\n",
    "mrs_gp.save(\"../../models/TMC1_MRS_GP.pkl\")"
   ]
  },
  {
   "cell_type": "code",
   "execution_count": 6,
   "metadata": {},
   "outputs": [],
   "source": [
    "data = h5py.File(\"../../data/processed/smiles_embeddings_300.h5\", \"r\")"
   ]
  },
  {
   "cell_type": "code",
   "execution_count": 7,
   "metadata": {},
   "outputs": [],
   "source": [
    "pipeline = load(\"../../models/embedding_pipeline.pkl\")"
   ]
  },
  {
   "cell_type": "code",
   "execution_count": 8,
   "metadata": {},
   "outputs": [],
   "source": [
    "tmc1_df = pd.read_pickle(\"../../data/interim/tmc1_table_vecs.pkl\")"
   ]
  },
  {
   "cell_type": "code",
   "execution_count": 9,
   "metadata": {},
   "outputs": [],
   "source": [
    "tmc1_vecs = np.vstack(tmc1_df[\"Vecs\"])\n",
    "tmc1_embedding = pipeline[0].transform(tmc1_vecs)"
   ]
  },
  {
   "cell_type": "markdown",
   "metadata": {},
   "source": [
    "### GP recommendations without clustering "
   ]
  },
  {
   "cell_type": "code",
   "execution_count": 10,
   "metadata": {},
   "outputs": [
    {
     "name": "stderr",
     "output_type": "stream",
     "text": [
      "2020-11-24 13:48:58.047 | INFO     | umda.classes:recommend:186 - There are 1442130 molecules in this aggregate.\n"
     ]
    }
   ],
   "source": [
    "gp_nocluster_df = mrs_gp.recommend(X=tmc1_embedding, cluster=False, h5_data=data)"
   ]
  },
  {
   "cell_type": "code",
   "execution_count": 11,
   "metadata": {},
   "outputs": [
    {
     "data": {
      "text/html": [
       "<div>\n",
       "<style scoped>\n",
       "    .dataframe tbody tr th:only-of-type {\n",
       "        vertical-align: middle;\n",
       "    }\n",
       "\n",
       "    .dataframe tbody tr th {\n",
       "        vertical-align: top;\n",
       "    }\n",
       "\n",
       "    .dataframe thead th {\n",
       "        text-align: right;\n",
       "    }\n",
       "</style>\n",
       "<table border=\"1\" class=\"dataframe\">\n",
       "  <thead>\n",
       "    <tr style=\"text-align: right;\">\n",
       "      <th></th>\n",
       "      <th>Abundance</th>\n",
       "      <th>Uncertainty</th>\n",
       "      <th>Index</th>\n",
       "      <th>SMILES</th>\n",
       "      <th>Counts</th>\n",
       "    </tr>\n",
       "  </thead>\n",
       "  <tbody>\n",
       "    <tr>\n",
       "      <th>0</th>\n",
       "      <td>14.452308</td>\n",
       "      <td>0.600580</td>\n",
       "      <td>0</td>\n",
       "      <td>C</td>\n",
       "      <td>2</td>\n",
       "    </tr>\n",
       "    <tr>\n",
       "      <th>227</th>\n",
       "      <td>14.452308</td>\n",
       "      <td>0.682206</td>\n",
       "      <td>482</td>\n",
       "      <td>C#CC#CC=O</td>\n",
       "      <td>1</td>\n",
       "    </tr>\n",
       "    <tr>\n",
       "      <th>235</th>\n",
       "      <td>14.452308</td>\n",
       "      <td>0.942585</td>\n",
       "      <td>15</td>\n",
       "      <td>C1CC1</td>\n",
       "      <td>1</td>\n",
       "    </tr>\n",
       "    <tr>\n",
       "      <th>234</th>\n",
       "      <td>14.452308</td>\n",
       "      <td>1.055941</td>\n",
       "      <td>97</td>\n",
       "      <td>OC1CCC1</td>\n",
       "      <td>1</td>\n",
       "    </tr>\n",
       "    <tr>\n",
       "      <th>233</th>\n",
       "      <td>14.452308</td>\n",
       "      <td>0.874761</td>\n",
       "      <td>302</td>\n",
       "      <td>CC1CC(=O)O1</td>\n",
       "      <td>2</td>\n",
       "    </tr>\n",
       "    <tr>\n",
       "      <th>232</th>\n",
       "      <td>14.452308</td>\n",
       "      <td>1.030922</td>\n",
       "      <td>462</td>\n",
       "      <td>CC1OCCO1</td>\n",
       "      <td>3</td>\n",
       "    </tr>\n",
       "    <tr>\n",
       "      <th>231</th>\n",
       "      <td>14.452308</td>\n",
       "      <td>1.201648</td>\n",
       "      <td>463</td>\n",
       "      <td>OC1CCCC1</td>\n",
       "      <td>1</td>\n",
       "    </tr>\n",
       "    <tr>\n",
       "      <th>230</th>\n",
       "      <td>14.452308</td>\n",
       "      <td>1.153823</td>\n",
       "      <td>465</td>\n",
       "      <td>CC1C(C)C1C</td>\n",
       "      <td>1</td>\n",
       "    </tr>\n",
       "    <tr>\n",
       "      <th>229</th>\n",
       "      <td>14.452308</td>\n",
       "      <td>0.771065</td>\n",
       "      <td>14137</td>\n",
       "      <td>N#CC#CC#CC#N</td>\n",
       "      <td>1</td>\n",
       "    </tr>\n",
       "    <tr>\n",
       "      <th>228</th>\n",
       "      <td>14.452308</td>\n",
       "      <td>1.043646</td>\n",
       "      <td>467</td>\n",
       "      <td>CC1C(C)N1C</td>\n",
       "      <td>3</td>\n",
       "    </tr>\n",
       "    <tr>\n",
       "      <th>226</th>\n",
       "      <td>14.452308</td>\n",
       "      <td>0.703722</td>\n",
       "      <td>483</td>\n",
       "      <td>N#CC#CC=O</td>\n",
       "      <td>1</td>\n",
       "    </tr>\n",
       "    <tr>\n",
       "      <th>237</th>\n",
       "      <td>14.452308</td>\n",
       "      <td>0.701840</td>\n",
       "      <td>13</td>\n",
       "      <td>CCO</td>\n",
       "      <td>3</td>\n",
       "    </tr>\n",
       "    <tr>\n",
       "      <th>225</th>\n",
       "      <td>14.452308</td>\n",
       "      <td>0.848665</td>\n",
       "      <td>484</td>\n",
       "      <td>O=CC#CC=O</td>\n",
       "      <td>1</td>\n",
       "    </tr>\n",
       "    <tr>\n",
       "      <th>224</th>\n",
       "      <td>14.452308</td>\n",
       "      <td>0.741073</td>\n",
       "      <td>488</td>\n",
       "      <td>N#CCCC=O</td>\n",
       "      <td>2</td>\n",
       "    </tr>\n",
       "    <tr>\n",
       "      <th>223</th>\n",
       "      <td>14.452308</td>\n",
       "      <td>0.879025</td>\n",
       "      <td>489</td>\n",
       "      <td>C#CCN=CO</td>\n",
       "      <td>1</td>\n",
       "    </tr>\n",
       "    <tr>\n",
       "      <th>222</th>\n",
       "      <td>14.452308</td>\n",
       "      <td>0.845635</td>\n",
       "      <td>490</td>\n",
       "      <td>N#CCN=CO</td>\n",
       "      <td>2</td>\n",
       "    </tr>\n",
       "    <tr>\n",
       "      <th>221</th>\n",
       "      <td>14.452308</td>\n",
       "      <td>0.789975</td>\n",
       "      <td>491</td>\n",
       "      <td>C#CCOC=O</td>\n",
       "      <td>1</td>\n",
       "    </tr>\n",
       "    <tr>\n",
       "      <th>220</th>\n",
       "      <td>14.452308</td>\n",
       "      <td>0.804730</td>\n",
       "      <td>1125</td>\n",
       "      <td>CCC(C)(C)C=O</td>\n",
       "      <td>1</td>\n",
       "    </tr>\n",
       "    <tr>\n",
       "      <th>219</th>\n",
       "      <td>14.452308</td>\n",
       "      <td>1.188598</td>\n",
       "      <td>468</td>\n",
       "      <td>CC1C(O)C1O</td>\n",
       "      <td>3</td>\n",
       "    </tr>\n",
       "    <tr>\n",
       "      <th>218</th>\n",
       "      <td>14.452308</td>\n",
       "      <td>0.819482</td>\n",
       "      <td>14188</td>\n",
       "      <td>N#CCCNCC=O</td>\n",
       "      <td>2</td>\n",
       "    </tr>\n",
       "    <tr>\n",
       "      <th>236</th>\n",
       "      <td>14.452308</td>\n",
       "      <td>0.722226</td>\n",
       "      <td>14</td>\n",
       "      <td>COC</td>\n",
       "      <td>2</td>\n",
       "    </tr>\n",
       "    <tr>\n",
       "      <th>238</th>\n",
       "      <td>14.452308</td>\n",
       "      <td>0.787513</td>\n",
       "      <td>1126</td>\n",
       "      <td>CCC(C)(O)C=O</td>\n",
       "      <td>1</td>\n",
       "    </tr>\n",
       "    <tr>\n",
       "      <th>259</th>\n",
       "      <td>14.452308</td>\n",
       "      <td>0.788337</td>\n",
       "      <td>472753</td>\n",
       "      <td>Nc1ccsc1C(F)F</td>\n",
       "      <td>2</td>\n",
       "    </tr>\n",
       "    <tr>\n",
       "      <th>249</th>\n",
       "      <td>14.452308</td>\n",
       "      <td>1.080345</td>\n",
       "      <td>2800</td>\n",
       "      <td>OCC1NC1CO</td>\n",
       "      <td>1</td>\n",
       "    </tr>\n",
       "    <tr>\n",
       "      <th>257</th>\n",
       "      <td>14.452308</td>\n",
       "      <td>1.021013</td>\n",
       "      <td>2526</td>\n",
       "      <td>N#CC1(CN)CN1</td>\n",
       "      <td>3</td>\n",
       "    </tr>\n",
       "    <tr>\n",
       "      <th>256</th>\n",
       "      <td>14.452308</td>\n",
       "      <td>1.046216</td>\n",
       "      <td>2528</td>\n",
       "      <td>C#CC1(CO)CC1</td>\n",
       "      <td>3</td>\n",
       "    </tr>\n",
       "    <tr>\n",
       "      <th>255</th>\n",
       "      <td>14.452308</td>\n",
       "      <td>1.018286</td>\n",
       "      <td>2529</td>\n",
       "      <td>N#CC1(CO)CC1</td>\n",
       "      <td>1</td>\n",
       "    </tr>\n",
       "    <tr>\n",
       "      <th>254</th>\n",
       "      <td>14.452308</td>\n",
       "      <td>0.978998</td>\n",
       "      <td>2531</td>\n",
       "      <td>N#CC1(CO)CN1</td>\n",
       "      <td>1</td>\n",
       "    </tr>\n",
       "    <tr>\n",
       "      <th>253</th>\n",
       "      <td>14.452308</td>\n",
       "      <td>1.007116</td>\n",
       "      <td>2532</td>\n",
       "      <td>C#CC1(CO)CO1</td>\n",
       "      <td>1</td>\n",
       "    </tr>\n",
       "    <tr>\n",
       "      <th>252</th>\n",
       "      <td>14.452308</td>\n",
       "      <td>0.983155</td>\n",
       "      <td>2539</td>\n",
       "      <td>O=CC1(CO)CN1</td>\n",
       "      <td>1</td>\n",
       "    </tr>\n",
       "  </tbody>\n",
       "</table>\n",
       "</div>"
      ],
      "text/plain": [
       "     Abundance  Uncertainty   Index         SMILES  Counts\n",
       "0    14.452308     0.600580       0              C       2\n",
       "227  14.452308     0.682206     482      C#CC#CC=O       1\n",
       "235  14.452308     0.942585      15          C1CC1       1\n",
       "234  14.452308     1.055941      97        OC1CCC1       1\n",
       "233  14.452308     0.874761     302    CC1CC(=O)O1       2\n",
       "232  14.452308     1.030922     462       CC1OCCO1       3\n",
       "231  14.452308     1.201648     463       OC1CCCC1       1\n",
       "230  14.452308     1.153823     465     CC1C(C)C1C       1\n",
       "229  14.452308     0.771065   14137   N#CC#CC#CC#N       1\n",
       "228  14.452308     1.043646     467     CC1C(C)N1C       3\n",
       "226  14.452308     0.703722     483      N#CC#CC=O       1\n",
       "237  14.452308     0.701840      13            CCO       3\n",
       "225  14.452308     0.848665     484      O=CC#CC=O       1\n",
       "224  14.452308     0.741073     488       N#CCCC=O       2\n",
       "223  14.452308     0.879025     489       C#CCN=CO       1\n",
       "222  14.452308     0.845635     490       N#CCN=CO       2\n",
       "221  14.452308     0.789975     491       C#CCOC=O       1\n",
       "220  14.452308     0.804730    1125   CCC(C)(C)C=O       1\n",
       "219  14.452308     1.188598     468     CC1C(O)C1O       3\n",
       "218  14.452308     0.819482   14188     N#CCCNCC=O       2\n",
       "236  14.452308     0.722226      14            COC       2\n",
       "238  14.452308     0.787513    1126   CCC(C)(O)C=O       1\n",
       "259  14.452308     0.788337  472753  Nc1ccsc1C(F)F       2\n",
       "249  14.452308     1.080345    2800      OCC1NC1CO       1\n",
       "257  14.452308     1.021013    2526   N#CC1(CN)CN1       3\n",
       "256  14.452308     1.046216    2528   C#CC1(CO)CC1       3\n",
       "255  14.452308     1.018286    2529   N#CC1(CO)CC1       1\n",
       "254  14.452308     0.978998    2531   N#CC1(CO)CN1       1\n",
       "253  14.452308     1.007116    2532   C#CC1(CO)CO1       1\n",
       "252  14.452308     0.983155    2539   O=CC1(CO)CN1       1"
      ]
     },
     "execution_count": 11,
     "metadata": {},
     "output_type": "execute_result"
    }
   ],
   "source": [
    "gp_nocluster_df.sort_values([\"Abundance\"], ascending=False).head(30)"
   ]
  },
  {
   "cell_type": "code",
   "execution_count": 12,
   "metadata": {},
   "outputs": [
    {
     "name": "stderr",
     "output_type": "stream",
     "text": [
      "2020-11-24 13:49:13.796 | INFO     | umda.classes:recommend:177 - Using the following clusters: [12]\n",
      "2020-11-24 13:49:15.035 | INFO     | umda.classes:recommend:186 - There are 76085 molecules in this aggregate.\n"
     ]
    }
   ],
   "source": [
    "gp_cluster_df = mrs_gp.recommend(X=tmc1_embedding, cluster=True, h5_data=data)"
   ]
  },
  {
   "cell_type": "code",
   "execution_count": 13,
   "metadata": {},
   "outputs": [
    {
     "data": {
      "text/html": [
       "<div>\n",
       "<style scoped>\n",
       "    .dataframe tbody tr th:only-of-type {\n",
       "        vertical-align: middle;\n",
       "    }\n",
       "\n",
       "    .dataframe tbody tr th {\n",
       "        vertical-align: top;\n",
       "    }\n",
       "\n",
       "    .dataframe thead th {\n",
       "        text-align: right;\n",
       "    }\n",
       "</style>\n",
       "<table border=\"1\" class=\"dataframe\">\n",
       "  <thead>\n",
       "    <tr style=\"text-align: right;\">\n",
       "      <th></th>\n",
       "      <th>Abundance</th>\n",
       "      <th>Uncertainty</th>\n",
       "      <th>Index</th>\n",
       "      <th>SMILES</th>\n",
       "      <th>Counts</th>\n",
       "    </tr>\n",
       "  </thead>\n",
       "  <tbody>\n",
       "    <tr>\n",
       "      <th>0</th>\n",
       "      <td>14.452308</td>\n",
       "      <td>0.600580</td>\n",
       "      <td>0</td>\n",
       "      <td>C</td>\n",
       "      <td>2</td>\n",
       "    </tr>\n",
       "    <tr>\n",
       "      <th>224</th>\n",
       "      <td>14.452308</td>\n",
       "      <td>0.766740</td>\n",
       "      <td>328</td>\n",
       "      <td>N#CC(O)C#N</td>\n",
       "      <td>3</td>\n",
       "    </tr>\n",
       "    <tr>\n",
       "      <th>232</th>\n",
       "      <td>14.452308</td>\n",
       "      <td>0.733774</td>\n",
       "      <td>12</td>\n",
       "      <td>CCC</td>\n",
       "      <td>3</td>\n",
       "    </tr>\n",
       "    <tr>\n",
       "      <th>231</th>\n",
       "      <td>14.452308</td>\n",
       "      <td>0.701840</td>\n",
       "      <td>13</td>\n",
       "      <td>CCO</td>\n",
       "      <td>2</td>\n",
       "    </tr>\n",
       "    <tr>\n",
       "      <th>230</th>\n",
       "      <td>14.452308</td>\n",
       "      <td>0.722226</td>\n",
       "      <td>14</td>\n",
       "      <td>COC</td>\n",
       "      <td>1</td>\n",
       "    </tr>\n",
       "    <tr>\n",
       "      <th>229</th>\n",
       "      <td>14.452308</td>\n",
       "      <td>0.783004</td>\n",
       "      <td>75</td>\n",
       "      <td>COC(C)=N</td>\n",
       "      <td>1</td>\n",
       "    </tr>\n",
       "    <tr>\n",
       "      <th>228</th>\n",
       "      <td>14.452308</td>\n",
       "      <td>0.869369</td>\n",
       "      <td>233</td>\n",
       "      <td>CC(=N)N=CO</td>\n",
       "      <td>2</td>\n",
       "    </tr>\n",
       "    <tr>\n",
       "      <th>227</th>\n",
       "      <td>14.452308</td>\n",
       "      <td>0.779437</td>\n",
       "      <td>323</td>\n",
       "      <td>CC(C#N)C#N</td>\n",
       "      <td>3</td>\n",
       "    </tr>\n",
       "    <tr>\n",
       "      <th>226</th>\n",
       "      <td>14.452308</td>\n",
       "      <td>0.758095</td>\n",
       "      <td>324</td>\n",
       "      <td>C#CC(N)C#N</td>\n",
       "      <td>1</td>\n",
       "    </tr>\n",
       "    <tr>\n",
       "      <th>225</th>\n",
       "      <td>14.452308</td>\n",
       "      <td>0.859071</td>\n",
       "      <td>326</td>\n",
       "      <td>C#CC(O)C#C</td>\n",
       "      <td>1</td>\n",
       "    </tr>\n",
       "    <tr>\n",
       "      <th>223</th>\n",
       "      <td>14.452308</td>\n",
       "      <td>0.776891</td>\n",
       "      <td>329</td>\n",
       "      <td>C#CC(C)C=O</td>\n",
       "      <td>3</td>\n",
       "    </tr>\n",
       "    <tr>\n",
       "      <th>213</th>\n",
       "      <td>14.452308</td>\n",
       "      <td>0.854959</td>\n",
       "      <td>6377</td>\n",
       "      <td>CCCC#CC(C)O</td>\n",
       "      <td>1</td>\n",
       "    </tr>\n",
       "    <tr>\n",
       "      <th>222</th>\n",
       "      <td>14.452308</td>\n",
       "      <td>0.764293</td>\n",
       "      <td>343</td>\n",
       "      <td>COC(=O)C#N</td>\n",
       "      <td>1</td>\n",
       "    </tr>\n",
       "    <tr>\n",
       "      <th>221</th>\n",
       "      <td>14.452308</td>\n",
       "      <td>0.759287</td>\n",
       "      <td>344</td>\n",
       "      <td>C#CC(=O)CO</td>\n",
       "      <td>1</td>\n",
       "    </tr>\n",
       "    <tr>\n",
       "      <th>220</th>\n",
       "      <td>14.452308</td>\n",
       "      <td>0.745224</td>\n",
       "      <td>345</td>\n",
       "      <td>N#CC(=O)CO</td>\n",
       "      <td>1</td>\n",
       "    </tr>\n",
       "    <tr>\n",
       "      <th>219</th>\n",
       "      <td>14.452308</td>\n",
       "      <td>0.763544</td>\n",
       "      <td>349</td>\n",
       "      <td>O=CC(=O)CO</td>\n",
       "      <td>2</td>\n",
       "    </tr>\n",
       "    <tr>\n",
       "      <th>218</th>\n",
       "      <td>14.452308</td>\n",
       "      <td>0.868462</td>\n",
       "      <td>350</td>\n",
       "      <td>CCC(=O)CC</td>\n",
       "      <td>1</td>\n",
       "    </tr>\n",
       "    <tr>\n",
       "      <th>217</th>\n",
       "      <td>14.452308</td>\n",
       "      <td>0.798642</td>\n",
       "      <td>351</td>\n",
       "      <td>CCC(=O)CO</td>\n",
       "      <td>2</td>\n",
       "    </tr>\n",
       "    <tr>\n",
       "      <th>216</th>\n",
       "      <td>14.452308</td>\n",
       "      <td>0.801258</td>\n",
       "      <td>352</td>\n",
       "      <td>CCC(O)=NC</td>\n",
       "      <td>1</td>\n",
       "    </tr>\n",
       "    <tr>\n",
       "      <th>215</th>\n",
       "      <td>14.452308</td>\n",
       "      <td>0.720697</td>\n",
       "      <td>804</td>\n",
       "      <td>N#CC(F)(F)F</td>\n",
       "      <td>1</td>\n",
       "    </tr>\n",
       "  </tbody>\n",
       "</table>\n",
       "</div>"
      ],
      "text/plain": [
       "     Abundance  Uncertainty  Index       SMILES  Counts\n",
       "0    14.452308     0.600580      0            C       2\n",
       "224  14.452308     0.766740    328   N#CC(O)C#N       3\n",
       "232  14.452308     0.733774     12          CCC       3\n",
       "231  14.452308     0.701840     13          CCO       2\n",
       "230  14.452308     0.722226     14          COC       1\n",
       "229  14.452308     0.783004     75     COC(C)=N       1\n",
       "228  14.452308     0.869369    233   CC(=N)N=CO       2\n",
       "227  14.452308     0.779437    323   CC(C#N)C#N       3\n",
       "226  14.452308     0.758095    324   C#CC(N)C#N       1\n",
       "225  14.452308     0.859071    326   C#CC(O)C#C       1\n",
       "223  14.452308     0.776891    329   C#CC(C)C=O       3\n",
       "213  14.452308     0.854959   6377  CCCC#CC(C)O       1\n",
       "222  14.452308     0.764293    343   COC(=O)C#N       1\n",
       "221  14.452308     0.759287    344   C#CC(=O)CO       1\n",
       "220  14.452308     0.745224    345   N#CC(=O)CO       1\n",
       "219  14.452308     0.763544    349   O=CC(=O)CO       2\n",
       "218  14.452308     0.868462    350    CCC(=O)CC       1\n",
       "217  14.452308     0.798642    351    CCC(=O)CO       2\n",
       "216  14.452308     0.801258    352    CCC(O)=NC       1\n",
       "215  14.452308     0.720697    804  N#CC(F)(F)F       1"
      ]
     },
     "execution_count": 13,
     "metadata": {},
     "output_type": "execute_result"
    }
   ],
   "source": [
    "gp_cluster_df.sort_values([\"Abundance\"], ascending=False).head(20)"
   ]
  },
  {
   "cell_type": "code",
   "execution_count": 14,
   "metadata": {},
   "outputs": [],
   "source": [
    "comp = gp_cluster_df.sort_values([\"Abundance\"], ascending=False).head(15)[\"SMILES\"].to_list()"
   ]
  },
  {
   "cell_type": "code",
   "execution_count": 15,
   "metadata": {},
   "outputs": [
    {
     "data": {
      "text/plain": [
       "['C',\n",
       " 'N#CC(O)C#N',\n",
       " 'CCC',\n",
       " 'CCO',\n",
       " 'COC',\n",
       " 'COC(C)=N',\n",
       " 'CC(=N)N=CO',\n",
       " 'CC(C#N)C#N',\n",
       " 'C#CC(N)C#N',\n",
       " 'C#CC(O)C#C',\n",
       " 'C#CC(C)C=O',\n",
       " 'CCCC#CC(C)O',\n",
       " 'COC(=O)C#N',\n",
       " 'C#CC(=O)CO',\n",
       " 'N#CC(=O)CO']"
      ]
     },
     "execution_count": 15,
     "metadata": {},
     "output_type": "execute_result"
    }
   ],
   "source": [
    "comp"
   ]
  },
  {
   "cell_type": "markdown",
   "metadata": {},
   "source": [
    "## Using gradient boosting for recommendations"
   ]
  },
  {
   "cell_type": "code",
   "execution_count": 16,
   "metadata": {},
   "outputs": [
    {
     "data": {
      "text/plain": [
       "['../../models/best_gbr_estimator.pkl']"
      ]
     },
     "execution_count": 16,
     "metadata": {},
     "output_type": "execute_result"
    }
   ],
   "source": [
    "boost_grid = load(\"../../models/gradient_boosting_grid.pkl\")\n",
    "\n",
    "dump(boost_grid.best_estimator_, \"../../models/best_gbr_estimator.pkl\")"
   ]
  },
  {
   "cell_type": "code",
   "execution_count": 17,
   "metadata": {},
   "outputs": [
    {
     "name": "stderr",
     "output_type": "stream",
     "text": [
      "2020-11-24 13:49:23.978 | INFO     | umda.classes:save:220 - Saved MRS to ../../models/TMC1_MRS_GBR.pkl\n"
     ]
    }
   ],
   "source": [
    "mrs_gbr = MRS.from_pickle(\"../../models/kmeans_model.pkl\", \"../../models/best_gbr_estimator.pkl\")\n",
    "\n",
    "mrs_gbr.save(\"../../models/TMC1_MRS_GBR.pkl\")"
   ]
  },
  {
   "cell_type": "code",
   "execution_count": 18,
   "metadata": {},
   "outputs": [
    {
     "name": "stderr",
     "output_type": "stream",
     "text": [
      "2020-11-24 13:49:26.350 | INFO     | umda.classes:recommend:186 - There are 1442130 molecules in this aggregate.\n"
     ]
    }
   ],
   "source": [
    "gbr_nocluster_df = mrs_gbr.recommend(X=tmc1_embedding, cluster=False, h5_data=data)"
   ]
  },
  {
   "cell_type": "code",
   "execution_count": 19,
   "metadata": {},
   "outputs": [
    {
     "name": "stderr",
     "output_type": "stream",
     "text": [
      "2020-11-24 13:49:38.629 | INFO     | umda.classes:recommend:177 - Using the following clusters: [12]\n",
      "2020-11-24 13:49:39.880 | INFO     | umda.classes:recommend:186 - There are 76071 molecules in this aggregate.\n"
     ]
    }
   ],
   "source": [
    "gbr_cluster_df = mrs_gbr.recommend(X=tmc1_embedding, cluster=True, h5_data=data, dist_thres=1e-4)"
   ]
  },
  {
   "cell_type": "code",
   "execution_count": 20,
   "metadata": {},
   "outputs": [
    {
     "data": {
      "text/html": [
       "<div>\n",
       "<style scoped>\n",
       "    .dataframe tbody tr th:only-of-type {\n",
       "        vertical-align: middle;\n",
       "    }\n",
       "\n",
       "    .dataframe tbody tr th {\n",
       "        vertical-align: top;\n",
       "    }\n",
       "\n",
       "    .dataframe thead th {\n",
       "        text-align: right;\n",
       "    }\n",
       "</style>\n",
       "<table border=\"1\" class=\"dataframe\">\n",
       "  <thead>\n",
       "    <tr style=\"text-align: right;\">\n",
       "      <th></th>\n",
       "      <th>Abundance</th>\n",
       "      <th>Index</th>\n",
       "      <th>SMILES</th>\n",
       "      <th>Counts</th>\n",
       "    </tr>\n",
       "  </thead>\n",
       "  <tbody>\n",
       "    <tr>\n",
       "      <th>0</th>\n",
       "      <td>18.862867</td>\n",
       "      <td>0</td>\n",
       "      <td>C</td>\n",
       "      <td>2</td>\n",
       "    </tr>\n",
       "    <tr>\n",
       "      <th>1</th>\n",
       "      <td>14.800549</td>\n",
       "      <td>2</td>\n",
       "      <td>O</td>\n",
       "      <td>1</td>\n",
       "    </tr>\n",
       "    <tr>\n",
       "      <th>2</th>\n",
       "      <td>14.295927</td>\n",
       "      <td>18767</td>\n",
       "      <td>C1=CC2C=CC1CO2</td>\n",
       "      <td>1</td>\n",
       "    </tr>\n",
       "    <tr>\n",
       "      <th>3</th>\n",
       "      <td>13.838755</td>\n",
       "      <td>17286</td>\n",
       "      <td>C1=CC23OC4C2C1C43</td>\n",
       "      <td>2</td>\n",
       "    </tr>\n",
       "    <tr>\n",
       "      <th>4</th>\n",
       "      <td>13.590779</td>\n",
       "      <td>76032</td>\n",
       "      <td>CC1C2C3C=CC(C3)C12</td>\n",
       "      <td>2</td>\n",
       "    </tr>\n",
       "    <tr>\n",
       "      <th>5</th>\n",
       "      <td>13.414515</td>\n",
       "      <td>76036</td>\n",
       "      <td>OC1C2C3C=CC(O3)C12</td>\n",
       "      <td>3</td>\n",
       "    </tr>\n",
       "    <tr>\n",
       "      <th>6</th>\n",
       "      <td>13.288469</td>\n",
       "      <td>76004</td>\n",
       "      <td>OC1C2C3C=CCC3C12</td>\n",
       "      <td>2</td>\n",
       "    </tr>\n",
       "    <tr>\n",
       "      <th>7</th>\n",
       "      <td>12.952806</td>\n",
       "      <td>75942</td>\n",
       "      <td>OC1C2C3=CCCC3C12</td>\n",
       "      <td>3</td>\n",
       "    </tr>\n",
       "    <tr>\n",
       "      <th>8</th>\n",
       "      <td>12.908845</td>\n",
       "      <td>76034</td>\n",
       "      <td>CN1C2C3C=CC(O3)C21</td>\n",
       "      <td>1</td>\n",
       "    </tr>\n",
       "    <tr>\n",
       "      <th>9</th>\n",
       "      <td>12.773494</td>\n",
       "      <td>18768</td>\n",
       "      <td>C1=CC2CCC1CC2</td>\n",
       "      <td>4</td>\n",
       "    </tr>\n",
       "    <tr>\n",
       "      <th>10</th>\n",
       "      <td>12.668698</td>\n",
       "      <td>12</td>\n",
       "      <td>CCC</td>\n",
       "      <td>3</td>\n",
       "    </tr>\n",
       "    <tr>\n",
       "      <th>11</th>\n",
       "      <td>12.205315</td>\n",
       "      <td>13</td>\n",
       "      <td>CCO</td>\n",
       "      <td>2</td>\n",
       "    </tr>\n",
       "    <tr>\n",
       "      <th>12</th>\n",
       "      <td>12.017540</td>\n",
       "      <td>344</td>\n",
       "      <td>C#CC(=O)CO</td>\n",
       "      <td>1</td>\n",
       "    </tr>\n",
       "    <tr>\n",
       "      <th>13</th>\n",
       "      <td>11.684446</td>\n",
       "      <td>75940</td>\n",
       "      <td>CC1C2C3=CCCC3N12</td>\n",
       "      <td>2</td>\n",
       "    </tr>\n",
       "    <tr>\n",
       "      <th>14</th>\n",
       "      <td>11.344856</td>\n",
       "      <td>350</td>\n",
       "      <td>CCC(=O)CC</td>\n",
       "      <td>1</td>\n",
       "    </tr>\n",
       "    <tr>\n",
       "      <th>15</th>\n",
       "      <td>11.314037</td>\n",
       "      <td>1417</td>\n",
       "      <td>C#CCC(O)CO</td>\n",
       "      <td>1</td>\n",
       "    </tr>\n",
       "    <tr>\n",
       "      <th>16</th>\n",
       "      <td>11.086948</td>\n",
       "      <td>50048</td>\n",
       "      <td>O=C1OCC1CN=CO</td>\n",
       "      <td>1</td>\n",
       "    </tr>\n",
       "    <tr>\n",
       "      <th>17</th>\n",
       "      <td>10.857203</td>\n",
       "      <td>17355</td>\n",
       "      <td>COCC1C2CN1C2</td>\n",
       "      <td>2</td>\n",
       "    </tr>\n",
       "    <tr>\n",
       "      <th>18</th>\n",
       "      <td>10.738048</td>\n",
       "      <td>76058</td>\n",
       "      <td>OC1C2C3COCC3C12</td>\n",
       "      <td>3</td>\n",
       "    </tr>\n",
       "    <tr>\n",
       "      <th>19</th>\n",
       "      <td>10.735688</td>\n",
       "      <td>64087</td>\n",
       "      <td>C#CC1C2OC(=N)C12O</td>\n",
       "      <td>1</td>\n",
       "    </tr>\n",
       "  </tbody>\n",
       "</table>\n",
       "</div>"
      ],
      "text/plain": [
       "    Abundance  Index              SMILES  Counts\n",
       "0   18.862867      0                   C       2\n",
       "1   14.800549      2                   O       1\n",
       "2   14.295927  18767      C1=CC2C=CC1CO2       1\n",
       "3   13.838755  17286   C1=CC23OC4C2C1C43       2\n",
       "4   13.590779  76032  CC1C2C3C=CC(C3)C12       2\n",
       "5   13.414515  76036  OC1C2C3C=CC(O3)C12       3\n",
       "6   13.288469  76004    OC1C2C3C=CCC3C12       2\n",
       "7   12.952806  75942    OC1C2C3=CCCC3C12       3\n",
       "8   12.908845  76034  CN1C2C3C=CC(O3)C21       1\n",
       "9   12.773494  18768       C1=CC2CCC1CC2       4\n",
       "10  12.668698     12                 CCC       3\n",
       "11  12.205315     13                 CCO       2\n",
       "12  12.017540    344          C#CC(=O)CO       1\n",
       "13  11.684446  75940    CC1C2C3=CCCC3N12       2\n",
       "14  11.344856    350           CCC(=O)CC       1\n",
       "15  11.314037   1417          C#CCC(O)CO       1\n",
       "16  11.086948  50048       O=C1OCC1CN=CO       1\n",
       "17  10.857203  17355        COCC1C2CN1C2       2\n",
       "18  10.738048  76058     OC1C2C3COCC3C12       3\n",
       "19  10.735688  64087   C#CC1C2OC(=N)C12O       1"
      ]
     },
     "execution_count": 20,
     "metadata": {},
     "output_type": "execute_result"
    }
   ],
   "source": [
    "gbr_cluster_df.head(20)"
   ]
  },
  {
   "cell_type": "code",
   "execution_count": 21,
   "metadata": {},
   "outputs": [
    {
     "data": {
      "text/plain": [
       "['C',\n",
       " 'N#CC(O)C#N',\n",
       " 'CCC',\n",
       " 'CCO',\n",
       " 'COC',\n",
       " 'COC(C)=N',\n",
       " 'CC(=N)N=CO',\n",
       " 'CC(C#N)C#N',\n",
       " 'C#CC(N)C#N',\n",
       " 'C#CC(O)C#C',\n",
       " 'C#CC(C)C=O',\n",
       " 'CCCC#CC(C)O',\n",
       " 'COC(=O)C#N',\n",
       " 'C#CC(=O)CO',\n",
       " 'N#CC(=O)CO']"
      ]
     },
     "execution_count": 21,
     "metadata": {},
     "output_type": "execute_result"
    }
   ],
   "source": [
    "comp"
   ]
  },
  {
   "cell_type": "code",
   "execution_count": 22,
   "metadata": {},
   "outputs": [],
   "source": [
    "from subprocess import Popen, PIPE\n",
    "import matplotlib.image as image\n",
    "from matplotlib.offsetbox import AnnotationBbox, OffsetImage"
   ]
  },
  {
   "cell_type": "code",
   "execution_count": 23,
   "metadata": {},
   "outputs": [],
   "source": [
    "def add_image(axis, filepath, zoom=0.15, position=[0.0, 0.0]):\n",
    "    \"\"\"\n",
    "        Function to add an image annotation to a specified axis.\n",
    "        Takes the matplotlib axis and filepath to the image as input,\n",
    "        and optional arguments for the scaling (zoom) and position of\n",
    "        the image in axis units.\n",
    "    \"\"\"\n",
    "    image = OffsetImage(plt.imread(filepath, format=\"png\"), zoom=zoom)\n",
    "    image.image.axes = axis\n",
    "\n",
    "    box = AnnotationBbox(\n",
    "        image, position, xybox=position, xycoords=\"data\", frameon=False\n",
    "    )\n",
    "    axis.add_artist(box)\n"
   ]
  },
  {
   "cell_type": "code",
   "execution_count": 24,
   "metadata": {},
   "outputs": [],
   "source": [
    "for index, smi in enumerate(comp):\n",
    "    cmd = f\"\"\"obabel -:\"{smi}\" -opng\"\"\"\n",
    "    with open(f\"molecules/{index}.png\", \"w+\") as write_file:\n",
    "        proc = Popen(cmd, stdout=write_file, shell=True)"
   ]
  },
  {
   "cell_type": "code",
   "execution_count": 25,
   "metadata": {},
   "outputs": [],
   "source": [
    "selected = gbr_cluster_df.loc[gbr_cluster_df[\"SMILES\"].isin(comp[:10])]\n",
    "gp_selected = gp_cluster_df.loc[gp_cluster_df[\"SMILES\"].isin(comp[:10])]\n",
    "\n",
    "selected.reset_index(inplace=True, drop=True)"
   ]
  },
  {
   "cell_type": "code",
   "execution_count": 31,
   "metadata": {},
   "outputs": [
    {
     "data": {
      "image/png": "[encoded data removed]",
      "text/plain": [
       "<Figure size 2400x1200 with 1 Axes>"
      ]
     },
     "metadata": {},
     "output_type": "display_data"
    }
   ],
   "source": [
    "fig, ax = plt.subplots(figsize=(8, 4))\n",
    "\n",
    "ax.bar(np.arange(len(selected)), selected[\"Abundance\"], yerr=gp_selected[\"Uncertainty\"], capsize=5, linewidth=1., edgecolor=\"k\")\n",
    "ax.set_xticks(np.arange(len(selected)))\n",
    "ax.set_xticklabels(comp, rotation=45)\n",
    "for index, row in selected.iterrows():\n",
    "    add_image(ax, f\"molecules/{index}.png\", zoom=0.15, position=[index, row[\"Abundance\"] + 4.])\n",
    "ax.set_ylim([0., 25.])\n",
    "ax.set_ylabel(\"log $N_{col}$ (cm$^{-2}$)\")\n",
    "fig.savefig(\"example-predictions.png\", dpi=300, transparent=True)"
   ]
  },
  {
   "cell_type": "markdown",
   "metadata": {},
   "source": [
    "## Requests"
   ]
  },
  {
   "cell_type": "code",
   "execution_count": 15,
   "metadata": {},
   "outputs": [],
   "source": [
    "targets = [\n",
    "    \"C1=CNC=C1\",   # pyrrole\n",
    "    \"C1=CC=NC=C1\", # pyridine\n",
    "    \"C1=CC=C(C(=C1)C#N)C#N\", # ortho-DCB\n",
    "    \"C(C(=O)O)N\", # glycine\n",
    "    \"C1C=CC2=CC=CC=C21\", # indene\n",
    "    \"C1=CC=CC=C1\", # benzene\n",
    "    \"C1=CC=C(C=C1)O\", # phenol\n",
    "    \"C1=CC=C2C=C3C=CC=CC3=CC2=C1\", # anthracene\n",
    "    \"C1=CC=C2C=CC=CC2=C1\", # naphthalene\n",
    "    \"C#N\", # hydrogen cyanide\n",
    "]"
   ]
  },
  {
   "cell_type": "code",
   "execution_count": 16,
   "metadata": {},
   "outputs": [],
   "source": [
    "target_df = mrs_gbr.predict(smi=targets, embedding_model=embedder)"
   ]
  },
  {
   "cell_type": "code",
   "execution_count": 17,
   "metadata": {},
   "outputs": [],
   "source": [
    "target_df[\"Name\"] = [\"Pyrrole\", \"Pyridine\", \"ortho-DCB\", \"Glycine\", \"Indene\", \"Benzene\", \"Phenol\", \"Anthracene\", \"Naphthalene\", \"Hydrogen cyanide\"]"
   ]
  },
  {
   "cell_type": "code",
   "execution_count": 18,
   "metadata": {},
   "outputs": [
    {
     "data": {
      "text/html": [
       "<div>\n",
       "<style scoped>\n",
       "    .dataframe tbody tr th:only-of-type {\n",
       "        vertical-align: middle;\n",
       "    }\n",
       "\n",
       "    .dataframe tbody tr th {\n",
       "        vertical-align: top;\n",
       "    }\n",
       "\n",
       "    .dataframe thead th {\n",
       "        text-align: right;\n",
       "    }\n",
       "</style>\n",
       "<table border=\"1\" class=\"dataframe\">\n",
       "  <thead>\n",
       "    <tr style=\"text-align: right;\">\n",
       "      <th></th>\n",
       "      <th>Abundance</th>\n",
       "      <th>SMILES</th>\n",
       "      <th>Name</th>\n",
       "    </tr>\n",
       "  </thead>\n",
       "  <tbody>\n",
       "    <tr>\n",
       "      <th>0</th>\n",
       "      <td>10.614803</td>\n",
       "      <td>C1=CNC=C1</td>\n",
       "      <td>Pyrrole</td>\n",
       "    </tr>\n",
       "    <tr>\n",
       "      <th>1</th>\n",
       "      <td>12.131378</td>\n",
       "      <td>C1=CC=NC=C1</td>\n",
       "      <td>Pyridine</td>\n",
       "    </tr>\n",
       "    <tr>\n",
       "      <th>2</th>\n",
       "      <td>5.200183</td>\n",
       "      <td>C1=CC=C(C(=C1)C#N)C#N</td>\n",
       "      <td>ortho-DCB</td>\n",
       "    </tr>\n",
       "    <tr>\n",
       "      <th>3</th>\n",
       "      <td>11.273654</td>\n",
       "      <td>C(C(=O)O)N</td>\n",
       "      <td>Glycine</td>\n",
       "    </tr>\n",
       "    <tr>\n",
       "      <th>4</th>\n",
       "      <td>9.472577</td>\n",
       "      <td>C1C=CC2=CC=CC=C21</td>\n",
       "      <td>Indene</td>\n",
       "    </tr>\n",
       "    <tr>\n",
       "      <th>5</th>\n",
       "      <td>13.060663</td>\n",
       "      <td>C1=CC=CC=C1</td>\n",
       "      <td>Benzene</td>\n",
       "    </tr>\n",
       "    <tr>\n",
       "      <th>6</th>\n",
       "      <td>11.121467</td>\n",
       "      <td>C1=CC=C(C=C1)O</td>\n",
       "      <td>Phenol</td>\n",
       "    </tr>\n",
       "    <tr>\n",
       "      <th>7</th>\n",
       "      <td>7.128609</td>\n",
       "      <td>C1=CC=C2C=C3C=CC=CC3=CC2=C1</td>\n",
       "      <td>Anthracene</td>\n",
       "    </tr>\n",
       "    <tr>\n",
       "      <th>8</th>\n",
       "      <td>8.126541</td>\n",
       "      <td>C1=CC=C2C=CC=CC2=C1</td>\n",
       "      <td>Naphthalene</td>\n",
       "    </tr>\n",
       "    <tr>\n",
       "      <th>9</th>\n",
       "      <td>13.163884</td>\n",
       "      <td>C#N</td>\n",
       "      <td>Hydrogen cyanide</td>\n",
       "    </tr>\n",
       "  </tbody>\n",
       "</table>\n",
       "</div>"
      ],
      "text/plain": [
       "   Abundance                       SMILES              Name\n",
       "0  10.614803                    C1=CNC=C1           Pyrrole\n",
       "1  12.131378                  C1=CC=NC=C1          Pyridine\n",
       "2   5.200183        C1=CC=C(C(=C1)C#N)C#N         ortho-DCB\n",
       "3  11.273654                   C(C(=O)O)N           Glycine\n",
       "4   9.472577            C1C=CC2=CC=CC=C21            Indene\n",
       "5  13.060663                  C1=CC=CC=C1           Benzene\n",
       "6  11.121467               C1=CC=C(C=C1)O            Phenol\n",
       "7   7.128609  C1=CC=C2C=C3C=CC=CC3=CC2=C1        Anthracene\n",
       "8   8.126541          C1=CC=C2C=CC=CC2=C1       Naphthalene\n",
       "9  13.163884                          C#N  Hydrogen cyanide"
      ]
     },
     "execution_count": 18,
     "metadata": {},
     "output_type": "execute_result"
    }
   ],
   "source": [
    "target_df"
   ]
  },
  {
   "cell_type": "code",
   "execution_count": 18,
   "metadata": {},
   "outputs": [],
   "source": [
    "indene = np.sum([1345768928638.639, 2727913957371.784, 1753385269270.761, 3079442410060.451])"
   ]
  },
  {
   "cell_type": "code",
   "execution_count": 19,
   "metadata": {},
   "outputs": [
    {
     "name": "stdout",
     "output_type": "stream",
     "text": [
      "8.9065e+12\n"
     ]
    }
   ],
   "source": [
    "print(f\"{indene:.4e}\")"
   ]
  },
  {
   "cell_type": "code",
   "execution_count": 23,
   "metadata": {},
   "outputs": [],
   "source": [
    "tmc1_predict = mrs_gbr.predict(X=tmc1_embedding, smi=tmc1_df[\"SMILES\"].to_list())"
   ]
  },
  {
   "cell_type": "code",
   "execution_count": 37,
   "metadata": {},
   "outputs": [],
   "source": [
    "tmc1_predict[\"Observed\"] = np.log10(tmc1_df[\"Column density (cm^-2)\"].values)"
   ]
  },
  {
   "cell_type": "code",
   "execution_count": 45,
   "metadata": {},
   "outputs": [
    {
     "data": {
      "text/html": [
       "<div>\n",
       "<style scoped>\n",
       "    .dataframe tbody tr th:only-of-type {\n",
       "        vertical-align: middle;\n",
       "    }\n",
       "\n",
       "    .dataframe tbody tr th {\n",
       "        vertical-align: top;\n",
       "    }\n",
       "\n",
       "    .dataframe thead th {\n",
       "        text-align: right;\n",
       "    }\n",
       "</style>\n",
       "<table border=\"1\" class=\"dataframe\">\n",
       "  <thead>\n",
       "    <tr style=\"text-align: right;\">\n",
       "      <th></th>\n",
       "      <th>Abundance</th>\n",
       "      <th>SMILES</th>\n",
       "      <th>Observed</th>\n",
       "    </tr>\n",
       "  </thead>\n",
       "  <tbody>\n",
       "    <tr>\n",
       "      <th>60</th>\n",
       "      <td>11.922915</td>\n",
       "      <td>C#CC#C[C+]=O</td>\n",
       "      <td>12.230449</td>\n",
       "    </tr>\n",
       "    <tr>\n",
       "      <th>61</th>\n",
       "      <td>11.998348</td>\n",
       "      <td>C=[N]</td>\n",
       "      <td>11.176091</td>\n",
       "    </tr>\n",
       "    <tr>\n",
       "      <th>62</th>\n",
       "      <td>12.404672</td>\n",
       "      <td>C=O</td>\n",
       "      <td>13.079181</td>\n",
       "    </tr>\n",
       "    <tr>\n",
       "      <th>63</th>\n",
       "      <td>11.841391</td>\n",
       "      <td>C#CC#[O+]</td>\n",
       "      <td>11.322219</td>\n",
       "    </tr>\n",
       "    <tr>\n",
       "      <th>64</th>\n",
       "      <td>12.153225</td>\n",
       "      <td>O=C=[OH+]</td>\n",
       "      <td>11.602060</td>\n",
       "    </tr>\n",
       "    <tr>\n",
       "      <th>65</th>\n",
       "      <td>11.672592</td>\n",
       "      <td>C=[OH+]</td>\n",
       "      <td>11.477121</td>\n",
       "    </tr>\n",
       "    <tr>\n",
       "      <th>66</th>\n",
       "      <td>11.134055</td>\n",
       "      <td>NC#[O+]</td>\n",
       "      <td>10.602060</td>\n",
       "    </tr>\n",
       "    <tr>\n",
       "      <th>67</th>\n",
       "      <td>11.736825</td>\n",
       "      <td>C#N[O]</td>\n",
       "      <td>10.845098</td>\n",
       "    </tr>\n",
       "    <tr>\n",
       "      <th>68</th>\n",
       "      <td>11.800793</td>\n",
       "      <td>OC#N</td>\n",
       "      <td>11.041393</td>\n",
       "    </tr>\n",
       "    <tr>\n",
       "      <th>69</th>\n",
       "      <td>21.086520</td>\n",
       "      <td>[HH]</td>\n",
       "      <td>22.000000</td>\n",
       "    </tr>\n",
       "    <tr>\n",
       "      <th>70</th>\n",
       "      <td>11.362474</td>\n",
       "      <td>[C]#CC#[C]=O</td>\n",
       "      <td>11.079181</td>\n",
       "    </tr>\n",
       "    <tr>\n",
       "      <th>71</th>\n",
       "      <td>11.549361</td>\n",
       "      <td>C(=O)O</td>\n",
       "      <td>12.146128</td>\n",
       "    </tr>\n",
       "    <tr>\n",
       "      <th>72</th>\n",
       "      <td>11.856454</td>\n",
       "      <td>C#[C]=O</td>\n",
       "      <td>12.000000</td>\n",
       "    </tr>\n",
       "  </tbody>\n",
       "</table>\n",
       "</div>"
      ],
      "text/plain": [
       "    Abundance        SMILES   Observed\n",
       "60  11.922915  C#CC#C[C+]=O  12.230449\n",
       "61  11.998348         C=[N]  11.176091\n",
       "62  12.404672           C=O  13.079181\n",
       "63  11.841391     C#CC#[O+]  11.322219\n",
       "64  12.153225     O=C=[OH+]  11.602060\n",
       "65  11.672592       C=[OH+]  11.477121\n",
       "66  11.134055       NC#[O+]  10.602060\n",
       "67  11.736825        C#N[O]  10.845098\n",
       "68  11.800793          OC#N  11.041393\n",
       "69  21.086520          [HH]  22.000000\n",
       "70  11.362474  [C]#CC#[C]=O  11.079181\n",
       "71  11.549361        C(=O)O  12.146128\n",
       "72  11.856454       C#[C]=O  12.000000"
      ]
     },
     "execution_count": 45,
     "metadata": {},
     "output_type": "execute_result"
    }
   ],
   "source": [
    "tmc1_predict.iloc[60:73]"
   ]
  },
  {
   "cell_type": "code",
   "execution_count": 38,
   "metadata": {},
   "outputs": [
    {
     "data": {
      "text/html": [
       "<div>\n",
       "<style scoped>\n",
       "    .dataframe tbody tr th:only-of-type {\n",
       "        vertical-align: middle;\n",
       "    }\n",
       "\n",
       "    .dataframe tbody tr th {\n",
       "        vertical-align: top;\n",
       "    }\n",
       "\n",
       "    .dataframe thead th {\n",
       "        text-align: right;\n",
       "    }\n",
       "</style>\n",
       "<table border=\"1\" class=\"dataframe\">\n",
       "  <thead>\n",
       "    <tr style=\"text-align: right;\">\n",
       "      <th></th>\n",
       "      <th>Abundance</th>\n",
       "      <th>SMILES</th>\n",
       "      <th>Observed</th>\n",
       "    </tr>\n",
       "  </thead>\n",
       "  <tbody>\n",
       "    <tr>\n",
       "      <th>25</th>\n",
       "      <td>12.072381</td>\n",
       "      <td>[C-]#C-C#[NH+]</td>\n",
       "      <td>11.680336</td>\n",
       "    </tr>\n",
       "    <tr>\n",
       "      <th>32</th>\n",
       "      <td>11.948157</td>\n",
       "      <td>[CH+]=C=C=C=[C-]</td>\n",
       "      <td>12.269513</td>\n",
       "    </tr>\n",
       "    <tr>\n",
       "      <th>54</th>\n",
       "      <td>11.464689</td>\n",
       "      <td>C#CC#CC#[C-]</td>\n",
       "      <td>11.079181</td>\n",
       "    </tr>\n",
       "    <tr>\n",
       "      <th>79</th>\n",
       "      <td>11.555845</td>\n",
       "      <td>N#CC#[NH+]</td>\n",
       "      <td>10.934498</td>\n",
       "    </tr>\n",
       "    <tr>\n",
       "      <th>64</th>\n",
       "      <td>12.153225</td>\n",
       "      <td>O=C=[OH+]</td>\n",
       "      <td>11.602060</td>\n",
       "    </tr>\n",
       "    <tr>\n",
       "      <th>66</th>\n",
       "      <td>11.134055</td>\n",
       "      <td>NC#[O+]</td>\n",
       "      <td>10.602060</td>\n",
       "    </tr>\n",
       "    <tr>\n",
       "      <th>72</th>\n",
       "      <td>11.856454</td>\n",
       "      <td>C#[C]=O</td>\n",
       "      <td>12.000000</td>\n",
       "    </tr>\n",
       "    <tr>\n",
       "      <th>35</th>\n",
       "      <td>13.654488</td>\n",
       "      <td>C#CC#N</td>\n",
       "      <td>14.243038</td>\n",
       "    </tr>\n",
       "    <tr>\n",
       "      <th>41</th>\n",
       "      <td>12.841522</td>\n",
       "      <td>C#CC#CC#CC#CC#N</td>\n",
       "      <td>13.334454</td>\n",
       "    </tr>\n",
       "    <tr>\n",
       "      <th>15</th>\n",
       "      <td>12.363570</td>\n",
       "      <td>CC#N</td>\n",
       "      <td>12.609594</td>\n",
       "    </tr>\n",
       "    <tr>\n",
       "      <th>1</th>\n",
       "      <td>12.887062</td>\n",
       "      <td>CC#CC#C</td>\n",
       "      <td>13.477121</td>\n",
       "    </tr>\n",
       "    <tr>\n",
       "      <th>43</th>\n",
       "      <td>11.876357</td>\n",
       "      <td>C1C=CC=C1C#N</td>\n",
       "      <td>10.973590</td>\n",
       "    </tr>\n",
       "    <tr>\n",
       "      <th>76</th>\n",
       "      <td>12.001362</td>\n",
       "      <td>C1=C(=O)=C1</td>\n",
       "      <td>11.602060</td>\n",
       "    </tr>\n",
       "    <tr>\n",
       "      <th>30</th>\n",
       "      <td>13.272085</td>\n",
       "      <td>[C+]#C[S-]</td>\n",
       "      <td>14.008600</td>\n",
       "    </tr>\n",
       "    <tr>\n",
       "      <th>60</th>\n",
       "      <td>11.922915</td>\n",
       "      <td>C#CC#C[C+]=O</td>\n",
       "      <td>12.230449</td>\n",
       "    </tr>\n",
       "    <tr>\n",
       "      <th>10</th>\n",
       "      <td>12.433737</td>\n",
       "      <td>C1C#C1</td>\n",
       "      <td>13.269513</td>\n",
       "    </tr>\n",
       "    <tr>\n",
       "      <th>73</th>\n",
       "      <td>11.559841</td>\n",
       "      <td>C#C[C]=O</td>\n",
       "      <td>11.301030</td>\n",
       "    </tr>\n",
       "    <tr>\n",
       "      <th>39</th>\n",
       "      <td>13.147122</td>\n",
       "      <td>C#CC#CC#CC#N</td>\n",
       "      <td>13.562293</td>\n",
       "    </tr>\n",
       "    <tr>\n",
       "      <th>49</th>\n",
       "      <td>11.194262</td>\n",
       "      <td>C#C/C=C/C#N</td>\n",
       "      <td>11.387390</td>\n",
       "    </tr>\n",
       "    <tr>\n",
       "      <th>4</th>\n",
       "      <td>12.221983</td>\n",
       "      <td>N#[NH+]</td>\n",
       "      <td>12.698970</td>\n",
       "    </tr>\n",
       "  </tbody>\n",
       "</table>\n",
       "</div>"
      ],
      "text/plain": [
       "    Abundance            SMILES   Observed\n",
       "25  12.072381    [C-]#C-C#[NH+]  11.680336\n",
       "32  11.948157  [CH+]=C=C=C=[C-]  12.269513\n",
       "54  11.464689      C#CC#CC#[C-]  11.079181\n",
       "79  11.555845        N#CC#[NH+]  10.934498\n",
       "64  12.153225         O=C=[OH+]  11.602060\n",
       "66  11.134055           NC#[O+]  10.602060\n",
       "72  11.856454           C#[C]=O  12.000000\n",
       "35  13.654488            C#CC#N  14.243038\n",
       "41  12.841522   C#CC#CC#CC#CC#N  13.334454\n",
       "15  12.363570              CC#N  12.609594\n",
       "1   12.887062           CC#CC#C  13.477121\n",
       "43  11.876357      C1C=CC=C1C#N  10.973590\n",
       "76  12.001362       C1=C(=O)=C1  11.602060\n",
       "30  13.272085        [C+]#C[S-]  14.008600\n",
       "60  11.922915      C#CC#C[C+]=O  12.230449\n",
       "10  12.433737            C1C#C1  13.269513\n",
       "73  11.559841          C#C[C]=O  11.301030\n",
       "39  13.147122      C#CC#CC#CC#N  13.562293\n",
       "49  11.194262       C#C/C=C/C#N  11.387390\n",
       "4   12.221983           N#[NH+]  12.698970"
      ]
     },
     "execution_count": 38,
     "metadata": {},
     "output_type": "execute_result"
    }
   ],
   "source": [
    "tmc1_predict.sample(20, replace=False)"
   ]
  },
  {
   "cell_type": "code",
   "execution_count": 39,
   "metadata": {},
   "outputs": [
    {
     "data": {
      "text/plain": [
       "0.23392453907752672"
      ]
     },
     "execution_count": 39,
     "metadata": {},
     "output_type": "execute_result"
    }
   ],
   "source": [
    "np.mean(np.square(tmc1_predict[\"Abundance\"] - tmc1_predict[\"Observed\"]))"
   ]
  },
  {
   "cell_type": "markdown",
   "metadata": {},
   "source": [
    "### Cyanopolyyne comparison"
   ]
  },
  {
   "cell_type": "code",
   "execution_count": 32,
   "metadata": {},
   "outputs": [],
   "source": [
    "cp_smiles = [\n",
    "    \"C#N\",\n",
    "    \"C#CC#N\",\n",
    "    \"C#CC#CC#N\",\n",
    "    \"C#CC#CC#CC#N\",\n",
    "    \"C#CC#CC#CC#CC#N\",\n",
    "    \"C#CC#CC#CC#CC#CC#N\",\n",
    "#     \"C#CC#CC#CC#CC#CC#CC#N\"\n",
    "]"
   ]
  },
  {
   "cell_type": "code",
   "execution_count": 33,
   "metadata": {},
   "outputs": [],
   "source": [
    "cp_df = mrs_gbr.predict(smi=cp_smiles, embedding_model=embedder)"
   ]
  },
  {
   "cell_type": "code",
   "execution_count": 34,
   "metadata": {},
   "outputs": [],
   "source": [
    "cp_comp_df = pd.merge(tmc1_df, cp_df, on=\"SMILES\")"
   ]
  },
  {
   "cell_type": "code",
   "execution_count": 35,
   "metadata": {},
   "outputs": [],
   "source": [
    "x = np.arange(1, len(cp_smiles) * 2 + 1., 2)\n",
    "\n",
    "absent = [0, 2, 4]"
   ]
  },
  {
   "cell_type": "code",
   "execution_count": 36,
   "metadata": {},
   "outputs": [],
   "source": [
    "mask = np.ones_like(x, dtype=bool)"
   ]
  },
  {
   "cell_type": "code",
   "execution_count": 37,
   "metadata": {},
   "outputs": [],
   "source": [
    "mask[absent] = False"
   ]
  },
  {
   "cell_type": "code",
   "execution_count": 38,
   "metadata": {},
   "outputs": [
    {
     "data": {
      "text/plain": [
       "array([1., 5., 9.])"
      ]
     },
     "execution_count": 38,
     "metadata": {},
     "output_type": "execute_result"
    }
   ],
   "source": [
    "x[absent]"
   ]
  },
  {
   "cell_type": "code",
   "execution_count": 39,
   "metadata": {},
   "outputs": [],
   "source": [
    "cp_comp_df = cp_comp_df.iloc[[5, 0, 1, 2, 3, 4]]"
   ]
  },
  {
   "cell_type": "code",
   "execution_count": 44,
   "metadata": {},
   "outputs": [
    {
     "data": {
      "image/png": "[encoded data removed]",
      "text/plain": [
       "<Figure size 2400x1200 with 1 Axes>"
      ]
     },
     "metadata": {},
     "output_type": "display_data"
    }
   ],
   "source": [
    "fig, ax = plt.subplots(figsize=(8,4))\n",
    "\n",
    "ax.scatter(x, cp_df[\"Abundance\"], label=\"GBR\")\n",
    "ax.scatter(x[absent], cp_df[\"Abundance\"].iloc[[0, 2, 4]])\n",
    "ax.scatter(x, np.log10(cp_comp_df[\"Column density (cm^-2)\"]), marker='_', s=400, lw=3., label=\"Observed\")\n",
    "ax.set_xticks(x)\n",
    "ax.set_xticklabels([\"HCN\", \"HC3N\", \"HC5N\", \"HC7N\", \"HC9N\", \"HC11N\"])\n",
    "ax.set_ylabel(\"log $N_{col}$ cm$^{-2}$\")\n",
    "ax.legend()\n",
    "fig.savefig(\"cyanopolyyne_validation.png\", dpi=300)"
   ]
  },
  {
   "cell_type": "code",
   "execution_count": null,
   "metadata": {},
   "outputs": [],
   "source": []
  }
 ],
 "metadata": {
  "kernelspec": {
   "display_name": "Python 3.6.10 64-bit ('rdkit': conda)",
   "language": "python",
   "name": "python361064bitrdkitconda2231f7cd07614fa9b5f8257698e6a5f8"
  },
  "language_info": {
   "codemirror_mode": {
    "name": "ipython",
    "version": 3
   },
   "file_extension": ".py",
   "mimetype": "text/x-python",
   "name": "python",
   "nbconvert_exporter": "python",
   "pygments_lexer": "ipython3",
   "version": "3.6.10"
  },
  "widgets": {
   "application/vnd.jupyter.widget-state+json": {
    "state": {},
    "version_major": 2,
    "version_minor": 0
   }
  }
 },
 "nbformat": 4,
 "nbformat_minor": 4
}
