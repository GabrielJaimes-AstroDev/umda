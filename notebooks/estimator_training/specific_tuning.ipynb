{
 "cells": [
  {
   "cell_type": "code",
   "execution_count": 1,
   "metadata": {},
   "outputs": [],
   "source": [
    "%matplotlib inline\n",
    "\n",
    "# ignore warnings\n",
    "import warnings\n",
    "warnings.filterwarnings('ignore')\n",
    "\n",
    "from joblib import load, dump\n",
    "from ruamel.yaml import YAML\n",
    "from matplotlib import pyplot as plt\n",
    "import seaborn as sns\n",
    "import numpy as np\n",
    "import pandas as pd\n",
    "import h5py\n",
    "import periodictable as pt\n",
    "from scipy.stats import loguniform\n",
    "from palettable.cartocolors.sequential import SunsetDark_7\n",
    "\n",
    "from sklearn.metrics import mean_squared_error, r2_score\n",
    "from sklearn.model_selection import KFold, GridSearchCV, ShuffleSplit, train_test_split, learning_curve, RandomizedSearchCV\n",
    "from sklearn.preprocessing import StandardScaler\n",
    "from sklearn.pipeline import Pipeline\n",
    "from sklearn.gaussian_process import GaussianProcessRegressor, kernels\n",
    "from sklearn.neighbors import KNeighborsRegressor\n",
    "from sklearn.linear_model import LinearRegression, BayesianRidge, Ridge\n",
    "from sklearn.svm import SVR\n",
    "from sklearn.ensemble import RandomForestRegressor, GradientBoostingRegressor\n",
    "from sklearn.utils import resample\n",
    "\n",
    "from umda import paths\n",
    "from umda.data import load_data, load_pipeline\n",
    "from umda import training\n",
    "\n",
    "plt.style.use(\"publication.mpl\")"
   ]
  },
  {
   "cell_type": "code",
   "execution_count": 2,
   "metadata": {},
   "outputs": [],
   "source": [
    "seed = 1215677\n",
    "normalize = True\n",
    "mask = False"
   ]
  },
  {
   "cell_type": "code",
   "execution_count": 20,
   "metadata": {},
   "outputs": [],
   "source": [
    "state = np.random.default_rng(seed)\n",
    "\n",
    "full_X, full_cluster_ids, tmc1_df = load_data(exclude_hydrogen=True)\n",
    "embedder = load_pipeline()\n",
    "\n",
    "tmc1_X = np.vstack([embedder.vectorize(smi) for smi in tmc1_df[\"SMILES\"]])\n",
    "tmc1_y = np.log10(tmc1_df[\"Column density (cm^-2)\"].to_numpy())\n",
    "\n",
    "boot_X, boot_y = training.get_bootstrap_samples((tmc1_X, tmc1_y), seed, n_samples=400, replace=True, noise_scale=0.5)\n",
    "\n",
    "(train_X, train_y), (test_X, test_y) = training.get_molecule_split_bootstrap(\n",
    "    (tmc1_X, tmc1_y), seed=seed, n_samples=1000, replace=True,\n",
    "    noise_scale=0.5, molecule_split=0.2, test_size=0.2\n",
    "    )"
   ]
  },
  {
   "cell_type": "code",
   "execution_count": 5,
   "metadata": {},
   "outputs": [],
   "source": [
    "with open(\"model_hparams.yml\") as read_file:\n",
    "    hparams = YAML().load(read_file)"
   ]
  },
  {
   "cell_type": "markdown",
   "metadata": {},
   "source": [
    "## SVR tuning"
   ]
  },
  {
   "cell_type": "code",
   "execution_count": 60,
   "metadata": {},
   "outputs": [],
   "source": [
    "# model = SVR(\"rbf\", C=30., tol=1e-7, epsilon=1e-1)\n",
    "model = SVR(\"rbf\")"
   ]
  },
  {
   "cell_type": "code",
   "execution_count": 86,
   "metadata": {},
   "outputs": [],
   "source": [
    "grid = RandomizedSearchCV(model, {\"C\": loguniform(1e-2, 1e3), \"epsilon\": loguniform(1e-1, 1e1)}, refit=False, n_iter=100, scoring=\"neg_mean_squared_error\", random_state=seed)"
   ]
  },
  {
   "cell_type": "code",
   "execution_count": 87,
   "metadata": {},
   "outputs": [],
   "source": [
    "result = grid.fit(train_X, train_y)"
   ]
  },
  {
   "cell_type": "code",
   "execution_count": 88,
   "metadata": {},
   "outputs": [
    {
     "data": {
      "text/plain": [
       "{'C': 0.0991034751406821, 'epsilon': 1.9165510706536997}"
      ]
     },
     "execution_count": 88,
     "metadata": {},
     "output_type": "execute_result"
    }
   ],
   "source": [
    "result.best_params_"
   ]
  },
  {
   "cell_type": "code",
   "execution_count": 91,
   "metadata": {},
   "outputs": [],
   "source": [
    "result = SVR(**result.best_params_)"
   ]
  },
  {
   "cell_type": "code",
   "execution_count": 90,
   "metadata": {},
   "outputs": [],
   "source": [
    "# train_X, test_X, train_y, test_y = train_test_split(boot_X, boot_y, test_size=0.2, random_state=seed, shuffle=True)"
   ]
  },
  {
   "cell_type": "code",
   "execution_count": 94,
   "metadata": {},
   "outputs": [],
   "source": [
    "result = model.fit(train_X, train_y)"
   ]
  },
  {
   "cell_type": "code",
   "execution_count": 95,
   "metadata": {},
   "outputs": [],
   "source": [
    "train_error = mean_squared_error(train_y, result.predict(train_X))\n",
    "test_error = mean_squared_error(test_y, result.predict(test_X))"
   ]
  },
  {
   "cell_type": "code",
   "execution_count": 96,
   "metadata": {},
   "outputs": [
    {
     "name": "stdout",
     "output_type": "stream",
     "text": [
      "Train errror: 0.89, test error: 1.41\n"
     ]
    }
   ],
   "source": [
    "print(f\"Train errror: {train_error:.2f}, test error: {test_error:.2f}\")"
   ]
  },
  {
   "cell_type": "code",
   "execution_count": 97,
   "metadata": {},
   "outputs": [
    {
     "data": {
      "text/plain": [
       "[<matplotlib.lines.Line2D at 0x7f0b14965610>]"
      ]
     },
     "execution_count": 97,
     "metadata": {},
     "output_type": "execute_result"
    },
    {
     "data": {
      "image/png": "[encoded data removed]",
      "text/plain": [
       "<Figure size 600x600 with 1 Axes>"
      ]
     },
     "metadata": {},
     "output_type": "display_data"
    }
   ],
   "source": [
    "fig, ax = plt.subplots(figsize=(2,2))\n",
    "\n",
    "ax.scatter(tmc1_y, result.predict(tmc1_X), s=5)\n",
    "ax.plot(np.arange(10, 16), np.arange(10, 16), ls=\"--\", alpha=0.6)\n",
    "# ax.set(xlim=[10., 16.], ylim=[10., 16.])"
   ]
  },
  {
   "cell_type": "markdown",
   "metadata": {},
   "source": [
    "## Bayesian ridge regression"
   ]
  },
  {
   "cell_type": "code",
   "execution_count": 292,
   "metadata": {},
   "outputs": [
    {
     "data": {
      "text/plain": [
       "RandomizedSearchCV(cv=10,\n",
       "                   estimator=BayesianRidge(lambda_1=10000.0, lambda_2=10000.0,\n",
       "                                           tol=1e-06),\n",
       "                   n_iter=300,\n",
       "                   param_distributions={'alpha_1': <scipy.stats._distn_infrastructure.rv_frozen object at 0x7fa71e739190>,\n",
       "                                        'alpha_2': <scipy.stats._distn_infrastructure.rv_frozen object at 0x7fa71e6d61d0>,\n",
       "                                        'alpha_init': <scipy.stats._distn_infrastructure.rv_frozen object at 0x7fa71ea05d50>,\n",
       "                                        'lambda_init': <scipy.stats._distn_infrastructure.rv_frozen object at 0x7fa71ea81ed0>})"
      ]
     },
     "execution_count": 292,
     "metadata": {},
     "output_type": "execute_result"
    }
   ],
   "source": [
    "grid = RandomizedSearchCV(BayesianRidge(normalize=False, lambda_1=1e4, lambda_2=1e4, tol=1e-6), \n",
    "    {\n",
    "        # \"lambda_1\": loguniform(5e2, 5e3), \"lambda_2\": loguniform(5e2, 5e3),\n",
    "        \"alpha_1\": loguniform(1e-8, 1e1), \"alpha_2\": loguniform(1e-8, 1e1),\n",
    "        \"alpha_init\": loguniform(1e-8, 1e1), \"lambda_init\": loguniform(1e-2, 1e3)\n",
    "     },\n",
    "    cv=10, n_iter=300\n",
    "    )\n",
    "\n",
    "grid.fit(train_X, train_y)"
   ]
  },
  {
   "cell_type": "code",
   "execution_count": 293,
   "metadata": {},
   "outputs": [],
   "source": [
    "# model = BayesianRidge(normalize=False, lambda_1=1e3, lambda_2=1e3, tol=1e-5, compute_score=True, n_iter=1000)"
   ]
  },
  {
   "cell_type": "code",
   "execution_count": 294,
   "metadata": {},
   "outputs": [
    {
     "name": "stdout",
     "output_type": "stream",
     "text": [
      "{'alpha_1': 9.807732327984395, 'alpha_2': 0.024144291186711565, 'alpha_init': 2.0495896995309582e-05, 'lambda_init': 0.47450191389673974}\n"
     ]
    }
   ],
   "source": [
    "print(grid.best_params_)\n",
    "result = grid.best_estimator_\n",
    "# result = model.fit(train_X, train_y)"
   ]
  },
  {
   "cell_type": "code",
   "execution_count": 295,
   "metadata": {},
   "outputs": [],
   "source": [
    "train_error = mean_squared_error(train_y, result.predict(train_X))\n",
    "test_error = mean_squared_error(test_y, result.predict(test_X))"
   ]
  },
  {
   "cell_type": "code",
   "execution_count": 296,
   "metadata": {},
   "outputs": [
    {
     "name": "stdout",
     "output_type": "stream",
     "text": [
      "Train errror: 0.34, test error: 4.91\n"
     ]
    }
   ],
   "source": [
    "print(f\"Train errror: {train_error:.2f}, test error: {test_error:.2f}\")"
   ]
  },
  {
   "cell_type": "code",
   "execution_count": 297,
   "metadata": {},
   "outputs": [
    {
     "data": {
      "text/plain": [
       "-0.183334283181523"
      ]
     },
     "execution_count": 297,
     "metadata": {},
     "output_type": "execute_result"
    }
   ],
   "source": [
    "r2_score(tmc1_y, result.predict(tmc1_X))"
   ]
  },
  {
   "cell_type": "code",
   "execution_count": 298,
   "metadata": {},
   "outputs": [
    {
     "name": "stdout",
     "output_type": "stream",
     "text": [
      "0.9949008138308706 2.815786864976616\n"
     ]
    }
   ],
   "source": [
    "print(result.lambda_, result.alpha_)"
   ]
  },
  {
   "cell_type": "code",
   "execution_count": 300,
   "metadata": {},
   "outputs": [
    {
     "data": {
      "text/plain": [
       "[<matplotlib.lines.Line2D at 0x7fa71d9613d0>]"
      ]
     },
     "execution_count": 300,
     "metadata": {},
     "output_type": "execute_result"
    },
    {
     "data": {
      "image/png": "[encoded data removed]",
      "text/plain": [
       "<Figure size 600x600 with 1 Axes>"
      ]
     },
     "metadata": {},
     "output_type": "display_data"
    }
   ],
   "source": [
    "fig, ax = plt.subplots(figsize=(2,2))\n",
    "\n",
    "ax.errorbar(tmc1_y, *result.predict(tmc1_X, return_std=True), fmt=\"o\", markersize=1., alpha=0.6)\n",
    "ax.scatter(tmc1_y, result.predict(tmc1_X), s=5.)\n",
    "ax.plot(np.arange(10, 16), np.arange(10, 16), ls=\"--\", alpha=0.3)\n",
    "# ax.set(xlim=[10., 16.], ylim=[10., 16.])"
   ]
  },
  {
   "cell_type": "markdown",
   "metadata": {},
   "source": [
    "## Regular ass ridge regression"
   ]
  },
  {
   "cell_type": "code",
   "execution_count": 21,
   "metadata": {},
   "outputs": [],
   "source": [
    "grid = RandomizedSearchCV(Ridge(normalize=True), {\"alpha\": loguniform(1e-2, 1e2)}, refit=True, n_iter=200, scoring=\"neg_mean_squared_error\")"
   ]
  },
  {
   "cell_type": "code",
   "execution_count": 22,
   "metadata": {},
   "outputs": [],
   "source": [
    "grid.fit(train_X, train_y)\n",
    "\n",
    "result = grid.best_estimator_"
   ]
  },
  {
   "cell_type": "code",
   "execution_count": 113,
   "metadata": {},
   "outputs": [],
   "source": [
    "model = Ridge(alpha=2.)"
   ]
  },
  {
   "cell_type": "code",
   "execution_count": 14,
   "metadata": {},
   "outputs": [
    {
     "ename": "NameError",
     "evalue": "name 'model' is not defined",
     "output_type": "error",
     "traceback": [
      "\u001b[0;31m---------------------------------------------------------------------------\u001b[0m",
      "\u001b[0;31mNameError\u001b[0m                                 Traceback (most recent call last)",
      "\u001b[0;32m<ipython-input-14-c88e1cb137cb>\u001b[0m in \u001b[0;36m<module>\u001b[0;34m\u001b[0m\n\u001b[0;32m----> 1\u001b[0;31m \u001b[0mresult\u001b[0m \u001b[0;34m=\u001b[0m \u001b[0mmodel\u001b[0m\u001b[0;34m.\u001b[0m\u001b[0mfit\u001b[0m\u001b[0;34m(\u001b[0m\u001b[0mtrain_X\u001b[0m\u001b[0;34m,\u001b[0m \u001b[0mtrain_y\u001b[0m\u001b[0;34m)\u001b[0m\u001b[0;34m\u001b[0m\u001b[0;34m\u001b[0m\u001b[0m\n\u001b[0m",
      "\u001b[0;31mNameError\u001b[0m: name 'model' is not defined"
     ]
    }
   ],
   "source": [
    "result = model.fit(train_X, train_y)"
   ]
  },
  {
   "cell_type": "code",
   "execution_count": 23,
   "metadata": {},
   "outputs": [],
   "source": [
    "train_error = mean_squared_error(train_y, result.predict(train_X))\n",
    "test_error = mean_squared_error(test_y, result.predict(test_X))"
   ]
  },
  {
   "cell_type": "code",
   "execution_count": 28,
   "metadata": {},
   "outputs": [
    {
     "name": "stdout",
     "output_type": "stream",
     "text": [
      "Train errror: 0.51, test error: 2.96\n",
      "0.17740871954220772\n"
     ]
    }
   ],
   "source": [
    "print(f\"Train errror: {train_error:.2f}, test error: {test_error:.2f}\")\n",
    "print(f\"{r2_score(tmc1_y, result.predict(tmc1_X))}\")"
   ]
  },
  {
   "cell_type": "code",
   "execution_count": 25,
   "metadata": {},
   "outputs": [],
   "source": [
    "result = grid.best_estimator_"
   ]
  },
  {
   "cell_type": "code",
   "execution_count": 29,
   "metadata": {},
   "outputs": [
    {
     "data": {
      "text/plain": [
       "{'alpha': 0.010085343366221931}"
      ]
     },
     "execution_count": 29,
     "metadata": {},
     "output_type": "execute_result"
    }
   ],
   "source": [
    "grid.best_params_"
   ]
  },
  {
   "cell_type": "code",
   "execution_count": 26,
   "metadata": {},
   "outputs": [
    {
     "data": {
      "text/plain": [
       "[<matplotlib.lines.Line2D at 0x7fa71ee45750>]"
      ]
     },
     "execution_count": 26,
     "metadata": {},
     "output_type": "execute_result"
    },
    {
     "data": {
      "image/png": "[encoded data removed]",
      "text/plain": [
       "<Figure size 600x600 with 1 Axes>"
      ]
     },
     "metadata": {},
     "output_type": "display_data"
    }
   ],
   "source": [
    "fig, ax = plt.subplots(figsize=(2,2))\n",
    "\n",
    "ax.scatter(tmc1_y, result.predict(tmc1_X), s=5.)\n",
    "ax.plot(np.arange(10, 16), np.arange(10, 16), ls=\"--\", alpha=0.6)\n",
    "# ax.set(xlim=[10., 16.], ylim=[10., 16.])"
   ]
  },
  {
   "cell_type": "code",
   "execution_count": null,
   "metadata": {},
   "outputs": [],
   "source": []
  }
 ],
 "metadata": {
  "interpreter": {
   "hash": "38815272606d4e3b04bbd3a96dc4b085d5a6c2ed1c5ead0b1b607595242e786b"
  },
  "kernelspec": {
   "display_name": "Python 3.7.10 64-bit ('umda': conda)",
   "name": "python3"
  },
  "language_info": {
   "codemirror_mode": {
    "name": "ipython",
    "version": 3
   },
   "file_extension": ".py",
   "mimetype": "text/x-python",
   "name": "python",
   "nbconvert_exporter": "python",
   "pygments_lexer": "ipython3",
   "version": "3.7.9"
  },
  "orig_nbformat": 4
 },
 "nbformat": 4,
 "nbformat_minor": 2
}