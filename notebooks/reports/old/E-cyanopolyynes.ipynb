{
 "cells": [
  {
   "cell_type": "code",
   "execution_count": 1,
   "metadata": {},
   "outputs": [
    {
     "name": "stderr",
     "output_type": "stream",
     "text": [
      "Traceback (most recent call last):\n",
      "  File \"/home/kelvin/anaconda3/envs/rdkit/lib/python3.6/site-packages/rdkit/Chem/PandasTools.py\", line 130, in <module>\n",
      "    if 'display.width' in pd.core.config._registered_options:\n",
      "AttributeError: module 'pandas.core' has no attribute 'config'\n"
     ]
    }
   ],
   "source": [
    "import numba\n",
    "import numpy as np\n",
    "import pandas as pd\n",
    "from matplotlib import pyplot as plt\n",
    "from mol2vec import features\n",
    "from rdkit import Chem\n",
    "from rdkit.Chem.Draw import IPythonConsole\n",
    "from rdkit.Chem import AllChem\n",
    "from gensim.models import word2vec\n",
    "from sklearn.linear_model import LinearRegression\n",
    "from sklearn.decomposition import PCA\n",
    "from sklearn.neighbors import KNeighborsRegressor\n",
    "from sklearn.gaussian_process import GaussianProcessRegressor\n",
    "from sklearn.gaussian_process.kernels import RBF"
   ]
  },
  {
   "cell_type": "markdown",
   "metadata": {},
   "source": [
    "# Linear regression\n",
    "\n",
    "In this notebook, we're going to perform some rudimentary checks to make sure our `mol2vec` model is working in a way we expect it to by using the predicted vectors/features to predict the abundances of cyanopolyynes in TMC-1. The idea behind this is that the cyanopolyynes extends mainly along one dimension/feature, which is the number of carbons. The first thing we will do is to use principal components analysis to extract the most important features, in this case should correlate with the number of carbon atoms, and then use the lower dimensionality features to predict the column densities of the molecules.\n",
    "\n",
    "This is also a good opportunity to test out the models we'll be considering: linear regression, $k$-nearest neighbors, and a Gaussian process with a simple radial basis kernel."
   ]
  },
  {
   "cell_type": "code",
   "execution_count": 2,
   "metadata": {},
   "outputs": [],
   "source": [
    "model = word2vec.Word2Vec.load(\"../../models/mol2vec_model.pkl\")"
   ]
  },
  {
   "cell_type": "code",
   "execution_count": 3,
   "metadata": {},
   "outputs": [],
   "source": [
    "@numba.jit(fastmath=True)\n",
    "def cosine_similarity(A, B):\n",
    "    return np.dot(A, B) / (np.linalg.norm(A) * np.linalg.norm(B))\n",
    "\n",
    "\n",
    "@numba.jit(fastmath=True)\n",
    "def pairwise_similarity(vectors):\n",
    "    n = len(vectors)\n",
    "    matrix = np.zeros((n, n), dtype=np.float32)\n",
    "    for i in range(n):\n",
    "        for j in range(n):\n",
    "            matrix[i,j] = cosine_similarity(vectors[i], vectors[j])\n",
    "    return matrix\n",
    "\n",
    "\n",
    "def smi_to_vector(smi: str, model):\n",
    "    try:\n",
    "        mol = Chem.MolFromSmiles(smi)\n",
    "    except RuntimeError:\n",
    "        mol = Chem.MolFromSmiles(smi, sanitize=False)\n",
    "        mol.UpdatePropertyCache(strict=False)\n",
    "        Chem.GetSymmSSSR(mol)\n",
    "    # generate a sentence from rdkit molecule\n",
    "    sentence = features.mol2alt_sentence(mol, radius=1)\n",
    "    # generate vector embedding from sentence and model\n",
    "    vector = features.sentences2vec([sentence], model)\n",
    "    return vector"
   ]
  },
  {
   "cell_type": "code",
   "execution_count": 4,
   "metadata": {},
   "outputs": [],
   "source": [
    "tmc1_df = pd.read_pickle(\"../../data/interim/tmc1_table_vecs.pkl\")"
   ]
  },
  {
   "cell_type": "markdown",
   "metadata": {},
   "source": [
    "## See how PCA looks\n",
    "\n",
    "Principal component analysis is a way to reduce the dimensionality/number of features: we have 300 in `mol2vec`, and we're not sure which ones correspond to the \"number of carbons\" dimension. The way PCA works is by determining projections of the feature space where the explained variance is maximized: in other words, _which axes/dimensions explain the most variation in the data_. For our select polyyne chains, the biggest difference between them all is the length of the carbon chain."
   ]
  },
  {
   "cell_type": "code",
   "execution_count": 12,
   "metadata": {},
   "outputs": [],
   "source": [
    "molecules = [\"HCN\", \"HC3N\", \"HC5N\", \"HC7N\", \"HC9N\"]"
   ]
  },
  {
   "cell_type": "code",
   "execution_count": 13,
   "metadata": {},
   "outputs": [],
   "source": [
    "cyanopolyynes = tmc1_df.loc[tmc1_df[\"Formula\"].isin(molecules)]"
   ]
  },
  {
   "cell_type": "code",
   "execution_count": 14,
   "metadata": {},
   "outputs": [
    {
     "data": {
      "text/html": [
       "<div>\n",
       "<style scoped>\n",
       "    .dataframe tbody tr th:only-of-type {\n",
       "        vertical-align: middle;\n",
       "    }\n",
       "\n",
       "    .dataframe tbody tr th {\n",
       "        vertical-align: top;\n",
       "    }\n",
       "\n",
       "    .dataframe thead th {\n",
       "        text-align: right;\n",
       "    }\n",
       "</style>\n",
       "<table border=\"1\" class=\"dataframe\">\n",
       "  <thead>\n",
       "    <tr style=\"text-align: right;\">\n",
       "      <th></th>\n",
       "      <th>Molecule</th>\n",
       "      <th>Formula</th>\n",
       "      <th>SMILES</th>\n",
       "      <th>Column density (cm^-2)</th>\n",
       "      <th>DOI</th>\n",
       "      <th>Isotopologue</th>\n",
       "      <th>Upper Limit</th>\n",
       "      <th>Notes</th>\n",
       "      <th>Vecs</th>\n",
       "    </tr>\n",
       "  </thead>\n",
       "  <tbody>\n",
       "    <tr>\n",
       "      <th>51</th>\n",
       "      <td>Cyanoacetylene</td>\n",
       "      <td>HC3N</td>\n",
       "      <td>C#CC#N</td>\n",
       "      <td>1.750000e+14</td>\n",
       "      <td>10.3847/2041-8213/aba631</td>\n",
       "      <td>0</td>\n",
       "      <td>0</td>\n",
       "      <td>GOTHAM; analysis in Loomis 2020 but tabulated ...</td>\n",
       "      <td>[0.033001095, -0.89367014, -1.2477198, -1.8944...</td>\n",
       "    </tr>\n",
       "    <tr>\n",
       "      <th>53</th>\n",
       "      <td>Cyanodiacetylene</td>\n",
       "      <td>HC5N</td>\n",
       "      <td>C#CC#CC#N</td>\n",
       "      <td>6.690000e+13</td>\n",
       "      <td>10.3847/2041-8213/aba631</td>\n",
       "      <td>0</td>\n",
       "      <td>0</td>\n",
       "      <td>GOTHAM; analysis in Loomis 2020 but tabulated ...</td>\n",
       "      <td>[-0.24897599, -2.1475952, -1.4807937, -2.30601...</td>\n",
       "    </tr>\n",
       "    <tr>\n",
       "      <th>55</th>\n",
       "      <td>Cyanotriacetylene</td>\n",
       "      <td>HC7N</td>\n",
       "      <td>C#CC#CC#CC#N</td>\n",
       "      <td>3.650000e+13</td>\n",
       "      <td>10.3847/2041-8213/aba631</td>\n",
       "      <td>0</td>\n",
       "      <td>0</td>\n",
       "      <td>GOTHAM; analysis in Loomis 2020 but tabulated ...</td>\n",
       "      <td>[-0.53095317, -3.4015205, -1.7138677, -2.71755...</td>\n",
       "    </tr>\n",
       "    <tr>\n",
       "      <th>57</th>\n",
       "      <td>Cyanotetraacetylene</td>\n",
       "      <td>HC9N</td>\n",
       "      <td>C#CC#CC#CC#CC#N</td>\n",
       "      <td>2.160000e+13</td>\n",
       "      <td>NaN</td>\n",
       "      <td>0</td>\n",
       "      <td>0</td>\n",
       "      <td>GOTHAM; Loomis 2020</td>\n",
       "      <td>[-0.8129304, -4.655446, -1.9469416, -3.1290882...</td>\n",
       "    </tr>\n",
       "  </tbody>\n",
       "</table>\n",
       "</div>"
      ],
      "text/plain": [
       "               Molecule Formula           SMILES  Column density (cm^-2)  \\\n",
       "51       Cyanoacetylene    HC3N           C#CC#N            1.750000e+14   \n",
       "53     Cyanodiacetylene    HC5N        C#CC#CC#N            6.690000e+13   \n",
       "55    Cyanotriacetylene    HC7N     C#CC#CC#CC#N            3.650000e+13   \n",
       "57  Cyanotetraacetylene    HC9N  C#CC#CC#CC#CC#N            2.160000e+13   \n",
       "\n",
       "                         DOI  Isotopologue  Upper Limit  \\\n",
       "51  10.3847/2041-8213/aba631             0            0   \n",
       "53  10.3847/2041-8213/aba631             0            0   \n",
       "55  10.3847/2041-8213/aba631             0            0   \n",
       "57                       NaN             0            0   \n",
       "\n",
       "                                                Notes  \\\n",
       "51  GOTHAM; analysis in Loomis 2020 but tabulated ...   \n",
       "53  GOTHAM; analysis in Loomis 2020 but tabulated ...   \n",
       "55  GOTHAM; analysis in Loomis 2020 but tabulated ...   \n",
       "57                                GOTHAM; Loomis 2020   \n",
       "\n",
       "                                                 Vecs  \n",
       "51  [0.033001095, -0.89367014, -1.2477198, -1.8944...  \n",
       "53  [-0.24897599, -2.1475952, -1.4807937, -2.30601...  \n",
       "55  [-0.53095317, -3.4015205, -1.7138677, -2.71755...  \n",
       "57  [-0.8129304, -4.655446, -1.9469416, -3.1290882...  "
      ]
     },
     "execution_count": 14,
     "metadata": {},
     "output_type": "execute_result"
    }
   ],
   "source": [
    "cyanopolyynes"
   ]
  },
  {
   "cell_type": "code",
   "execution_count": 15,
   "metadata": {},
   "outputs": [],
   "source": [
    "# take 3 components: the number of components has to be fewer than the number of samples\n",
    "pca_model = PCA(n_components=3)"
   ]
  },
  {
   "cell_type": "code",
   "execution_count": 16,
   "metadata": {},
   "outputs": [],
   "source": [
    "cp_array = np.vstack(cyanopolyynes[\"Vecs\"].to_list())"
   ]
  },
  {
   "cell_type": "code",
   "execution_count": 17,
   "metadata": {},
   "outputs": [
    {
     "data": {
      "text/plain": [
       "(4, 300)"
      ]
     },
     "execution_count": 17,
     "metadata": {},
     "output_type": "execute_result"
    }
   ],
   "source": [
    "# the 2D array is number of samples x number of features\n",
    "cp_array.shape"
   ]
  },
  {
   "cell_type": "code",
   "execution_count": 18,
   "metadata": {},
   "outputs": [],
   "source": [
    "# fit the PCA model\n",
    "result = pca_model.fit(cp_array)"
   ]
  },
  {
   "cell_type": "code",
   "execution_count": 19,
   "metadata": {},
   "outputs": [
    {
     "data": {
      "text/plain": [
       "array([1.0000000e+00, 1.0197026e-14, 7.4460058e-15], dtype=float32)"
      ]
     },
     "execution_count": 19,
     "metadata": {},
     "output_type": "execute_result"
    }
   ],
   "source": [
    "# this corresponds to the percentage of explained variance with the component\n",
    "# number. PCA works to find the minimum number of components that explains the\n",
    "# most variation in your data\n",
    "result.explained_variance_ratio_"
   ]
  },
  {
   "cell_type": "code",
   "execution_count": 20,
   "metadata": {},
   "outputs": [],
   "source": [
    "# once we've fit the PCA model, we can transform the 300 dimensional vectors into\n",
    "# the PCA projection\n",
    "reduced = result.transform(cp_array)"
   ]
  },
  {
   "cell_type": "code",
   "execution_count": 21,
   "metadata": {},
   "outputs": [
    {
     "data": {
      "text/plain": [
       "(4, 3)"
      ]
     },
     "execution_count": 21,
     "metadata": {},
     "output_type": "execute_result"
    }
   ],
   "source": [
    "# the result is nnumber of samples x number of dimensions\n",
    "reduced.shape"
   ]
  },
  {
   "cell_type": "code",
   "execution_count": 23,
   "metadata": {},
   "outputs": [
    {
     "data": {
      "image/png": "[encoded data removed]",
      "text/plain": [
       "<Figure size 432x288 with 1 Axes>"
      ]
     },
     "metadata": {
      "needs_background": "light"
     },
     "output_type": "display_data"
    }
   ],
   "source": [
    "# if we plot out the first dimension, this we think should\n",
    "# correspond to the number of carbons. This can be a little abstract to think about\n",
    "fig, ax = plt.subplots()\n",
    "\n",
    "n_carbon = np.arange(3, 11, 2)\n",
    "\n",
    "ax.scatter(n_carbon, reduced[:,0])\n",
    "\n",
    "# annotate the molecule names\n",
    "for index, (_, row) in enumerate(cyanopolyynes.iterrows()):\n",
    "    ax.text(\n",
    "        n_carbon[index], reduced[index,0] + 1.5, row[\"Molecule\"], horizontalalignment=\"center\"\n",
    "    )\n",
    "fig.tight_layout()\n",
    "ax.set(ylabel=\"PCA1\", xlabel=\"Number of carbons\", ylim=[-35., 35.])\n",
    "\n",
    "for spine in [\"top\", \"right\"]:\n",
    "    ax.spines[spine].set_visible(False)"
   ]
  },
  {
   "cell_type": "markdown",
   "metadata": {},
   "source": [
    "This checks out! The first dimension indeed correlates with the number of carbons in the chain. This is just a sanity check to make sure the features our `mol2vec` model are producing actually makes sense to us."
   ]
  },
  {
   "cell_type": "markdown",
   "metadata": {},
   "source": [
    "## Linear regression with carbon chain abundances\n",
    "\n",
    "To test how well this works, we can try and see how well the cyanopolyyne chain abundances decrease linearly."
   ]
  },
  {
   "cell_type": "code",
   "execution_count": 24,
   "metadata": {},
   "outputs": [],
   "source": [
    "model = LinearRegression()"
   ]
  },
  {
   "cell_type": "code",
   "execution_count": 28,
   "metadata": {},
   "outputs": [],
   "source": [
    "# This is just to help conceptualize what we're doing\n",
    "X = reduced\n",
    "Y = cyanopolyynes[\"Column density (cm^-2)\"]"
   ]
  },
  {
   "cell_type": "code",
   "execution_count": 29,
   "metadata": {},
   "outputs": [],
   "source": [
    "# fit the linear model\n",
    "fit_result = model.fit(X, Y)"
   ]
  },
  {
   "cell_type": "code",
   "execution_count": null,
   "metadata": {},
   "outputs": [],
   "source": []
  },
  {
   "cell_type": "markdown",
   "metadata": {},
   "source": [
    "### Plot the linear result"
   ]
  },
  {
   "cell_type": "code",
   "execution_count": 30,
   "metadata": {},
   "outputs": [],
   "source": [
    "pred_Y = fit_result.predict(X)"
   ]
  },
  {
   "cell_type": "code",
   "execution_count": 33,
   "metadata": {},
   "outputs": [
    {
     "data": {
      "text/plain": [
       "<matplotlib.collections.PathCollection at 0x7fb79dbed668>"
      ]
     },
     "execution_count": 33,
     "metadata": {},
     "output_type": "execute_result"
    },
    {
     "data": {
      "image/png": "[encoded data removed]",
      "text/plain": [
       "<Figure size 432x288 with 1 Axes>"
      ]
     },
     "metadata": {
      "needs_background": "light"
     },
     "output_type": "display_data"
    }
   ],
   "source": [
    "fig, ax = plt.subplots()\n",
    "\n",
    "ax.scatter(X[:,0], pred_Y)"
   ]
  },
  {
   "cell_type": "code",
   "execution_count": null,
   "metadata": {},
   "outputs": [],
   "source": []
  },
  {
   "cell_type": "markdown",
   "metadata": {},
   "source": [
    "## k-nearest neighbors"
   ]
  },
  {
   "cell_type": "code",
   "execution_count": 103,
   "metadata": {},
   "outputs": [],
   "source": [
    "n_neighbors = 3\n",
    "knn_model = KNeighborsRegressor(n_neighbors=n_neighbors)"
   ]
  },
  {
   "cell_type": "code",
   "execution_count": null,
   "metadata": {},
   "outputs": [],
   "source": [
    "knn_fit = knn_model.fit(X, Y)\n",
    "knn_pred = knn_fit.predict(X)"
   ]
  },
  {
   "cell_type": "code",
   "execution_count": null,
   "metadata": {},
   "outputs": [],
   "source": []
  },
  {
   "cell_type": "markdown",
   "metadata": {},
   "source": [
    "## Gaussian process"
   ]
  },
  {
   "cell_type": "code",
   "execution_count": 108,
   "metadata": {},
   "outputs": [],
   "source": [
    "# The RBF kernel has a \"length_scale\" parameter that defines how uncertain we think\n",
    "# our data is. This is a tunable parameter.\n",
    "kernel = RBF(length_scale=0.3)\n",
    "gp_model = GaussianProcessRegressor(kernel)"
   ]
  },
  {
   "cell_type": "code",
   "execution_count": null,
   "metadata": {},
   "outputs": [],
   "source": [
    "gp_fit = gp_model.fit(X, Y)\n",
    "gp_pred = gp_fit.predict(X)"
   ]
  },
  {
   "cell_type": "code",
   "execution_count": null,
   "metadata": {},
   "outputs": [],
   "source": []
  },
  {
   "cell_type": "markdown",
   "metadata": {},
   "source": [
    "## Plot up all the results on the same graph"
   ]
  },
  {
   "cell_type": "code",
   "execution_count": null,
   "metadata": {},
   "outputs": [],
   "source": []
  },
  {
   "cell_type": "code",
   "execution_count": null,
   "metadata": {},
   "outputs": [],
   "source": []
  },
  {
   "cell_type": "code",
   "execution_count": null,
   "metadata": {},
   "outputs": [],
   "source": []
  }
 ],
 "metadata": {
  "kernelspec": {
   "display_name": "Python 3.6.10 64-bit ('rdkit': conda)",
   "language": "python",
   "name": "python361064bitrdkitconda2231f7cd07614fa9b5f8257698e6a5f8"
  },
  "language_info": {
   "codemirror_mode": {
    "name": "ipython",
    "version": 3
   },
   "file_extension": ".py",
   "mimetype": "text/x-python",
   "name": "python",
   "nbconvert_exporter": "python",
   "pygments_lexer": "ipython3",
   "version": "3.6.10"
  },
  "widgets": {
   "application/vnd.jupyter.widget-state+json": {
    "state": {},
    "version_major": 2,
    "version_minor": 0
   }
  }
 },
 "nbformat": 4,
 "nbformat_minor": 4
}
