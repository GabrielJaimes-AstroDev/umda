{
 "metadata": {
  "language_info": {
   "codemirror_mode": {
    "name": "ipython",
    "version": 3
   },
   "file_extension": ".py",
   "mimetype": "text/x-python",
   "name": "python",
   "nbconvert_exporter": "python",
   "pygments_lexer": "ipython3",
   "version": "3.7.10"
  },
  "orig_nbformat": 2,
  "kernelspec": {
   "name": "python3710jvsc74a57bd038815272606d4e3b04bbd3a96dc4b085d5a6c2ed1c5ead0b1b607595242e786b",
   "display_name": "Python 3.7.10 64-bit ('umda': conda)"
  },
  "metadata": {
   "interpreter": {
    "hash": "38815272606d4e3b04bbd3a96dc4b085d5a6c2ed1c5ead0b1b607595242e786b"
   }
  }
 },
 "nbformat": 4,
 "nbformat_minor": 2,
 "cells": [
  {
   "cell_type": "code",
   "execution_count": 16,
   "metadata": {},
   "outputs": [],
   "source": [
    "import pandas as pd\n",
    "import numpy as np\n",
    "from subprocess import Popen, PIPE"
   ]
  },
  {
   "cell_type": "code",
   "execution_count": 70,
   "metadata": {},
   "outputs": [],
   "source": [
    "df = pd.read_csv(\"../../data/raw/TMC-1_inventory.csv\")"
   ]
  },
  {
   "cell_type": "code",
   "execution_count": 76,
   "metadata": {},
   "outputs": [],
   "source": [
    "df = df.loc[(df[\"Isotopologue\"] == 0)].reset_index(drop=True)"
   ]
  },
  {
   "cell_type": "code",
   "execution_count": 77,
   "metadata": {},
   "outputs": [],
   "source": [
    "reduced = df[[\"Molecule\", \"Formula\", \"SMILES\", \"Column density (cm^-2)\", \"DOI\"]]"
   ]
  },
  {
   "cell_type": "code",
   "execution_count": 78,
   "metadata": {},
   "outputs": [
    {
     "output_type": "stream",
     "name": "stderr",
     "text": [
      "/home/kelvin/miniconda3/envs/umda/lib/python3.7/site-packages/ipykernel_launcher.py:1: SettingWithCopyWarning: \nA value is trying to be set on a copy of a slice from a DataFrame.\nTry using .loc[row_indexer,col_indexer] = value instead\n\nSee the caveats in the documentation: https://pandas.pydata.org/pandas-docs/stable/user_guide/indexing.html#returning-a-view-versus-a-copy\n  \"\"\"Entry point for launching an IPython kernel.\n"
     ]
    }
   ],
   "source": [
    "reduced[\"Column density (cm^-2)\"] = np.log10(reduced[\"Column density (cm^-2)\"])"
   ]
  },
  {
   "cell_type": "code",
   "execution_count": 79,
   "metadata": {},
   "outputs": [
    {
     "output_type": "execute_result",
     "data": {
      "text/plain": [
       "                  Molecule   Formula            SMILES  \\\n",
       "0       Methyltriacetylene    CH3C6H        CC#CC#CC#C   \n",
       "1        Methyldiacetylene    CH3C4H           CC#CC#C   \n",
       "2   Methylcyanodiacetylene    CH3C5N        CC#CC#CC#N   \n",
       "3     Methylcyanoacetylene    CH3C3N           CC#CC#N   \n",
       "4      Protonated nitrogen      N2H+           N#[NH+]   \n",
       "..                     ...       ...               ...   \n",
       "83        Hydrogen cyanide       HCN               C#N   \n",
       "84                  Indene      C9H8  c1ccc2c(c1)CC=C2   \n",
       "85          Vinylacetylene  CH2CHCCH            C=CC#C   \n",
       "86                     NaN      HCCN          N#C[CH+]   \n",
       "87            Ethylcyanide  CH3CH2CN             CCC#N   \n",
       "\n",
       "    Column density (cm^-2)                          DOI  \n",
       "0                12.491362               10.1086/504918  \n",
       "1                13.477121               10.1086/184312  \n",
       "2                11.924279               10.1086/504918  \n",
       "3                12.255273               10.1086/504918  \n",
       "4                12.698970     10.3847/1538-4365/aa69ba  \n",
       "..                     ...                          ...  \n",
       "83               12.389166               10.1086/306032  \n",
       "84               12.982271                          NaN  \n",
       "85               13.079181  10.1051/0004-6361/202140434  \n",
       "86               11.643453  10.1051/0004-6361/202140434  \n",
       "87               11.041393  10.1051/0004-6361/202140434  \n",
       "\n",
       "[88 rows x 5 columns]"
      ],
      "text/html": "<div>\n<style scoped>\n    .dataframe tbody tr th:only-of-type {\n        vertical-align: middle;\n    }\n\n    .dataframe tbody tr th {\n        vertical-align: top;\n    }\n\n    .dataframe thead th {\n        text-align: right;\n    }\n</style>\n<table border=\"1\" class=\"dataframe\">\n  <thead>\n    <tr style=\"text-align: right;\">\n      <th></th>\n      <th>Molecule</th>\n      <th>Formula</th>\n      <th>SMILES</th>\n      <th>Column density (cm^-2)</th>\n      <th>DOI</th>\n    </tr>\n  </thead>\n  <tbody>\n    <tr>\n      <th>0</th>\n      <td>Methyltriacetylene</td>\n      <td>CH3C6H</td>\n      <td>CC#CC#CC#C</td>\n      <td>12.491362</td>\n      <td>10.1086/504918</td>\n    </tr>\n    <tr>\n      <th>1</th>\n      <td>Methyldiacetylene</td>\n      <td>CH3C4H</td>\n      <td>CC#CC#C</td>\n      <td>13.477121</td>\n      <td>10.1086/184312</td>\n    </tr>\n    <tr>\n      <th>2</th>\n      <td>Methylcyanodiacetylene</td>\n      <td>CH3C5N</td>\n      <td>CC#CC#CC#N</td>\n      <td>11.924279</td>\n      <td>10.1086/504918</td>\n    </tr>\n    <tr>\n      <th>3</th>\n      <td>Methylcyanoacetylene</td>\n      <td>CH3C3N</td>\n      <td>CC#CC#N</td>\n      <td>12.255273</td>\n      <td>10.1086/504918</td>\n    </tr>\n    <tr>\n      <th>4</th>\n      <td>Protonated nitrogen</td>\n      <td>N2H+</td>\n      <td>N#[NH+]</td>\n      <td>12.698970</td>\n      <td>10.3847/1538-4365/aa69ba</td>\n    </tr>\n    <tr>\n      <th>...</th>\n      <td>...</td>\n      <td>...</td>\n      <td>...</td>\n      <td>...</td>\n      <td>...</td>\n    </tr>\n    <tr>\n      <th>83</th>\n      <td>Hydrogen cyanide</td>\n      <td>HCN</td>\n      <td>C#N</td>\n      <td>12.389166</td>\n      <td>10.1086/306032</td>\n    </tr>\n    <tr>\n      <th>84</th>\n      <td>Indene</td>\n      <td>C9H8</td>\n      <td>c1ccc2c(c1)CC=C2</td>\n      <td>12.982271</td>\n      <td>NaN</td>\n    </tr>\n    <tr>\n      <th>85</th>\n      <td>Vinylacetylene</td>\n      <td>CH2CHCCH</td>\n      <td>C=CC#C</td>\n      <td>13.079181</td>\n      <td>10.1051/0004-6361/202140434</td>\n    </tr>\n    <tr>\n      <th>86</th>\n      <td>NaN</td>\n      <td>HCCN</td>\n      <td>N#C[CH+]</td>\n      <td>11.643453</td>\n      <td>10.1051/0004-6361/202140434</td>\n    </tr>\n    <tr>\n      <th>87</th>\n      <td>Ethylcyanide</td>\n      <td>CH3CH2CN</td>\n      <td>CCC#N</td>\n      <td>11.041393</td>\n      <td>10.1051/0004-6361/202140434</td>\n    </tr>\n  </tbody>\n</table>\n<p>88 rows × 5 columns</p>\n</div>"
     },
     "metadata": {},
     "execution_count": 79
    }
   ],
   "source": [
    "reduced"
   ]
  },
  {
   "cell_type": "code",
   "execution_count": 80,
   "metadata": {},
   "outputs": [],
   "source": [
    "entries = reduced[\"DOI\"].dropna().unique().tolist()"
   ]
  },
  {
   "cell_type": "code",
   "execution_count": 45,
   "metadata": {},
   "outputs": [],
   "source": [
    "results = {}\n",
    "for entry in entries:\n",
    "    with Popen([\"doi2bib\", entry], stdout=PIPE) as proc:\n",
    "        results[entry] = proc.communicate()[0].decode(\"utf-8\")"
   ]
  },
  {
   "cell_type": "code",
   "execution_count": 55,
   "metadata": {},
   "outputs": [
    {
     "output_type": "stream",
     "name": "stdout",
     "text": [
      "r\n"
     ]
    }
   ],
   "source": [
    "print(results[\"10.1086/504918\"])"
   ]
  },
  {
   "cell_type": "code",
   "execution_count": 117,
   "metadata": {},
   "outputs": [],
   "source": [
    "map_dict = dict()\n",
    "\n",
    "for key, value in results.items():\n",
    "    citekey = value.split()[0].split(\"{\")[-1].replace(\",\", \"\")\n",
    "    map_dict[key] = f\"\\citet{{{citekey}}}\""
   ]
  },
  {
   "cell_type": "code",
   "execution_count": 118,
   "metadata": {},
   "outputs": [
    {
     "output_type": "stream",
     "name": "stderr",
     "text": [
      "/home/kelvin/miniconda3/envs/umda/lib/python3.7/site-packages/ipykernel_launcher.py:1: SettingWithCopyWarning: \nA value is trying to be set on a copy of a slice from a DataFrame.\nTry using .loc[row_indexer,col_indexer] = value instead\n\nSee the caveats in the documentation: https://pandas.pydata.org/pandas-docs/stable/user_guide/indexing.html#returning-a-view-versus-a-copy\n  \"\"\"Entry point for launching an IPython kernel.\n"
     ]
    }
   ],
   "source": [
    "reduced[\"Reference\"] = reduced[\"DOI\"].map(map_dict)"
   ]
  },
  {
   "cell_type": "code",
   "execution_count": 129,
   "metadata": {},
   "outputs": [],
   "source": [
    "final = reduced[[\"Formula\", \"SMILES\", \"Column density (cm^-2)\", \"Reference\"]]"
   ]
  },
  {
   "cell_type": "code",
   "execution_count": 130,
   "metadata": {},
   "outputs": [
    {
     "output_type": "stream",
     "name": "stderr",
     "text": [
      "/home/kelvin/miniconda3/envs/umda/lib/python3.7/site-packages/ipykernel_launcher.py:1: SettingWithCopyWarning: \nA value is trying to be set on a copy of a slice from a DataFrame.\nTry using .loc[row_indexer,col_indexer] = value instead\n\nSee the caveats in the documentation: https://pandas.pydata.org/pandas-docs/stable/user_guide/indexing.html#returning-a-view-versus-a-copy\n  \"\"\"Entry point for launching an IPython kernel.\n"
     ]
    }
   ],
   "source": [
    "final[\"Formula\"] = final[\"Formula\"].apply(lambda x: f\"\\ce{{{x}}}\")"
   ]
  },
  {
   "cell_type": "code",
   "execution_count": 131,
   "metadata": {},
   "outputs": [],
   "source": [
    "def format_smiles(smi):\n",
    "    for char in [\"#\"]:\n",
    "        smi = smi.replace(char, f\"\\\\{char}\")\n",
    "    return smi"
   ]
  },
  {
   "cell_type": "code",
   "execution_count": 132,
   "metadata": {},
   "outputs": [
    {
     "output_type": "stream",
     "name": "stderr",
     "text": [
      "/home/kelvin/miniconda3/envs/umda/lib/python3.7/site-packages/ipykernel_launcher.py:1: SettingWithCopyWarning: \nA value is trying to be set on a copy of a slice from a DataFrame.\nTry using .loc[row_indexer,col_indexer] = value instead\n\nSee the caveats in the documentation: https://pandas.pydata.org/pandas-docs/stable/user_guide/indexing.html#returning-a-view-versus-a-copy\n  \"\"\"Entry point for launching an IPython kernel.\n"
     ]
    }
   ],
   "source": [
    "final[\"SMILES\"] = final[\"SMILES\"].apply(format_smiles)"
   ]
  },
  {
   "cell_type": "code",
   "execution_count": 133,
   "metadata": {},
   "outputs": [
    {
     "output_type": "stream",
     "name": "stdout",
     "text": [
      "\\begin{longtable}{llrl}\n\\toprule\n      Formula &                    SMILES &  Column density (cm^-2) &               Reference \\\\\n\\midrule\n\\endfirsthead\n\n\\toprule\n      Formula &                    SMILES &  Column density (cm^-2) &               Reference \\\\\n\\midrule\n\\endhead\n\\midrule\n\\multicolumn{4}{r}{{Continued on next page}} \\\\\n\\midrule\n\\endfoot\n\n\\bottomrule\n\\endlastfoot\n  \\ce{CH3C6H} &             CC\\#CC\\#CC\\#C &                 12.4914 &    \\citet{Remijan_2006} \\\\\n  \\ce{CH3C4H} &                 CC\\#CC\\#C &                 13.4771 &    \\citet{MacLeod_1984} \\\\\n  \\ce{CH3C5N} &             CC\\#CC\\#CC\\#N &                 11.9243 &    \\citet{Remijan_2006} \\\\\n  \\ce{CH3C3N} &                 CC\\#CC\\#N &                 12.2553 &    \\citet{Remijan_2006} \\\\\n    \\ce{N2H+} &                  N\\#[NH+] &                 12.6990 &       \\citet{Choi_2017} \\\\\n     \\ce{NH3} &                         N &                 14.6998 &    \\citet{Gratier_2016} \\\\\n   \\ce{CH3OH} &                        CO &                 13.1614 &    \\citet{Gratier_2016} \\\\\n     \\ce{C3H} &                 C1=C=[C]1 &                 13.4800 &    \\citet{Gratier_2016} \\\\\n     \\ce{C3H} &              [CH+]=C=[C-] &                 12.7497 &    \\citet{Gratier_2016} \\\\\n    \\ce{C3H2} &                   C1=C=C1 &                 11.7701 &    \\citet{Gratier_2016} \\\\\n    \\ce{C3H2} &                   C1C\\#C1 &                 13.2695 &    \\citet{Gratier_2016} \\\\\n    \\ce{C3H2} &                   C=C=[C] &                 12.3979 & \\citet{Cernicharo_1991} \\\\\n  \\ce{CH3CCH} &                     CC\\#C &                 14.0607 &    \\citet{Gratier_2016} \\\\\n     \\ce{C2O} &               [C+]\\#C[O-] &                 12.5705 &    \\citet{Gratier_2016} \\\\\n   \\ce{CH2CN} &                 [CH2]C\\#N &                 13.5798 &    \\citet{Gratier_2016} \\\\\n   \\ce{CH3CN} &                     CC\\#N &                 12.6096 &    \\citet{Gratier_2016} \\\\\n    \\ce{HNCO} &                     N=C=O &                 13.0294 &    \\citet{Gratier_2016} \\\\\n      \\ce{CS} &                [C-]\\#[S+] &                 13.4594 &    \\citet{Gratier_2016} \\\\\n  \\ce{CH3CHO} &                      CC=O &                 12.4298 &    \\citet{Gratier_2016} \\\\\n    \\ce{HCS+} &                   C\\#[S+] &                 12.7597 &    \\citet{Gratier_2016} \\\\\n    \\ce{H2CS} &                       C=S &                 13.6201 &    \\citet{Gratier_2016} \\\\\n      \\ce{SO} &                       S=O &                 13.6702 &    \\citet{Gratier_2016} \\\\\n     \\ce{C4H} &                [C]\\#CC\\#C &                 13.4298 &    \\citet{Gratier_2016} \\\\\n    \\ce{C4H2} &                 C=C=C=[C] &                 13.3365 &    \\citet{Gratier_2016} \\\\\n     \\ce{C3N} &                [C]\\#CC\\#N &                 13.5502 &    \\citet{Gratier_2016} \\\\\n    \\ce{HNC3} &          [C-]\\#C-C\\#[NH+] &                 11.6803 &    \\citet{Gratier_2016} \\\\\n     \\ce{C3O} &               [C]\\#C[C]=O &                 11.9201 &    \\citet{Gratier_2016} \\\\\n  \\ce{HC3NH+} &              C\\#CC\\#[NH+] &                 11.8698 &    \\citet{Gratier_2016} \\\\\n \\ce{CH2CHCN} &                   C=CC\\#N &                 12.8102 &    \\citet{Gratier_2016} \\\\\n  \\ce{HCCCHO} &                   C\\#CC=O &                 11.2601 &    \\citet{Gratier_2016} \\\\\n     \\ce{C2S} &               [C+]\\#C[S-] &                 14.0086 &    \\citet{Gratier_2016} \\\\\n     \\ce{OCS} &                     O=C=S &                 13.2601 &    \\citet{Gratier_2016} \\\\\n     \\ce{C5H} &          [CH+]=C=C=C=[C-] &                 12.2695 &    \\citet{Gratier_2016} \\\\\n     \\ce{C3S} &            [C-]\\#CC\\#[S+] &                 13.1399 &    \\citet{Gratier_2016} \\\\\n     \\ce{C6H} &            [C]\\#CC\\#CC\\#C &                 12.7404 &    \\citet{Gratier_2016} \\\\\n    \\ce{HC3N} &                  C\\#CC\\#N &                 14.2430 &        \\citet{Xue_2020} \\\\\n   \\ce{HCCNC} &            C\\#C[N+]\\#[C-] &                 12.5821 &        \\citet{Xue_2020} \\\\\n    \\ce{HC5N} &              C\\#CC\\#CC\\#N &                 13.8254 &        \\citet{Xue_2020} \\\\\n   \\ce{HC4NC} &        C\\#CC\\#C[N+]\\#[C-] &                 11.5172 &        \\citet{Xue_2020} \\\\\n    \\ce{HC7N} &          C\\#CC\\#CC\\#CC\\#N &                 13.5623 &        \\citet{Xue_2020} \\\\\n   \\ce{HC6NC} &    C\\#CC\\#CC\\#C[N+]\\#[C-] &                 11.6064 &        \\citet{Xue_2020} \\\\\n    \\ce{HC9N} &      C\\#CC\\#CC\\#CC\\#CC\\#N &                 13.3345 &     \\citet{Loomis_2021} \\\\\n   \\ce{HC11N} &  C\\#CC\\#CC\\#CC\\#CC\\#CC\\#N &                 12.0170 &     \\citet{Loomis_2021} \\\\\n  \\ce{C5H5CN} &             C1C=CC=C1C\\#N &                 11.9191 & \\citet{Kelvin_Lee_2021} \\\\\n  \\ce{C5H5CN} &           C1C=CC(=C1)C\\#N &                 11.2788 & \\citet{Kelvin_Lee_2021} \\\\\n  \\ce{C11H7N} & C1=CC=C2C(=C1)C=CC=C2C\\#N &                 11.8663 &    \\citet{McGuire_2021} \\\\\n  \\ce{C11H7N} & C1=CC=C2C=C(C=CC2=C1)C\\#N &                 11.8482 &    \\citet{McGuire_2021} \\\\\n  \\ce{C6H5CN} &         C1=CC=C(C=C1)C\\#N &                 12.2380 &    \\citet{McGuire_2021} \\\\\n\\ce{HCCCH2CN} &                 C\\#CCC\\#N &                 11.9643 &    \\citet{McGuire_2020} \\\\\n   \\ce{H3C5N} &             C\\#C/C=C/C\\#N &                 11.3874 & \\citet{Kelvin_Lee_2021} \\\\\n   \\ce{H3C5N} &               C=CC\\#CC\\#N &                 11.0719 & \\citet{Kelvin_Lee_2021} \\\\\n   \\ce{H3C5N} &             C\\#C/C=C\\C\\#N &                 11.3032 & \\citet{Kelvin_Lee_2021} \\\\\n     \\ce{C8H} &        [C]\\#CC\\#CC\\#CC\\#C &                 11.6628 &    \\citet{Br_nken_2007} \\\\\n    \\ce{C8H-} &       C\\#CC\\#CC\\#CC\\#[C-] &                 10.3222 &    \\citet{Br_nken_2007} \\\\\n    \\ce{C6H-} &           C\\#CC\\#CC\\#[C-] &                 11.0792 &    \\citet{Br_nken_2007} \\\\\n    \\ce{C4H-} &               C\\#CC\\#[C-] &                 10.9294 &    \\citet{Br_nken_2007} \\\\\n   \\ce{H2CCO} &                     C=C=O &                 12.7118 &       \\citet{Soma_2018} \\\\\n      \\ce{CN} &                    [C]\\#N &                 12.8899 &     \\citet{Pratap_1997} \\\\\n     \\ce{HNC} &               [C-]\\#[NH+] &                 12.6201 &     \\citet{Pratap_1997} \\\\\n    \\ce{HC7O} &        C\\#CC\\#CC\\#C[C+]=O &                 11.8921 &   \\citet{Cordiner_2017} \\\\\n    \\ce{HC5O} &            C\\#CC\\#C[C+]=O &                 12.2304 &    \\citet{McGuire_2017} \\\\\n    \\ce{H2CN} &                     C=[N] &                 11.1761 &     \\citet{Ohishi_1994} \\\\\n    \\ce{H2CO} &                       C=O &                 13.0792 &       \\citet{Soma_2018} \\\\\n   \\ce{HC3O+} &               C\\#CC\\#[O+] &                 11.3222 & \\citet{Cernicharo_2020} \\\\\n   \\ce{HOCO+} &                 O=C=[OH+] &                 11.6021 & \\citet{Cernicharo_2020} \\\\\n  \\ce{H2COH+} &                   C=[OH+] &                 11.4771 & \\citet{Cernicharo_2020} \\\\\n  \\ce{H2NCO+} &                  NC\\#[O+] &                 10.6021 & \\citet{Cernicharo_2020} \\\\\n    \\ce{HCNO} &                   C\\#N[O] &                 10.8451 & \\citet{Cernicharo_2020} \\\\\n    \\ce{HOCN} &                     OC\\#N &                 11.0414 & \\citet{Cernicharo_2020} \\\\\n      \\ce{H2} &                      [HH] &                 22.0000 & \\citet{Cernicharo_2020} \\\\\n     \\ce{C4O} &            [C]\\#CC\\#[C]=O &                 11.0792 & \\citet{Cernicharo_2020} \\\\\n   \\ce{HCOOH} &                    C(=O)O &                 12.1461 & \\citet{Cernicharo_2020} \\\\\n    \\ce{HC2O} &                  C\\#[C]=O &                 12.0000 & \\citet{Cernicharo_2020} \\\\\n    \\ce{HC3O} &                 C\\#C[C]=O &                 11.3010 & \\citet{Cernicharo_2020} \\\\\n    \\ce{HC4O} &              C\\#CC\\#[C]=O &                 11.4771 & \\citet{Cernicharo_2020} \\\\\n   \\ce{H2C3O} &                   C=C=C=O &                 11.0414 & \\citet{Cernicharo_2020} \\\\\n   \\ce{H2C3O} &               C1=C(=O)=C1 &                 11.6021 & \\citet{Cernicharo_2020} \\\\\n      \\ce{CH} &                      [CH] &                 14.1461 &      \\citet{Sakai_2013} \\\\\n    \\ce{CNCN} &                [C]\\#NC\\#N &                 11.9542 &    \\citet{Ag_ndez_2018} \\\\\n  \\ce{NCCNH+} &              N\\#CC\\#[NH+] &                 10.9345 &    \\citet{Ag_ndez_2015} \\\\\n    \\ce{C6H2} &             C=C=C=C=C=[C] &                 10.3284 &     \\citet{Langer_1997} \\\\\n\\ce{CH3CHCH2} &                      CC=C &                 13.6021 &  \\citet{Marcelino_2007} \\\\\n\\ce{CH2C2HCN} &                 C=C=CC\\#N &                 11.6532 &      \\citet{Lovas_2006} \\\\\n     \\ce{HCN} &                      C\\#N &                 12.3892 &     \\citet{Hirota_1998} \\\\\n    \\ce{C9H8} &          c1ccc2c(c1)CC=C2 &                 12.9823 &                     NaN \\\\\n\\ce{CH2CHCCH} &                   C=CC\\#C &                 13.0792 & \\citet{Cernicharo_2021} \\\\\n    \\ce{HCCN} &                 N\\#C[CH+] &                 11.6435 & \\citet{Cernicharo_2021} \\\\\n\\ce{CH3CH2CN} &                    CCC\\#N &                 11.0414 & \\citet{Cernicharo_2021} \\\\\n\\end{longtable}\n\n"
     ]
    }
   ],
   "source": [
    "print(final.round(4).to_latex(index=False, escape=False, longtable=True))"
   ]
  },
  {
   "cell_type": "code",
   "execution_count": 116,
   "metadata": {},
   "outputs": [],
   "source": [
    "with open(\"molecules.bib\", \"w+\") as write_file:\n",
    "    write_file.write('\\n'.join(results.values()))"
   ]
  },
  {
   "cell_type": "code",
   "execution_count": null,
   "metadata": {},
   "outputs": [],
   "source": []
  }
 ]
}