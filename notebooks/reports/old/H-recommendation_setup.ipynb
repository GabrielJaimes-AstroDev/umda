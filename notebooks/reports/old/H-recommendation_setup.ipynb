{
 "cells": [
  {
   "cell_type": "code",
   "execution_count": 1,
   "metadata": {},
   "outputs": [
    {
     "name": "stderr",
     "output_type": "stream",
     "text": [
      "Traceback (most recent call last):\n",
      "  File \"/home/kelvin/anaconda3/envs/rdkit/lib/python3.6/site-packages/rdkit/Chem/PandasTools.py\", line 130, in <module>\n",
      "    if 'display.width' in pd.core.config._registered_options:\n",
      "AttributeError: module 'pandas.core' has no attribute 'config'\n"
     ]
    }
   ],
   "source": [
    "from joblib import load, dump\n",
    "import numpy as np\n",
    "import h5py\n",
    "import pandas as pd\n",
    "from sklearn.metrics.pairwise import cosine_distances, distance_metrics\n",
    "from matplotlib import pyplot as plt\n",
    "import numba\n",
    "from umda import MRS, EmbeddingModel\n",
    "\n",
    "plt.style.use('publication')"
   ]
  },
  {
   "cell_type": "code",
   "execution_count": 2,
   "metadata": {},
   "outputs": [],
   "source": [
    "embedder = EmbeddingModel.from_pkl(\"../../models/mol2vec_model.pkl\", \"../../models/embedding_pipeline.pkl\", radius=1)"
   ]
  },
  {
   "cell_type": "code",
   "execution_count": 3,
   "metadata": {},
   "outputs": [
    {
     "name": "stderr",
     "output_type": "stream",
     "text": [
      "2021-02-24 16:16:34.584 | INFO     | umda.classes:save:61 - Saved model to ../../models/EmbeddingModel.pkl.\n"
     ]
    }
   ],
   "source": [
    "embedder.save(\"../../models/EmbeddingModel.pkl\")"
   ]
  },
  {
   "cell_type": "code",
   "execution_count": 4,
   "metadata": {},
   "outputs": [
    {
     "data": {
      "text/plain": [
       "['../../models/best_gp_estimator.pkl']"
      ]
     },
     "execution_count": 4,
     "metadata": {},
     "output_type": "execute_result"
    }
   ],
   "source": [
    "gp_grid = load(\"../../models/gp_grid.pkl\")\n",
    "\n",
    "dump(gp_grid.best_estimator_, \"../../models/best_gp_estimator.pkl\")"
   ]
  },
  {
   "cell_type": "code",
   "execution_count": 6,
   "metadata": {},
   "outputs": [
    {
     "name": "stderr",
     "output_type": "stream",
     "text": [
      "2021-02-24 16:29:31.847 | INFO     | umda.classes:save:228 - Saved MRS to ../../models/TMC1_MRS_GP.pkl\n"
     ]
    }
   ],
   "source": [
    "mrs_gp = MRS.from_pickle(\"../../models/kmeans_model.pkl\", \"../../models/best_gp_estimator.pkl\")\n",
    "\n",
    "mrs_gp.save(\"../../models/TMC1_MRS_GP.pkl\")"
   ]
  },
  {
   "cell_type": "code",
   "execution_count": 2,
   "metadata": {},
   "outputs": [],
   "source": [
    "data = h5py.File(\"../../data/processed/smiles_embeddings_300.h5\", \"r\")"
   ]
  },
  {
   "cell_type": "code",
   "execution_count": 3,
   "metadata": {},
   "outputs": [],
   "source": [
    "pipeline = load(\"../../models/embedding_pipeline.pkl\")"
   ]
  },
  {
   "cell_type": "code",
   "execution_count": 4,
   "metadata": {},
   "outputs": [],
   "source": [
    "tmc1_df = pd.read_pickle(\"../../data/interim/tmc1_table_vecs.pkl\")"
   ]
  },
  {
   "cell_type": "code",
   "execution_count": 5,
   "metadata": {},
   "outputs": [],
   "source": [
    "tmc1_vecs = np.vstack(tmc1_df[\"Vecs\"])\n",
    "tmc1_embedding = pipeline[0].transform(tmc1_vecs).compute()"
   ]
  },
  {
   "cell_type": "markdown",
   "metadata": {},
   "source": [
    "### GP recommendations without clustering "
   ]
  },
  {
   "cell_type": "code",
   "execution_count": null,
   "metadata": {},
   "outputs": [
    {
     "name": "stderr",
     "output_type": "stream",
     "text": [
      "2021-02-24 16:25:54.901 | INFO     | umda.classes:recommend:192 - There are 3857598 molecules in this aggregate.\n"
     ]
    }
   ],
   "source": [
    "gp_nocluster_df = mrs_gp.recommend(X=tmc1_embedding, cluster=False, h5_data=data)"
   ]
  },
  {
   "cell_type": "code",
   "execution_count": 87,
   "metadata": {},
   "outputs": [
    {
     "data": {
      "text/html": [
       "<div>\n",
       "<style scoped>\n",
       "    .dataframe tbody tr th:only-of-type {\n",
       "        vertical-align: middle;\n",
       "    }\n",
       "\n",
       "    .dataframe tbody tr th {\n",
       "        vertical-align: top;\n",
       "    }\n",
       "\n",
       "    .dataframe thead th {\n",
       "        text-align: right;\n",
       "    }\n",
       "</style>\n",
       "<table border=\"1\" class=\"dataframe\">\n",
       "  <thead>\n",
       "    <tr style=\"text-align: right;\">\n",
       "      <th></th>\n",
       "      <th>Abundance</th>\n",
       "      <th>Uncertainty</th>\n",
       "      <th>Index</th>\n",
       "      <th>SMILES</th>\n",
       "      <th>Counts</th>\n",
       "    </tr>\n",
       "  </thead>\n",
       "  <tbody>\n",
       "    <tr>\n",
       "      <th>0</th>\n",
       "      <td>14.172688</td>\n",
       "      <td>0.223950</td>\n",
       "      <td>0</td>\n",
       "      <td>C</td>\n",
       "      <td>2</td>\n",
       "    </tr>\n",
       "    <tr>\n",
       "      <th>227</th>\n",
       "      <td>14.172688</td>\n",
       "      <td>0.484688</td>\n",
       "      <td>482</td>\n",
       "      <td>C#CC#CC=O</td>\n",
       "      <td>1</td>\n",
       "    </tr>\n",
       "    <tr>\n",
       "      <th>235</th>\n",
       "      <td>14.172688</td>\n",
       "      <td>1.093949</td>\n",
       "      <td>15</td>\n",
       "      <td>C1CC1</td>\n",
       "      <td>1</td>\n",
       "    </tr>\n",
       "    <tr>\n",
       "      <th>234</th>\n",
       "      <td>14.172688</td>\n",
       "      <td>1.367699</td>\n",
       "      <td>97</td>\n",
       "      <td>OC1CCC1</td>\n",
       "      <td>1</td>\n",
       "    </tr>\n",
       "    <tr>\n",
       "      <th>233</th>\n",
       "      <td>14.172688</td>\n",
       "      <td>1.236555</td>\n",
       "      <td>302</td>\n",
       "      <td>CC1CC(=O)O1</td>\n",
       "      <td>2</td>\n",
       "    </tr>\n",
       "    <tr>\n",
       "      <th>232</th>\n",
       "      <td>14.172688</td>\n",
       "      <td>1.559743</td>\n",
       "      <td>462</td>\n",
       "      <td>CC1OCCO1</td>\n",
       "      <td>3</td>\n",
       "    </tr>\n",
       "    <tr>\n",
       "      <th>231</th>\n",
       "      <td>14.172688</td>\n",
       "      <td>1.665924</td>\n",
       "      <td>463</td>\n",
       "      <td>OC1CCCC1</td>\n",
       "      <td>1</td>\n",
       "    </tr>\n",
       "    <tr>\n",
       "      <th>230</th>\n",
       "      <td>14.172688</td>\n",
       "      <td>1.680145</td>\n",
       "      <td>465</td>\n",
       "      <td>CC1C(C)C1C</td>\n",
       "      <td>1</td>\n",
       "    </tr>\n",
       "    <tr>\n",
       "      <th>229</th>\n",
       "      <td>14.172688</td>\n",
       "      <td>0.586344</td>\n",
       "      <td>14137</td>\n",
       "      <td>N#CC#CC#CC#N</td>\n",
       "      <td>1</td>\n",
       "    </tr>\n",
       "    <tr>\n",
       "      <th>228</th>\n",
       "      <td>14.172688</td>\n",
       "      <td>1.452699</td>\n",
       "      <td>467</td>\n",
       "      <td>CC1C(C)N1C</td>\n",
       "      <td>3</td>\n",
       "    </tr>\n",
       "    <tr>\n",
       "      <th>226</th>\n",
       "      <td>14.172688</td>\n",
       "      <td>0.544457</td>\n",
       "      <td>483</td>\n",
       "      <td>N#CC#CC=O</td>\n",
       "      <td>1</td>\n",
       "    </tr>\n",
       "    <tr>\n",
       "      <th>237</th>\n",
       "      <td>14.172688</td>\n",
       "      <td>0.543273</td>\n",
       "      <td>13</td>\n",
       "      <td>CCO</td>\n",
       "      <td>3</td>\n",
       "    </tr>\n",
       "    <tr>\n",
       "      <th>225</th>\n",
       "      <td>14.172688</td>\n",
       "      <td>0.899016</td>\n",
       "      <td>484</td>\n",
       "      <td>O=CC#CC=O</td>\n",
       "      <td>1</td>\n",
       "    </tr>\n",
       "    <tr>\n",
       "      <th>224</th>\n",
       "      <td>14.172688</td>\n",
       "      <td>0.672384</td>\n",
       "      <td>488</td>\n",
       "      <td>N#CCCC=O</td>\n",
       "      <td>2</td>\n",
       "    </tr>\n",
       "    <tr>\n",
       "      <th>223</th>\n",
       "      <td>14.172688</td>\n",
       "      <td>0.953007</td>\n",
       "      <td>489</td>\n",
       "      <td>C#CCN=CO</td>\n",
       "      <td>1</td>\n",
       "    </tr>\n",
       "    <tr>\n",
       "      <th>222</th>\n",
       "      <td>14.172688</td>\n",
       "      <td>0.888216</td>\n",
       "      <td>490</td>\n",
       "      <td>N#CCN=CO</td>\n",
       "      <td>2</td>\n",
       "    </tr>\n",
       "    <tr>\n",
       "      <th>221</th>\n",
       "      <td>14.172688</td>\n",
       "      <td>0.758680</td>\n",
       "      <td>491</td>\n",
       "      <td>C#CCOC=O</td>\n",
       "      <td>1</td>\n",
       "    </tr>\n",
       "    <tr>\n",
       "      <th>220</th>\n",
       "      <td>14.172688</td>\n",
       "      <td>0.865128</td>\n",
       "      <td>1125</td>\n",
       "      <td>CCC(C)(C)C=O</td>\n",
       "      <td>1</td>\n",
       "    </tr>\n",
       "    <tr>\n",
       "      <th>219</th>\n",
       "      <td>14.172688</td>\n",
       "      <td>1.715747</td>\n",
       "      <td>468</td>\n",
       "      <td>CC1C(O)C1O</td>\n",
       "      <td>3</td>\n",
       "    </tr>\n",
       "    <tr>\n",
       "      <th>218</th>\n",
       "      <td>14.172688</td>\n",
       "      <td>0.931066</td>\n",
       "      <td>14188</td>\n",
       "      <td>N#CCCNCC=O</td>\n",
       "      <td>2</td>\n",
       "    </tr>\n",
       "    <tr>\n",
       "      <th>236</th>\n",
       "      <td>14.172688</td>\n",
       "      <td>0.608567</td>\n",
       "      <td>14</td>\n",
       "      <td>COC</td>\n",
       "      <td>2</td>\n",
       "    </tr>\n",
       "    <tr>\n",
       "      <th>238</th>\n",
       "      <td>14.172688</td>\n",
       "      <td>0.850723</td>\n",
       "      <td>1126</td>\n",
       "      <td>CCC(C)(O)C=O</td>\n",
       "      <td>1</td>\n",
       "    </tr>\n",
       "    <tr>\n",
       "      <th>259</th>\n",
       "      <td>14.172688</td>\n",
       "      <td>1.277987</td>\n",
       "      <td>472753</td>\n",
       "      <td>Nc1ccsc1C(F)F</td>\n",
       "      <td>2</td>\n",
       "    </tr>\n",
       "    <tr>\n",
       "      <th>249</th>\n",
       "      <td>14.172688</td>\n",
       "      <td>1.566525</td>\n",
       "      <td>2800</td>\n",
       "      <td>OCC1NC1CO</td>\n",
       "      <td>1</td>\n",
       "    </tr>\n",
       "    <tr>\n",
       "      <th>257</th>\n",
       "      <td>14.172688</td>\n",
       "      <td>1.372982</td>\n",
       "      <td>2526</td>\n",
       "      <td>N#CC1(CN)CN1</td>\n",
       "      <td>3</td>\n",
       "    </tr>\n",
       "    <tr>\n",
       "      <th>256</th>\n",
       "      <td>14.172688</td>\n",
       "      <td>1.329469</td>\n",
       "      <td>2528</td>\n",
       "      <td>C#CC1(CO)CC1</td>\n",
       "      <td>3</td>\n",
       "    </tr>\n",
       "    <tr>\n",
       "      <th>255</th>\n",
       "      <td>14.172688</td>\n",
       "      <td>1.310317</td>\n",
       "      <td>2529</td>\n",
       "      <td>N#CC1(CO)CC1</td>\n",
       "      <td>1</td>\n",
       "    </tr>\n",
       "    <tr>\n",
       "      <th>254</th>\n",
       "      <td>14.172688</td>\n",
       "      <td>1.279936</td>\n",
       "      <td>2531</td>\n",
       "      <td>N#CC1(CO)CN1</td>\n",
       "      <td>1</td>\n",
       "    </tr>\n",
       "    <tr>\n",
       "      <th>253</th>\n",
       "      <td>14.172688</td>\n",
       "      <td>1.311241</td>\n",
       "      <td>2532</td>\n",
       "      <td>C#CC1(CO)CO1</td>\n",
       "      <td>1</td>\n",
       "    </tr>\n",
       "    <tr>\n",
       "      <th>252</th>\n",
       "      <td>14.172688</td>\n",
       "      <td>1.344851</td>\n",
       "      <td>2539</td>\n",
       "      <td>O=CC1(CO)CN1</td>\n",
       "      <td>1</td>\n",
       "    </tr>\n",
       "  </tbody>\n",
       "</table>\n",
       "</div>"
      ],
      "text/plain": [
       "     Abundance  Uncertainty   Index         SMILES  Counts\n",
       "0    14.172688     0.223950       0              C       2\n",
       "227  14.172688     0.484688     482      C#CC#CC=O       1\n",
       "235  14.172688     1.093949      15          C1CC1       1\n",
       "234  14.172688     1.367699      97        OC1CCC1       1\n",
       "233  14.172688     1.236555     302    CC1CC(=O)O1       2\n",
       "232  14.172688     1.559743     462       CC1OCCO1       3\n",
       "231  14.172688     1.665924     463       OC1CCCC1       1\n",
       "230  14.172688     1.680145     465     CC1C(C)C1C       1\n",
       "229  14.172688     0.586344   14137   N#CC#CC#CC#N       1\n",
       "228  14.172688     1.452699     467     CC1C(C)N1C       3\n",
       "226  14.172688     0.544457     483      N#CC#CC=O       1\n",
       "237  14.172688     0.543273      13            CCO       3\n",
       "225  14.172688     0.899016     484      O=CC#CC=O       1\n",
       "224  14.172688     0.672384     488       N#CCCC=O       2\n",
       "223  14.172688     0.953007     489       C#CCN=CO       1\n",
       "222  14.172688     0.888216     490       N#CCN=CO       2\n",
       "221  14.172688     0.758680     491       C#CCOC=O       1\n",
       "220  14.172688     0.865128    1125   CCC(C)(C)C=O       1\n",
       "219  14.172688     1.715747     468     CC1C(O)C1O       3\n",
       "218  14.172688     0.931066   14188     N#CCCNCC=O       2\n",
       "236  14.172688     0.608567      14            COC       2\n",
       "238  14.172688     0.850723    1126   CCC(C)(O)C=O       1\n",
       "259  14.172688     1.277987  472753  Nc1ccsc1C(F)F       2\n",
       "249  14.172688     1.566525    2800      OCC1NC1CO       1\n",
       "257  14.172688     1.372982    2526   N#CC1(CN)CN1       3\n",
       "256  14.172688     1.329469    2528   C#CC1(CO)CC1       3\n",
       "255  14.172688     1.310317    2529   N#CC1(CO)CC1       1\n",
       "254  14.172688     1.279936    2531   N#CC1(CO)CN1       1\n",
       "253  14.172688     1.311241    2532   C#CC1(CO)CO1       1\n",
       "252  14.172688     1.344851    2539   O=CC1(CO)CN1       1"
      ]
     },
     "execution_count": 87,
     "metadata": {},
     "output_type": "execute_result"
    }
   ],
   "source": [
    "gp_nocluster_df.sort_values([\"Abundance\"], ascending=False).head(30)"
   ]
  },
  {
   "cell_type": "code",
   "execution_count": 7,
   "metadata": {},
   "outputs": [
    {
     "name": "stderr",
     "output_type": "stream",
     "text": [
      "2021-02-24 16:29:42.870 | INFO     | umda.classes:recommend:183 - Using the following clusters: dask.array<getitem, shape=(nan,), dtype=int32, chunksize=(nan,), chunktype=numpy.ndarray>\n"
     ]
    },
    {
     "ename": "ValueError",
     "evalue": "operands could not be broadcast together with shapes (nan,) (3857766,)",
     "output_type": "error",
     "traceback": [
      "\u001b[0;31m---------------------------------------------------------------------------\u001b[0m",
      "\u001b[0;31mValueError\u001b[0m                                Traceback (most recent call last)",
      "\u001b[0;32m<ipython-input-7-4035af9e6372>\u001b[0m in \u001b[0;36m<module>\u001b[0;34m\u001b[0m\n\u001b[0;32m----> 1\u001b[0;31m \u001b[0mgp_cluster_df\u001b[0m \u001b[0;34m=\u001b[0m \u001b[0mmrs_gp\u001b[0m\u001b[0;34m.\u001b[0m\u001b[0mrecommend\u001b[0m\u001b[0;34m(\u001b[0m\u001b[0mX\u001b[0m\u001b[0;34m=\u001b[0m\u001b[0mtmc1_embedding\u001b[0m\u001b[0;34m,\u001b[0m \u001b[0mcluster\u001b[0m\u001b[0;34m=\u001b[0m\u001b[0;32mTrue\u001b[0m\u001b[0;34m,\u001b[0m \u001b[0mh5_data\u001b[0m\u001b[0;34m=\u001b[0m\u001b[0mdata\u001b[0m\u001b[0;34m)\u001b[0m\u001b[0;34m\u001b[0m\u001b[0;34m\u001b[0m\u001b[0m\n\u001b[0m",
      "\u001b[0;32m~/Dropbox (MIT)/Projects/umda/umda/classes.py\u001b[0m in \u001b[0;36mrecommend\u001b[0;34m(self, h5_data, smi, X, embedding_model, top, dist_thres, cluster)\u001b[0m\n\u001b[1;32m    186\u001b[0m         \u001b[0;31m# with the clustering mask\u001b[0m\u001b[0;34m\u001b[0m\u001b[0;34m\u001b[0m\u001b[0;34m\u001b[0m\u001b[0m\n\u001b[1;32m    187\u001b[0m         \u001b[0mexclude\u001b[0m \u001b[0;34m=\u001b[0m \u001b[0;34m~\u001b[0m\u001b[0;34m(\u001b[0m\u001b[0mnp\u001b[0m\u001b[0;34m.\u001b[0m\u001b[0mabs\u001b[0m\u001b[0;34m(\u001b[0m\u001b[0mdistances\u001b[0m\u001b[0;34m)\u001b[0m \u001b[0;34m<=\u001b[0m \u001b[0mdist_thres\u001b[0m\u001b[0;34m)\u001b[0m\u001b[0;34m.\u001b[0m\u001b[0msum\u001b[0m\u001b[0;34m(\u001b[0m\u001b[0maxis\u001b[0m\u001b[0;34m=\u001b[0m\u001b[0;36m0\u001b[0m\u001b[0;34m)\u001b[0m\u001b[0;34m.\u001b[0m\u001b[0mastype\u001b[0m\u001b[0;34m(\u001b[0m\u001b[0mbool\u001b[0m\u001b[0;34m)\u001b[0m\u001b[0;34m\u001b[0m\u001b[0;34m\u001b[0m\u001b[0m\n\u001b[0;32m--> 188\u001b[0;31m         \u001b[0mnp\u001b[0m\u001b[0;34m.\u001b[0m\u001b[0mlogical_and\u001b[0m\u001b[0;34m(\u001b[0m\u001b[0mmask\u001b[0m\u001b[0;34m,\u001b[0m \u001b[0mexclude\u001b[0m\u001b[0;34m,\u001b[0m \u001b[0mout\u001b[0m\u001b[0;34m=\u001b[0m\u001b[0mmask\u001b[0m\u001b[0;34m)\u001b[0m\u001b[0;34m\u001b[0m\u001b[0;34m\u001b[0m\u001b[0m\n\u001b[0m\u001b[1;32m    189\u001b[0m         \u001b[0;31m# targets is the subset of molecules within the dataset that are\u001b[0m\u001b[0;34m\u001b[0m\u001b[0;34m\u001b[0m\u001b[0;34m\u001b[0m\u001b[0m\n\u001b[1;32m    190\u001b[0m         \u001b[0;31m# in the selected clusters\u001b[0m\u001b[0;34m\u001b[0m\u001b[0;34m\u001b[0m\u001b[0;34m\u001b[0m\u001b[0m\n",
      "\u001b[0;32m~/anaconda3/envs/rdkit/lib/python3.6/site-packages/dask/array/core.py\u001b[0m in \u001b[0;36m__array_ufunc__\u001b[0;34m(self, numpy_ufunc, method, *inputs, **kwargs)\u001b[0m\n\u001b[1;32m   1219\u001b[0m                 \u001b[0;32mreturn\u001b[0m \u001b[0mda_ufunc\u001b[0m\u001b[0;34m(\u001b[0m\u001b[0;34m*\u001b[0m\u001b[0minputs\u001b[0m\u001b[0;34m,\u001b[0m \u001b[0;34m**\u001b[0m\u001b[0mkwargs\u001b[0m\u001b[0;34m)\u001b[0m\u001b[0;34m\u001b[0m\u001b[0;34m\u001b[0m\u001b[0m\n\u001b[1;32m   1220\u001b[0m             \u001b[0;32melse\u001b[0m\u001b[0;34m:\u001b[0m\u001b[0;34m\u001b[0m\u001b[0;34m\u001b[0m\u001b[0m\n\u001b[0;32m-> 1221\u001b[0;31m                 \u001b[0;32mreturn\u001b[0m \u001b[0melemwise\u001b[0m\u001b[0;34m(\u001b[0m\u001b[0mnumpy_ufunc\u001b[0m\u001b[0;34m,\u001b[0m \u001b[0;34m*\u001b[0m\u001b[0minputs\u001b[0m\u001b[0;34m,\u001b[0m \u001b[0;34m**\u001b[0m\u001b[0mkwargs\u001b[0m\u001b[0;34m)\u001b[0m\u001b[0;34m\u001b[0m\u001b[0;34m\u001b[0m\u001b[0m\n\u001b[0m\u001b[1;32m   1222\u001b[0m         \u001b[0;32melif\u001b[0m \u001b[0mmethod\u001b[0m \u001b[0;34m==\u001b[0m \u001b[0;34m\"outer\"\u001b[0m\u001b[0;34m:\u001b[0m\u001b[0;34m\u001b[0m\u001b[0;34m\u001b[0m\u001b[0m\n\u001b[1;32m   1223\u001b[0m             \u001b[0;32mfrom\u001b[0m \u001b[0;34m.\u001b[0m \u001b[0;32mimport\u001b[0m \u001b[0mufunc\u001b[0m\u001b[0;34m\u001b[0m\u001b[0;34m\u001b[0m\u001b[0m\n",
      "\u001b[0;32m~/anaconda3/envs/rdkit/lib/python3.6/site-packages/dask/array/core.py\u001b[0m in \u001b[0;36melemwise\u001b[0;34m(op, *args, **kwargs)\u001b[0m\n\u001b[1;32m   3910\u001b[0m     \u001b[0mshapes\u001b[0m \u001b[0;34m=\u001b[0m \u001b[0;34m[\u001b[0m\u001b[0ms\u001b[0m \u001b[0;32mif\u001b[0m \u001b[0misinstance\u001b[0m\u001b[0;34m(\u001b[0m\u001b[0ms\u001b[0m\u001b[0;34m,\u001b[0m \u001b[0mIterable\u001b[0m\u001b[0;34m)\u001b[0m \u001b[0;32melse\u001b[0m \u001b[0;34m(\u001b[0m\u001b[0;34m)\u001b[0m \u001b[0;32mfor\u001b[0m \u001b[0ms\u001b[0m \u001b[0;32min\u001b[0m \u001b[0mshapes\u001b[0m\u001b[0;34m]\u001b[0m\u001b[0;34m\u001b[0m\u001b[0;34m\u001b[0m\u001b[0m\n\u001b[1;32m   3911\u001b[0m     out_ndim = len(\n\u001b[0;32m-> 3912\u001b[0;31m         \u001b[0mbroadcast_shapes\u001b[0m\u001b[0;34m(\u001b[0m\u001b[0;34m*\u001b[0m\u001b[0mshapes\u001b[0m\u001b[0;34m)\u001b[0m\u001b[0;34m\u001b[0m\u001b[0;34m\u001b[0m\u001b[0m\n\u001b[0m\u001b[1;32m   3913\u001b[0m     )  # Raises ValueError if dimensions mismatch\n\u001b[1;32m   3914\u001b[0m     \u001b[0mexpr_inds\u001b[0m \u001b[0;34m=\u001b[0m \u001b[0mtuple\u001b[0m\u001b[0;34m(\u001b[0m\u001b[0mrange\u001b[0m\u001b[0;34m(\u001b[0m\u001b[0mout_ndim\u001b[0m\u001b[0;34m)\u001b[0m\u001b[0;34m)\u001b[0m\u001b[0;34m[\u001b[0m\u001b[0;34m:\u001b[0m\u001b[0;34m:\u001b[0m\u001b[0;34m-\u001b[0m\u001b[0;36m1\u001b[0m\u001b[0;34m]\u001b[0m\u001b[0;34m\u001b[0m\u001b[0;34m\u001b[0m\u001b[0m\n",
      "\u001b[0;32m~/anaconda3/envs/rdkit/lib/python3.6/site-packages/dask/array/core.py\u001b[0m in \u001b[0;36mbroadcast_shapes\u001b[0;34m(*shapes)\u001b[0m\n\u001b[1;32m   3871\u001b[0m             raise ValueError(\n\u001b[1;32m   3872\u001b[0m                 \u001b[0;34m\"operands could not be broadcast together with \"\u001b[0m\u001b[0;34m\u001b[0m\u001b[0;34m\u001b[0m\u001b[0m\n\u001b[0;32m-> 3873\u001b[0;31m                 \u001b[0;34m\"shapes {0}\"\u001b[0m\u001b[0;34m.\u001b[0m\u001b[0mformat\u001b[0m\u001b[0;34m(\u001b[0m\u001b[0;34m\" \"\u001b[0m\u001b[0;34m.\u001b[0m\u001b[0mjoin\u001b[0m\u001b[0;34m(\u001b[0m\u001b[0mmap\u001b[0m\u001b[0;34m(\u001b[0m\u001b[0mstr\u001b[0m\u001b[0;34m,\u001b[0m \u001b[0mshapes\u001b[0m\u001b[0;34m)\u001b[0m\u001b[0;34m)\u001b[0m\u001b[0;34m)\u001b[0m\u001b[0;34m\u001b[0m\u001b[0;34m\u001b[0m\u001b[0m\n\u001b[0m\u001b[1;32m   3874\u001b[0m             )\n\u001b[1;32m   3875\u001b[0m         \u001b[0mout\u001b[0m\u001b[0;34m.\u001b[0m\u001b[0mappend\u001b[0m\u001b[0;34m(\u001b[0m\u001b[0mdim\u001b[0m\u001b[0;34m)\u001b[0m\u001b[0;34m\u001b[0m\u001b[0;34m\u001b[0m\u001b[0m\n",
      "\u001b[0;31mValueError\u001b[0m: operands could not be broadcast together with shapes (nan,) (3857766,)"
     ]
    }
   ],
   "source": [
    "gp_cluster_df = mrs_gp.recommend(X=tmc1_embedding, cluster=True, h5_data=data)"
   ]
  },
  {
   "cell_type": "code",
   "execution_count": 8,
   "metadata": {},
   "outputs": [
    {
     "data": {
      "text/html": [
       "<div>\n",
       "<style scoped>\n",
       "    .dataframe tbody tr th:only-of-type {\n",
       "        vertical-align: middle;\n",
       "    }\n",
       "\n",
       "    .dataframe tbody tr th {\n",
       "        vertical-align: top;\n",
       "    }\n",
       "\n",
       "    .dataframe thead th {\n",
       "        text-align: right;\n",
       "    }\n",
       "</style>\n",
       "<table border=\"1\" class=\"dataframe\">\n",
       "  <thead>\n",
       "    <tr style=\"text-align: right;\">\n",
       "      <th></th>\n",
       "      <th>Abundance</th>\n",
       "      <th>Uncertainty</th>\n",
       "      <th>Index</th>\n",
       "      <th>SMILES</th>\n",
       "      <th>Counts</th>\n",
       "    </tr>\n",
       "  </thead>\n",
       "  <tbody>\n",
       "    <tr>\n",
       "      <th>0</th>\n",
       "      <td>10.053851</td>\n",
       "      <td>1.928659</td>\n",
       "      <td>724831</td>\n",
       "      <td>CC#CC1CC2NC12</td>\n",
       "      <td>1</td>\n",
       "    </tr>\n",
       "    <tr>\n",
       "      <th>1</th>\n",
       "      <td>9.723989</td>\n",
       "      <td>1.977246</td>\n",
       "      <td>318484</td>\n",
       "      <td>FC(F)(F)C1CO1</td>\n",
       "      <td>2</td>\n",
       "    </tr>\n",
       "    <tr>\n",
       "      <th>2</th>\n",
       "      <td>9.644606</td>\n",
       "      <td>1.962432</td>\n",
       "      <td>640828</td>\n",
       "      <td>C#CC1OC(=N)C1N</td>\n",
       "      <td>2</td>\n",
       "    </tr>\n",
       "    <tr>\n",
       "      <th>3</th>\n",
       "      <td>9.390562</td>\n",
       "      <td>1.923737</td>\n",
       "      <td>830377</td>\n",
       "      <td>CC1NCC(=O)C1C#N</td>\n",
       "      <td>1</td>\n",
       "    </tr>\n",
       "    <tr>\n",
       "      <th>4</th>\n",
       "      <td>9.144345</td>\n",
       "      <td>1.919543</td>\n",
       "      <td>725054</td>\n",
       "      <td>COC1C(C)CC1C#N</td>\n",
       "      <td>4</td>\n",
       "    </tr>\n",
       "    <tr>\n",
       "      <th>5</th>\n",
       "      <td>9.103840</td>\n",
       "      <td>1.900571</td>\n",
       "      <td>110676</td>\n",
       "      <td>CN=C(O)C(O)C=O</td>\n",
       "      <td>4</td>\n",
       "    </tr>\n",
       "    <tr>\n",
       "      <th>6</th>\n",
       "      <td>9.088730</td>\n",
       "      <td>1.866379</td>\n",
       "      <td>318964</td>\n",
       "      <td>CC(=O)C(C)(O)CC#N</td>\n",
       "      <td>2</td>\n",
       "    </tr>\n",
       "    <tr>\n",
       "      <th>7</th>\n",
       "      <td>9.039132</td>\n",
       "      <td>1.951676</td>\n",
       "      <td>272544</td>\n",
       "      <td>CC1OC12CC1CC12</td>\n",
       "      <td>4</td>\n",
       "    </tr>\n",
       "    <tr>\n",
       "      <th>8</th>\n",
       "      <td>8.938110</td>\n",
       "      <td>1.888641</td>\n",
       "      <td>833329</td>\n",
       "      <td>CC(C#N)COC(=N)O</td>\n",
       "      <td>1</td>\n",
       "    </tr>\n",
       "    <tr>\n",
       "      <th>9</th>\n",
       "      <td>8.916451</td>\n",
       "      <td>1.931812</td>\n",
       "      <td>16832</td>\n",
       "      <td>CNC1:C:C:[NH]:C:1C</td>\n",
       "      <td>2</td>\n",
       "    </tr>\n",
       "    <tr>\n",
       "      <th>10</th>\n",
       "      <td>8.905730</td>\n",
       "      <td>1.931161</td>\n",
       "      <td>797068</td>\n",
       "      <td>CC1CCCCCN1C</td>\n",
       "      <td>1</td>\n",
       "    </tr>\n",
       "    <tr>\n",
       "      <th>11</th>\n",
       "      <td>8.818996</td>\n",
       "      <td>1.955323</td>\n",
       "      <td>554327</td>\n",
       "      <td>O=COC=NC1CCC1</td>\n",
       "      <td>1</td>\n",
       "    </tr>\n",
       "    <tr>\n",
       "      <th>12</th>\n",
       "      <td>8.740706</td>\n",
       "      <td>1.919781</td>\n",
       "      <td>184307</td>\n",
       "      <td>ON=C(Cl)C1C=CC=CC=1</td>\n",
       "      <td>5</td>\n",
       "    </tr>\n",
       "    <tr>\n",
       "      <th>13</th>\n",
       "      <td>8.680930</td>\n",
       "      <td>1.866335</td>\n",
       "      <td>118118</td>\n",
       "      <td>CC(C#N)CC(C)CO</td>\n",
       "      <td>1</td>\n",
       "    </tr>\n",
       "    <tr>\n",
       "      <th>14</th>\n",
       "      <td>8.604244</td>\n",
       "      <td>1.964261</td>\n",
       "      <td>191713</td>\n",
       "      <td>CC12CCOC1(CO)C2</td>\n",
       "      <td>1</td>\n",
       "    </tr>\n",
       "    <tr>\n",
       "      <th>15</th>\n",
       "      <td>8.531224</td>\n",
       "      <td>1.945811</td>\n",
       "      <td>116796</td>\n",
       "      <td>CC1CC(O)C2(C)CN12</td>\n",
       "      <td>1</td>\n",
       "    </tr>\n",
       "    <tr>\n",
       "      <th>16</th>\n",
       "      <td>8.479430</td>\n",
       "      <td>1.957815</td>\n",
       "      <td>483181</td>\n",
       "      <td>NC(=O)c1nnn[nH]1</td>\n",
       "      <td>1</td>\n",
       "    </tr>\n",
       "    <tr>\n",
       "      <th>17</th>\n",
       "      <td>8.472864</td>\n",
       "      <td>1.896158</td>\n",
       "      <td>1809</td>\n",
       "      <td>NOCCOCCO</td>\n",
       "      <td>2</td>\n",
       "    </tr>\n",
       "    <tr>\n",
       "      <th>18</th>\n",
       "      <td>8.428800</td>\n",
       "      <td>1.919036</td>\n",
       "      <td>798965</td>\n",
       "      <td>COC1(C)C2CC(=O)C21</td>\n",
       "      <td>1</td>\n",
       "    </tr>\n",
       "    <tr>\n",
       "      <th>19</th>\n",
       "      <td>8.405038</td>\n",
       "      <td>1.876630</td>\n",
       "      <td>529254</td>\n",
       "      <td>CCC1=CCC(O)C1=O</td>\n",
       "      <td>1</td>\n",
       "    </tr>\n",
       "  </tbody>\n",
       "</table>\n",
       "</div>"
      ],
      "text/plain": [
       "    Abundance  Uncertainty   Index               SMILES  Counts\n",
       "0   10.053851     1.928659  724831        CC#CC1CC2NC12       1\n",
       "1    9.723989     1.977246  318484        FC(F)(F)C1CO1       2\n",
       "2    9.644606     1.962432  640828       C#CC1OC(=N)C1N       2\n",
       "3    9.390562     1.923737  830377      CC1NCC(=O)C1C#N       1\n",
       "4    9.144345     1.919543  725054       COC1C(C)CC1C#N       4\n",
       "5    9.103840     1.900571  110676       CN=C(O)C(O)C=O       4\n",
       "6    9.088730     1.866379  318964    CC(=O)C(C)(O)CC#N       2\n",
       "7    9.039132     1.951676  272544       CC1OC12CC1CC12       4\n",
       "8    8.938110     1.888641  833329      CC(C#N)COC(=N)O       1\n",
       "9    8.916451     1.931812   16832   CNC1:C:C:[NH]:C:1C       2\n",
       "10   8.905730     1.931161  797068          CC1CCCCCN1C       1\n",
       "11   8.818996     1.955323  554327        O=COC=NC1CCC1       1\n",
       "12   8.740706     1.919781  184307  ON=C(Cl)C1C=CC=CC=1       5\n",
       "13   8.680930     1.866335  118118       CC(C#N)CC(C)CO       1\n",
       "14   8.604244     1.964261  191713      CC12CCOC1(CO)C2       1\n",
       "15   8.531224     1.945811  116796    CC1CC(O)C2(C)CN12       1\n",
       "16   8.479430     1.957815  483181     NC(=O)c1nnn[nH]1       1\n",
       "17   8.472864     1.896158    1809             NOCCOCCO       2\n",
       "18   8.428800     1.919036  798965   COC1(C)C2CC(=O)C21       1\n",
       "19   8.405038     1.876630  529254      CCC1=CCC(O)C1=O       1"
      ]
     },
     "execution_count": 8,
     "metadata": {},
     "output_type": "execute_result"
    }
   ],
   "source": [
    "gp_cluster_df.sort_values([\"Abundance\"], ascending=False).head(20)"
   ]
  },
  {
   "cell_type": "code",
   "execution_count": 10,
   "metadata": {},
   "outputs": [],
   "source": [
    "comp = gp_cluster_df.sort_values([\"Abundance\"], ascending=False).head(15)[\"SMILES\"].to_list()"
   ]
  },
  {
   "cell_type": "code",
   "execution_count": 11,
   "metadata": {},
   "outputs": [
    {
     "data": {
      "text/plain": [
       "['CC#CC1CC2NC12',\n",
       " 'FC(F)(F)C1CO1',\n",
       " 'C#CC1OC(=N)C1N',\n",
       " 'CC1NCC(=O)C1C#N',\n",
       " 'COC1C(C)CC1C#N',\n",
       " 'CN=C(O)C(O)C=O',\n",
       " 'CC(=O)C(C)(O)CC#N',\n",
       " 'CC1OC12CC1CC12',\n",
       " 'CC(C#N)COC(=N)O',\n",
       " 'CNC1:C:C:[NH]:C:1C',\n",
       " 'CC1CCCCCN1C',\n",
       " 'O=COC=NC1CCC1',\n",
       " 'ON=C(Cl)C1C=CC=CC=1',\n",
       " 'CC(C#N)CC(C)CO',\n",
       " 'CC12CCOC1(CO)C2']"
      ]
     },
     "execution_count": 11,
     "metadata": {},
     "output_type": "execute_result"
    }
   ],
   "source": [
    "comp"
   ]
  },
  {
   "cell_type": "markdown",
   "metadata": {},
   "source": [
    "## Using gradient boosting for recommendations"
   ]
  },
  {
   "cell_type": "code",
   "execution_count": 6,
   "metadata": {},
   "outputs": [
    {
     "data": {
      "text/plain": [
       "['../../models/best_gbr_estimator.pkl']"
      ]
     },
     "execution_count": 6,
     "metadata": {},
     "output_type": "execute_result"
    }
   ],
   "source": [
    "boost_grid = load(\"../../models/gradient_boosting_grid.pkl\")\n",
    "\n",
    "dump(boost_grid.best_estimator_, \"../../models/best_gbr_estimator.pkl\")"
   ]
  },
  {
   "cell_type": "code",
   "execution_count": 7,
   "metadata": {},
   "outputs": [
    {
     "name": "stderr",
     "output_type": "stream",
     "text": [
      "2021-02-24 16:28:26.455 | INFO     | umda.classes:save:228 - Saved MRS to ../../models/TMC1_MRS_GBR.pkl\n"
     ]
    }
   ],
   "source": [
    "mrs_gbr = MRS.from_pickle(\"../../models/kmeans_model.pkl\", \"../../models/best_gbr_estimator.pkl\")\n",
    "\n",
    "mrs_gbr.save(\"../../models/TMC1_MRS_GBR.pkl\")"
   ]
  },
  {
   "cell_type": "code",
   "execution_count": null,
   "metadata": {},
   "outputs": [
    {
     "name": "stderr",
     "output_type": "stream",
     "text": [
      "2021-02-24 16:27:33.961 | INFO     | umda.classes:recommend:192 - There are 3857598 molecules in this aggregate.\n"
     ]
    }
   ],
   "source": [
    "gbr_nocluster_df = mrs_gbr.recommend(X=tmc1_embedding, cluster=False, h5_data=data)"
   ]
  },
  {
   "cell_type": "code",
   "execution_count": 8,
   "metadata": {},
   "outputs": [
    {
     "name": "stderr",
     "output_type": "stream",
     "text": [
      "2021-02-24 16:28:32.490 | INFO     | umda.classes:recommend:183 - Using the following clusters: dask.array<getitem, shape=(nan,), dtype=int32, chunksize=(nan,), chunktype=numpy.ndarray>\n"
     ]
    },
    {
     "ename": "ValueError",
     "evalue": "operands could not be broadcast together with shapes (nan,) (3857766,)",
     "output_type": "error",
     "traceback": [
      "\u001b[0;31m---------------------------------------------------------------------------\u001b[0m",
      "\u001b[0;31mValueError\u001b[0m                                Traceback (most recent call last)",
      "\u001b[0;32m<ipython-input-8-3e848dc7dab9>\u001b[0m in \u001b[0;36m<module>\u001b[0;34m\u001b[0m\n\u001b[0;32m----> 1\u001b[0;31m \u001b[0mgbr_cluster_df\u001b[0m \u001b[0;34m=\u001b[0m \u001b[0mmrs_gbr\u001b[0m\u001b[0;34m.\u001b[0m\u001b[0mrecommend\u001b[0m\u001b[0;34m(\u001b[0m\u001b[0mX\u001b[0m\u001b[0;34m=\u001b[0m\u001b[0mtmc1_embedding\u001b[0m\u001b[0;34m,\u001b[0m \u001b[0mcluster\u001b[0m\u001b[0;34m=\u001b[0m\u001b[0;32mTrue\u001b[0m\u001b[0;34m,\u001b[0m \u001b[0mh5_data\u001b[0m\u001b[0;34m=\u001b[0m\u001b[0mdata\u001b[0m\u001b[0;34m,\u001b[0m \u001b[0mdist_thres\u001b[0m\u001b[0;34m=\u001b[0m\u001b[0;36m1e-4\u001b[0m\u001b[0;34m)\u001b[0m\u001b[0;34m\u001b[0m\u001b[0;34m\u001b[0m\u001b[0m\n\u001b[0m",
      "\u001b[0;32m~/Dropbox (MIT)/Projects/umda/umda/classes.py\u001b[0m in \u001b[0;36mrecommend\u001b[0;34m(self, h5_data, smi, X, embedding_model, top, dist_thres, cluster)\u001b[0m\n\u001b[1;32m    186\u001b[0m         \u001b[0;31m# with the clustering mask\u001b[0m\u001b[0;34m\u001b[0m\u001b[0;34m\u001b[0m\u001b[0;34m\u001b[0m\u001b[0m\n\u001b[1;32m    187\u001b[0m         \u001b[0mexclude\u001b[0m \u001b[0;34m=\u001b[0m \u001b[0;34m~\u001b[0m\u001b[0;34m(\u001b[0m\u001b[0mnp\u001b[0m\u001b[0;34m.\u001b[0m\u001b[0mabs\u001b[0m\u001b[0;34m(\u001b[0m\u001b[0mdistances\u001b[0m\u001b[0;34m)\u001b[0m \u001b[0;34m<=\u001b[0m \u001b[0mdist_thres\u001b[0m\u001b[0;34m)\u001b[0m\u001b[0;34m.\u001b[0m\u001b[0msum\u001b[0m\u001b[0;34m(\u001b[0m\u001b[0maxis\u001b[0m\u001b[0;34m=\u001b[0m\u001b[0;36m0\u001b[0m\u001b[0;34m)\u001b[0m\u001b[0;34m.\u001b[0m\u001b[0mastype\u001b[0m\u001b[0;34m(\u001b[0m\u001b[0mbool\u001b[0m\u001b[0;34m)\u001b[0m\u001b[0;34m\u001b[0m\u001b[0;34m\u001b[0m\u001b[0m\n\u001b[0;32m--> 188\u001b[0;31m         \u001b[0mnp\u001b[0m\u001b[0;34m.\u001b[0m\u001b[0mlogical_and\u001b[0m\u001b[0;34m(\u001b[0m\u001b[0mmask\u001b[0m\u001b[0;34m,\u001b[0m \u001b[0mexclude\u001b[0m\u001b[0;34m,\u001b[0m \u001b[0mout\u001b[0m\u001b[0;34m=\u001b[0m\u001b[0mmask\u001b[0m\u001b[0;34m)\u001b[0m\u001b[0;34m\u001b[0m\u001b[0;34m\u001b[0m\u001b[0m\n\u001b[0m\u001b[1;32m    189\u001b[0m         \u001b[0;31m# targets is the subset of molecules within the dataset that are\u001b[0m\u001b[0;34m\u001b[0m\u001b[0;34m\u001b[0m\u001b[0;34m\u001b[0m\u001b[0m\n\u001b[1;32m    190\u001b[0m         \u001b[0;31m# in the selected clusters\u001b[0m\u001b[0;34m\u001b[0m\u001b[0;34m\u001b[0m\u001b[0;34m\u001b[0m\u001b[0m\n",
      "\u001b[0;32m~/anaconda3/envs/rdkit/lib/python3.6/site-packages/dask/array/core.py\u001b[0m in \u001b[0;36m__array_ufunc__\u001b[0;34m(self, numpy_ufunc, method, *inputs, **kwargs)\u001b[0m\n\u001b[1;32m   1219\u001b[0m                 \u001b[0;32mreturn\u001b[0m \u001b[0mda_ufunc\u001b[0m\u001b[0;34m(\u001b[0m\u001b[0;34m*\u001b[0m\u001b[0minputs\u001b[0m\u001b[0;34m,\u001b[0m \u001b[0;34m**\u001b[0m\u001b[0mkwargs\u001b[0m\u001b[0;34m)\u001b[0m\u001b[0;34m\u001b[0m\u001b[0;34m\u001b[0m\u001b[0m\n\u001b[1;32m   1220\u001b[0m             \u001b[0;32melse\u001b[0m\u001b[0;34m:\u001b[0m\u001b[0;34m\u001b[0m\u001b[0;34m\u001b[0m\u001b[0m\n\u001b[0;32m-> 1221\u001b[0;31m                 \u001b[0;32mreturn\u001b[0m \u001b[0melemwise\u001b[0m\u001b[0;34m(\u001b[0m\u001b[0mnumpy_ufunc\u001b[0m\u001b[0;34m,\u001b[0m \u001b[0;34m*\u001b[0m\u001b[0minputs\u001b[0m\u001b[0;34m,\u001b[0m \u001b[0;34m**\u001b[0m\u001b[0mkwargs\u001b[0m\u001b[0;34m)\u001b[0m\u001b[0;34m\u001b[0m\u001b[0;34m\u001b[0m\u001b[0m\n\u001b[0m\u001b[1;32m   1222\u001b[0m         \u001b[0;32melif\u001b[0m \u001b[0mmethod\u001b[0m \u001b[0;34m==\u001b[0m \u001b[0;34m\"outer\"\u001b[0m\u001b[0;34m:\u001b[0m\u001b[0;34m\u001b[0m\u001b[0;34m\u001b[0m\u001b[0m\n\u001b[1;32m   1223\u001b[0m             \u001b[0;32mfrom\u001b[0m \u001b[0;34m.\u001b[0m \u001b[0;32mimport\u001b[0m \u001b[0mufunc\u001b[0m\u001b[0;34m\u001b[0m\u001b[0;34m\u001b[0m\u001b[0m\n",
      "\u001b[0;32m~/anaconda3/envs/rdkit/lib/python3.6/site-packages/dask/array/core.py\u001b[0m in \u001b[0;36melemwise\u001b[0;34m(op, *args, **kwargs)\u001b[0m\n\u001b[1;32m   3910\u001b[0m     \u001b[0mshapes\u001b[0m \u001b[0;34m=\u001b[0m \u001b[0;34m[\u001b[0m\u001b[0ms\u001b[0m \u001b[0;32mif\u001b[0m \u001b[0misinstance\u001b[0m\u001b[0;34m(\u001b[0m\u001b[0ms\u001b[0m\u001b[0;34m,\u001b[0m \u001b[0mIterable\u001b[0m\u001b[0;34m)\u001b[0m \u001b[0;32melse\u001b[0m \u001b[0;34m(\u001b[0m\u001b[0;34m)\u001b[0m \u001b[0;32mfor\u001b[0m \u001b[0ms\u001b[0m \u001b[0;32min\u001b[0m \u001b[0mshapes\u001b[0m\u001b[0;34m]\u001b[0m\u001b[0;34m\u001b[0m\u001b[0;34m\u001b[0m\u001b[0m\n\u001b[1;32m   3911\u001b[0m     out_ndim = len(\n\u001b[0;32m-> 3912\u001b[0;31m         \u001b[0mbroadcast_shapes\u001b[0m\u001b[0;34m(\u001b[0m\u001b[0;34m*\u001b[0m\u001b[0mshapes\u001b[0m\u001b[0;34m)\u001b[0m\u001b[0;34m\u001b[0m\u001b[0;34m\u001b[0m\u001b[0m\n\u001b[0m\u001b[1;32m   3913\u001b[0m     )  # Raises ValueError if dimensions mismatch\n\u001b[1;32m   3914\u001b[0m     \u001b[0mexpr_inds\u001b[0m \u001b[0;34m=\u001b[0m \u001b[0mtuple\u001b[0m\u001b[0;34m(\u001b[0m\u001b[0mrange\u001b[0m\u001b[0;34m(\u001b[0m\u001b[0mout_ndim\u001b[0m\u001b[0;34m)\u001b[0m\u001b[0;34m)\u001b[0m\u001b[0;34m[\u001b[0m\u001b[0;34m:\u001b[0m\u001b[0;34m:\u001b[0m\u001b[0;34m-\u001b[0m\u001b[0;36m1\u001b[0m\u001b[0;34m]\u001b[0m\u001b[0;34m\u001b[0m\u001b[0;34m\u001b[0m\u001b[0m\n",
      "\u001b[0;32m~/anaconda3/envs/rdkit/lib/python3.6/site-packages/dask/array/core.py\u001b[0m in \u001b[0;36mbroadcast_shapes\u001b[0;34m(*shapes)\u001b[0m\n\u001b[1;32m   3871\u001b[0m             raise ValueError(\n\u001b[1;32m   3872\u001b[0m                 \u001b[0;34m\"operands could not be broadcast together with \"\u001b[0m\u001b[0;34m\u001b[0m\u001b[0;34m\u001b[0m\u001b[0m\n\u001b[0;32m-> 3873\u001b[0;31m                 \u001b[0;34m\"shapes {0}\"\u001b[0m\u001b[0;34m.\u001b[0m\u001b[0mformat\u001b[0m\u001b[0;34m(\u001b[0m\u001b[0;34m\" \"\u001b[0m\u001b[0;34m.\u001b[0m\u001b[0mjoin\u001b[0m\u001b[0;34m(\u001b[0m\u001b[0mmap\u001b[0m\u001b[0;34m(\u001b[0m\u001b[0mstr\u001b[0m\u001b[0;34m,\u001b[0m \u001b[0mshapes\u001b[0m\u001b[0;34m)\u001b[0m\u001b[0;34m)\u001b[0m\u001b[0;34m)\u001b[0m\u001b[0;34m\u001b[0m\u001b[0;34m\u001b[0m\u001b[0m\n\u001b[0m\u001b[1;32m   3874\u001b[0m             )\n\u001b[1;32m   3875\u001b[0m         \u001b[0mout\u001b[0m\u001b[0;34m.\u001b[0m\u001b[0mappend\u001b[0m\u001b[0;34m(\u001b[0m\u001b[0mdim\u001b[0m\u001b[0;34m)\u001b[0m\u001b[0;34m\u001b[0m\u001b[0;34m\u001b[0m\u001b[0m\n",
      "\u001b[0;31mValueError\u001b[0m: operands could not be broadcast together with shapes (nan,) (3857766,)"
     ]
    }
   ],
   "source": [
    "gbr_cluster_df = mrs_gbr.recommend(X=tmc1_embedding, cluster=True, h5_data=data, dist_thres=1e-4)"
   ]
  },
  {
   "cell_type": "code",
   "execution_count": null,
   "metadata": {},
   "outputs": [],
   "source": [
    "gbr_cluster_df.head(20)"
   ]
  },
  {
   "cell_type": "code",
   "execution_count": 154,
   "metadata": {},
   "outputs": [],
   "source": [
    "from subprocess import Popen, PIPE\n",
    "import matplotlib.image as image\n",
    "from matplotlib.offsetbox import AnnotationBbox, OffsetImage"
   ]
  },
  {
   "cell_type": "code",
   "execution_count": 155,
   "metadata": {},
   "outputs": [],
   "source": [
    "def add_image(axis, filepath, zoom=0.15, position=[0.0, 0.0]):\n",
    "    \"\"\"\n",
    "        Function to add an image annotation to a specified axis.\n",
    "        Takes the matplotlib axis and filepath to the image as input,\n",
    "        and optional arguments for the scaling (zoom) and position of\n",
    "        the image in axis units.\n",
    "    \"\"\"\n",
    "    image = OffsetImage(plt.imread(filepath, format=\"png\"), zoom=zoom)\n",
    "    image.image.axes = axis\n",
    "\n",
    "    box = AnnotationBbox(\n",
    "        image, position, xybox=position, xycoords=\"data\", frameon=False\n",
    "    )\n",
    "    axis.add_artist(box)\n"
   ]
  },
  {
   "cell_type": "code",
   "execution_count": 156,
   "metadata": {},
   "outputs": [],
   "source": [
    "for index, smi in enumerate(comp):\n",
    "    cmd = f\"\"\"obabel -:\"{smi}\" -opng\"\"\"\n",
    "    with open(f\"molecules/{index}.png\", \"w+\") as write_file:\n",
    "        proc = Popen(cmd, stdout=write_file, shell=True)"
   ]
  },
  {
   "cell_type": "code",
   "execution_count": 157,
   "metadata": {},
   "outputs": [],
   "source": [
    "selected = gbr_cluster_df.loc[gbr_cluster_df[\"SMILES\"].isin(comp[:10])]\n",
    "gp_selected = gp_cluster_df.loc[gp_cluster_df[\"SMILES\"].isin(comp[:10])]\n",
    "\n",
    "selected.reset_index(inplace=True, drop=True)"
   ]
  },
  {
   "cell_type": "code",
   "execution_count": 158,
   "metadata": {},
   "outputs": [
    {
     "data": {
      "image/png": "[encoded data removed]",
      "text/plain": [
       "<Figure size 2400x1200 with 1 Axes>"
      ]
     },
     "metadata": {},
     "output_type": "display_data"
    }
   ],
   "source": [
    "fig, ax = plt.subplots(figsize=(8, 4))\n",
    "\n",
    "ax.bar(np.arange(len(selected)), selected[\"Abundance\"], yerr=gp_selected[\"Uncertainty\"], capsize=5, linewidth=1., edgecolor=\"k\")\n",
    "ax.set_xticks(np.arange(len(selected)))\n",
    "ax.set_xticklabels(comp, rotation=45)\n",
    "for index, row in selected.iterrows():\n",
    "    add_image(ax, f\"molecules/{index}.png\", zoom=0.15, position=[index, row[\"Abundance\"] + 4.])\n",
    "ax.set_ylim([0., 25.])\n",
    "ax.set_ylabel(\"log $N_{col}$ (cm$^{-2}$)\")\n",
    "fig.savefig(\"example-predictions.png\", dpi=300, transparent=True)"
   ]
  },
  {
   "cell_type": "markdown",
   "metadata": {},
   "source": [
    "## Requests"
   ]
  },
  {
   "cell_type": "code",
   "execution_count": 159,
   "metadata": {},
   "outputs": [],
   "source": [
    "targets = [\n",
    "    \"C1=CNC=C1\",   # pyrrole\n",
    "    \"C1=CC=NC=C1\", # pyridine\n",
    "    \"C1=CC=C(C(=C1)C#N)C#N\", # ortho-DCB\n",
    "    \"C(C(=O)O)N\", # glycine\n",
    "    \"C1C=CC2=CC=CC=C21\", # indene\n",
    "    \"C1=CC=CC=C1\", # benzene\n",
    "    \"C1=CC=C(C=C1)O\", # phenol\n",
    "    \"C1=CC=C2C=C3C=CC=CC3=CC2=C1\", # anthracene\n",
    "    \"C1=CC=C2C=CC=CC2=C1\", # naphthalene\n",
    "    \"C#N\", # hydrogen cyanide\n",
    "]"
   ]
  },
  {
   "cell_type": "code",
   "execution_count": 160,
   "metadata": {},
   "outputs": [],
   "source": [
    "target_df = mrs_gbr.predict(smi=targets, embedding_model=embedder)"
   ]
  },
  {
   "cell_type": "code",
   "execution_count": 161,
   "metadata": {},
   "outputs": [],
   "source": [
    "target_df[\"Name\"] = [\"Pyrrole\", \"Pyridine\", \"ortho-DCB\", \"Glycine\", \"Indene\", \"Benzene\", \"Phenol\", \"Anthracene\", \"Naphthalene\", \"Hydrogen cyanide\"]"
   ]
  },
  {
   "cell_type": "code",
   "execution_count": 162,
   "metadata": {},
   "outputs": [
    {
     "data": {
      "text/html": [
       "<div>\n",
       "<style scoped>\n",
       "    .dataframe tbody tr th:only-of-type {\n",
       "        vertical-align: middle;\n",
       "    }\n",
       "\n",
       "    .dataframe tbody tr th {\n",
       "        vertical-align: top;\n",
       "    }\n",
       "\n",
       "    .dataframe thead th {\n",
       "        text-align: right;\n",
       "    }\n",
       "</style>\n",
       "<table border=\"1\" class=\"dataframe\">\n",
       "  <thead>\n",
       "    <tr style=\"text-align: right;\">\n",
       "      <th></th>\n",
       "      <th>Abundance</th>\n",
       "      <th>SMILES</th>\n",
       "      <th>Name</th>\n",
       "    </tr>\n",
       "  </thead>\n",
       "  <tbody>\n",
       "    <tr>\n",
       "      <th>0</th>\n",
       "      <td>11.711704</td>\n",
       "      <td>C1=CNC=C1</td>\n",
       "      <td>Pyrrole</td>\n",
       "    </tr>\n",
       "    <tr>\n",
       "      <th>1</th>\n",
       "      <td>11.427872</td>\n",
       "      <td>C1=CC=NC=C1</td>\n",
       "      <td>Pyridine</td>\n",
       "    </tr>\n",
       "    <tr>\n",
       "      <th>2</th>\n",
       "      <td>0.732758</td>\n",
       "      <td>C1=CC=C(C(=C1)C#N)C#N</td>\n",
       "      <td>ortho-DCB</td>\n",
       "    </tr>\n",
       "    <tr>\n",
       "      <th>3</th>\n",
       "      <td>11.748555</td>\n",
       "      <td>C(C(=O)O)N</td>\n",
       "      <td>Glycine</td>\n",
       "    </tr>\n",
       "    <tr>\n",
       "      <th>4</th>\n",
       "      <td>11.650296</td>\n",
       "      <td>C1C=CC2=CC=CC=C21</td>\n",
       "      <td>Indene</td>\n",
       "    </tr>\n",
       "    <tr>\n",
       "      <th>5</th>\n",
       "      <td>11.971750</td>\n",
       "      <td>C1=CC=CC=C1</td>\n",
       "      <td>Benzene</td>\n",
       "    </tr>\n",
       "    <tr>\n",
       "      <th>6</th>\n",
       "      <td>11.531630</td>\n",
       "      <td>C1=CC=C(C=C1)O</td>\n",
       "      <td>Phenol</td>\n",
       "    </tr>\n",
       "    <tr>\n",
       "      <th>7</th>\n",
       "      <td>11.533435</td>\n",
       "      <td>C1=CC=C2C=C3C=CC=CC3=CC2=C1</td>\n",
       "      <td>Anthracene</td>\n",
       "    </tr>\n",
       "    <tr>\n",
       "      <th>8</th>\n",
       "      <td>10.405784</td>\n",
       "      <td>C1=CC=C2C=CC=CC2=C1</td>\n",
       "      <td>Naphthalene</td>\n",
       "    </tr>\n",
       "    <tr>\n",
       "      <th>9</th>\n",
       "      <td>12.403852</td>\n",
       "      <td>C#N</td>\n",
       "      <td>Hydrogen cyanide</td>\n",
       "    </tr>\n",
       "  </tbody>\n",
       "</table>\n",
       "</div>"
      ],
      "text/plain": [
       "   Abundance                       SMILES              Name\n",
       "0  11.711704                    C1=CNC=C1           Pyrrole\n",
       "1  11.427872                  C1=CC=NC=C1          Pyridine\n",
       "2   0.732758        C1=CC=C(C(=C1)C#N)C#N         ortho-DCB\n",
       "3  11.748555                   C(C(=O)O)N           Glycine\n",
       "4  11.650296            C1C=CC2=CC=CC=C21            Indene\n",
       "5  11.971750                  C1=CC=CC=C1           Benzene\n",
       "6  11.531630               C1=CC=C(C=C1)O            Phenol\n",
       "7  11.533435  C1=CC=C2C=C3C=CC=CC3=CC2=C1        Anthracene\n",
       "8  10.405784          C1=CC=C2C=CC=CC2=C1       Naphthalene\n",
       "9  12.403852                          C#N  Hydrogen cyanide"
      ]
     },
     "execution_count": 162,
     "metadata": {},
     "output_type": "execute_result"
    }
   ],
   "source": [
    "target_df"
   ]
  },
  {
   "cell_type": "code",
   "execution_count": 163,
   "metadata": {},
   "outputs": [],
   "source": [
    "indene = np.sum([1345768928638.639, 2727913957371.784, 1753385269270.761, 3079442410060.451])"
   ]
  },
  {
   "cell_type": "code",
   "execution_count": 164,
   "metadata": {},
   "outputs": [
    {
     "name": "stdout",
     "output_type": "stream",
     "text": [
      "8.9065e+12\n"
     ]
    }
   ],
   "source": [
    "print(f\"{indene:.4e}\")"
   ]
  },
  {
   "cell_type": "code",
   "execution_count": 165,
   "metadata": {},
   "outputs": [],
   "source": [
    "tmc1_predict = mrs_gbr.predict(X=tmc1_embedding, smi=tmc1_df[\"SMILES\"].to_list())"
   ]
  },
  {
   "cell_type": "code",
   "execution_count": 166,
   "metadata": {},
   "outputs": [],
   "source": [
    "tmc1_predict[\"Observed\"] = np.log10(tmc1_df[\"Column density (cm^-2)\"].values)"
   ]
  },
  {
   "cell_type": "code",
   "execution_count": 167,
   "metadata": {},
   "outputs": [
    {
     "data": {
      "text/plain": [
       "2.142258522646409"
      ]
     },
     "execution_count": 167,
     "metadata": {},
     "output_type": "execute_result"
    }
   ],
   "source": [
    "np.mean(np.square(mrs_gp.predict(X=tmc1_embedding, smi=tmc1_df[\"SMILES\"].to_list())[\"Abundance\"] - tmc1_predict[\"Observed\"].values))"
   ]
  },
  {
   "cell_type": "code",
   "execution_count": 168,
   "metadata": {},
   "outputs": [
    {
     "data": {
      "text/html": [
       "<div>\n",
       "<style scoped>\n",
       "    .dataframe tbody tr th:only-of-type {\n",
       "        vertical-align: middle;\n",
       "    }\n",
       "\n",
       "    .dataframe tbody tr th {\n",
       "        vertical-align: top;\n",
       "    }\n",
       "\n",
       "    .dataframe thead th {\n",
       "        text-align: right;\n",
       "    }\n",
       "</style>\n",
       "<table border=\"1\" class=\"dataframe\">\n",
       "  <thead>\n",
       "    <tr style=\"text-align: right;\">\n",
       "      <th></th>\n",
       "      <th>Abundance</th>\n",
       "      <th>SMILES</th>\n",
       "      <th>Observed</th>\n",
       "    </tr>\n",
       "  </thead>\n",
       "  <tbody>\n",
       "    <tr>\n",
       "      <th>60</th>\n",
       "      <td>12.130689</td>\n",
       "      <td>C#CC#C[C+]=O</td>\n",
       "      <td>12.230449</td>\n",
       "    </tr>\n",
       "    <tr>\n",
       "      <th>61</th>\n",
       "      <td>11.301237</td>\n",
       "      <td>C=[N]</td>\n",
       "      <td>11.176091</td>\n",
       "    </tr>\n",
       "    <tr>\n",
       "      <th>62</th>\n",
       "      <td>13.045949</td>\n",
       "      <td>C=O</td>\n",
       "      <td>13.079181</td>\n",
       "    </tr>\n",
       "    <tr>\n",
       "      <th>63</th>\n",
       "      <td>11.424021</td>\n",
       "      <td>C#CC#[O+]</td>\n",
       "      <td>11.322219</td>\n",
       "    </tr>\n",
       "    <tr>\n",
       "      <th>64</th>\n",
       "      <td>11.633401</td>\n",
       "      <td>O=C=[OH+]</td>\n",
       "      <td>11.602060</td>\n",
       "    </tr>\n",
       "    <tr>\n",
       "      <th>65</th>\n",
       "      <td>11.579530</td>\n",
       "      <td>C=[OH+]</td>\n",
       "      <td>11.477121</td>\n",
       "    </tr>\n",
       "    <tr>\n",
       "      <th>66</th>\n",
       "      <td>10.688802</td>\n",
       "      <td>NC#[O+]</td>\n",
       "      <td>10.602060</td>\n",
       "    </tr>\n",
       "    <tr>\n",
       "      <th>67</th>\n",
       "      <td>10.960844</td>\n",
       "      <td>C#N[O]</td>\n",
       "      <td>10.845098</td>\n",
       "    </tr>\n",
       "    <tr>\n",
       "      <th>68</th>\n",
       "      <td>11.126641</td>\n",
       "      <td>OC#N</td>\n",
       "      <td>11.041393</td>\n",
       "    </tr>\n",
       "    <tr>\n",
       "      <th>69</th>\n",
       "      <td>21.853485</td>\n",
       "      <td>[HH]</td>\n",
       "      <td>22.000000</td>\n",
       "    </tr>\n",
       "    <tr>\n",
       "      <th>70</th>\n",
       "      <td>11.134339</td>\n",
       "      <td>[C]#CC#[C]=O</td>\n",
       "      <td>11.079181</td>\n",
       "    </tr>\n",
       "    <tr>\n",
       "      <th>71</th>\n",
       "      <td>12.101403</td>\n",
       "      <td>C(=O)O</td>\n",
       "      <td>12.146128</td>\n",
       "    </tr>\n",
       "    <tr>\n",
       "      <th>72</th>\n",
       "      <td>11.983326</td>\n",
       "      <td>C#[C]=O</td>\n",
       "      <td>12.000000</td>\n",
       "    </tr>\n",
       "  </tbody>\n",
       "</table>\n",
       "</div>"
      ],
      "text/plain": [
       "    Abundance        SMILES   Observed\n",
       "60  12.130689  C#CC#C[C+]=O  12.230449\n",
       "61  11.301237         C=[N]  11.176091\n",
       "62  13.045949           C=O  13.079181\n",
       "63  11.424021     C#CC#[O+]  11.322219\n",
       "64  11.633401     O=C=[OH+]  11.602060\n",
       "65  11.579530       C=[OH+]  11.477121\n",
       "66  10.688802       NC#[O+]  10.602060\n",
       "67  10.960844        C#N[O]  10.845098\n",
       "68  11.126641          OC#N  11.041393\n",
       "69  21.853485          [HH]  22.000000\n",
       "70  11.134339  [C]#CC#[C]=O  11.079181\n",
       "71  12.101403        C(=O)O  12.146128\n",
       "72  11.983326       C#[C]=O  12.000000"
      ]
     },
     "execution_count": 168,
     "metadata": {},
     "output_type": "execute_result"
    }
   ],
   "source": [
    "tmc1_predict.iloc[60:73]"
   ]
  },
  {
   "cell_type": "code",
   "execution_count": 169,
   "metadata": {},
   "outputs": [
    {
     "data": {
      "text/html": [
       "<div>\n",
       "<style scoped>\n",
       "    .dataframe tbody tr th:only-of-type {\n",
       "        vertical-align: middle;\n",
       "    }\n",
       "\n",
       "    .dataframe tbody tr th {\n",
       "        vertical-align: top;\n",
       "    }\n",
       "\n",
       "    .dataframe thead th {\n",
       "        text-align: right;\n",
       "    }\n",
       "</style>\n",
       "<table border=\"1\" class=\"dataframe\">\n",
       "  <thead>\n",
       "    <tr style=\"text-align: right;\">\n",
       "      <th></th>\n",
       "      <th>Abundance</th>\n",
       "      <th>SMILES</th>\n",
       "      <th>Observed</th>\n",
       "    </tr>\n",
       "  </thead>\n",
       "  <tbody>\n",
       "    <tr>\n",
       "      <th>10</th>\n",
       "      <td>13.182117</td>\n",
       "      <td>C1C#C1</td>\n",
       "      <td>13.269513</td>\n",
       "    </tr>\n",
       "    <tr>\n",
       "      <th>59</th>\n",
       "      <td>11.899358</td>\n",
       "      <td>C#CC#CC#C[C+]=O</td>\n",
       "      <td>11.892095</td>\n",
       "    </tr>\n",
       "    <tr>\n",
       "      <th>22</th>\n",
       "      <td>13.365423</td>\n",
       "      <td>[C]#CC#C</td>\n",
       "      <td>13.429752</td>\n",
       "    </tr>\n",
       "    <tr>\n",
       "      <th>31</th>\n",
       "      <td>13.186284</td>\n",
       "      <td>O=C=S</td>\n",
       "      <td>13.260071</td>\n",
       "    </tr>\n",
       "    <tr>\n",
       "      <th>60</th>\n",
       "      <td>12.130689</td>\n",
       "      <td>C#CC#C[C+]=O</td>\n",
       "      <td>12.230449</td>\n",
       "    </tr>\n",
       "    <tr>\n",
       "      <th>33</th>\n",
       "      <td>13.093065</td>\n",
       "      <td>[C-]#CC#[S+]</td>\n",
       "      <td>13.139879</td>\n",
       "    </tr>\n",
       "    <tr>\n",
       "      <th>0</th>\n",
       "      <td>12.538943</td>\n",
       "      <td>CC#CC#CC#C</td>\n",
       "      <td>12.491362</td>\n",
       "    </tr>\n",
       "    <tr>\n",
       "      <th>70</th>\n",
       "      <td>11.134339</td>\n",
       "      <td>[C]#CC#[C]=O</td>\n",
       "      <td>11.079181</td>\n",
       "    </tr>\n",
       "    <tr>\n",
       "      <th>80</th>\n",
       "      <td>10.410404</td>\n",
       "      <td>C=C=C=C=C=[C]</td>\n",
       "      <td>10.328380</td>\n",
       "    </tr>\n",
       "    <tr>\n",
       "      <th>27</th>\n",
       "      <td>11.895656</td>\n",
       "      <td>C#CC#[NH+]</td>\n",
       "      <td>11.869818</td>\n",
       "    </tr>\n",
       "    <tr>\n",
       "      <th>66</th>\n",
       "      <td>10.688802</td>\n",
       "      <td>NC#[O+]</td>\n",
       "      <td>10.602060</td>\n",
       "    </tr>\n",
       "    <tr>\n",
       "      <th>48</th>\n",
       "      <td>12.063347</td>\n",
       "      <td>C#CCC#N</td>\n",
       "      <td>11.964260</td>\n",
       "    </tr>\n",
       "    <tr>\n",
       "      <th>8</th>\n",
       "      <td>12.774248</td>\n",
       "      <td>[CH+]=C=[C-]</td>\n",
       "      <td>12.749736</td>\n",
       "    </tr>\n",
       "    <tr>\n",
       "      <th>30</th>\n",
       "      <td>13.875244</td>\n",
       "      <td>[C+]#C[S-]</td>\n",
       "      <td>14.008600</td>\n",
       "    </tr>\n",
       "    <tr>\n",
       "      <th>83</th>\n",
       "      <td>12.403852</td>\n",
       "      <td>C#N</td>\n",
       "      <td>12.389166</td>\n",
       "    </tr>\n",
       "    <tr>\n",
       "      <th>46</th>\n",
       "      <td>11.850687</td>\n",
       "      <td>C1=CC=C2C=C(C=CC2=C1)C#N</td>\n",
       "      <td>11.848189</td>\n",
       "    </tr>\n",
       "    <tr>\n",
       "      <th>24</th>\n",
       "      <td>13.516072</td>\n",
       "      <td>[C]#CC#N</td>\n",
       "      <td>13.550228</td>\n",
       "    </tr>\n",
       "    <tr>\n",
       "      <th>72</th>\n",
       "      <td>11.983326</td>\n",
       "      <td>C#[C]=O</td>\n",
       "      <td>12.000000</td>\n",
       "    </tr>\n",
       "    <tr>\n",
       "      <th>54</th>\n",
       "      <td>11.119030</td>\n",
       "      <td>C#CC#CC#[C-]</td>\n",
       "      <td>11.079181</td>\n",
       "    </tr>\n",
       "    <tr>\n",
       "      <th>63</th>\n",
       "      <td>11.424021</td>\n",
       "      <td>C#CC#[O+]</td>\n",
       "      <td>11.322219</td>\n",
       "    </tr>\n",
       "  </tbody>\n",
       "</table>\n",
       "</div>"
      ],
      "text/plain": [
       "    Abundance                    SMILES   Observed\n",
       "10  13.182117                    C1C#C1  13.269513\n",
       "59  11.899358           C#CC#CC#C[C+]=O  11.892095\n",
       "22  13.365423                  [C]#CC#C  13.429752\n",
       "31  13.186284                     O=C=S  13.260071\n",
       "60  12.130689              C#CC#C[C+]=O  12.230449\n",
       "33  13.093065              [C-]#CC#[S+]  13.139879\n",
       "0   12.538943                CC#CC#CC#C  12.491362\n",
       "70  11.134339              [C]#CC#[C]=O  11.079181\n",
       "80  10.410404             C=C=C=C=C=[C]  10.328380\n",
       "27  11.895656                C#CC#[NH+]  11.869818\n",
       "66  10.688802                   NC#[O+]  10.602060\n",
       "48  12.063347                   C#CCC#N  11.964260\n",
       "8   12.774248              [CH+]=C=[C-]  12.749736\n",
       "30  13.875244                [C+]#C[S-]  14.008600\n",
       "83  12.403852                       C#N  12.389166\n",
       "46  11.850687  C1=CC=C2C=C(C=CC2=C1)C#N  11.848189\n",
       "24  13.516072                  [C]#CC#N  13.550228\n",
       "72  11.983326                   C#[C]=O  12.000000\n",
       "54  11.119030              C#CC#CC#[C-]  11.079181\n",
       "63  11.424021                 C#CC#[O+]  11.322219"
      ]
     },
     "execution_count": 169,
     "metadata": {},
     "output_type": "execute_result"
    }
   ],
   "source": [
    "tmc1_predict.sample(20, replace=False)"
   ]
  },
  {
   "cell_type": "code",
   "execution_count": 170,
   "metadata": {},
   "outputs": [
    {
     "data": {
      "text/plain": [
       "0.004394480379500624"
      ]
     },
     "execution_count": 170,
     "metadata": {},
     "output_type": "execute_result"
    }
   ],
   "source": [
    "np.mean(np.square(tmc1_predict[\"Abundance\"] - tmc1_predict[\"Observed\"]))"
   ]
  },
  {
   "cell_type": "markdown",
   "metadata": {},
   "source": [
    "### Cyanopolyyne comparison"
   ]
  },
  {
   "cell_type": "code",
   "execution_count": 171,
   "metadata": {},
   "outputs": [],
   "source": [
    "cp_smiles = [\n",
    "    \"C#N\",\n",
    "    \"C#CC#N\",\n",
    "    \"C#CC#CC#N\",\n",
    "    \"C#CC#CC#CC#N\",\n",
    "    \"C#CC#CC#CC#CC#N\",\n",
    "    \"C#CC#CC#CC#CC#CC#N\",\n",
    "#     \"C#CC#CC#CC#CC#CC#CC#N\"\n",
    "]"
   ]
  },
  {
   "cell_type": "code",
   "execution_count": 172,
   "metadata": {},
   "outputs": [],
   "source": [
    "cp_df = mrs_gbr.predict(smi=cp_smiles, embedding_model=embedder)"
   ]
  },
  {
   "cell_type": "code",
   "execution_count": 173,
   "metadata": {},
   "outputs": [],
   "source": [
    "cp_comp_df = pd.merge(tmc1_df, cp_df, on=\"SMILES\")"
   ]
  },
  {
   "cell_type": "code",
   "execution_count": 174,
   "metadata": {},
   "outputs": [],
   "source": [
    "x = np.arange(1, len(cp_smiles) * 2 + 1., 2)\n",
    "\n",
    "absent = [0, 2, 4]"
   ]
  },
  {
   "cell_type": "code",
   "execution_count": 175,
   "metadata": {},
   "outputs": [],
   "source": [
    "mask = np.ones_like(x, dtype=bool)"
   ]
  },
  {
   "cell_type": "code",
   "execution_count": 176,
   "metadata": {},
   "outputs": [],
   "source": [
    "mask[absent] = False"
   ]
  },
  {
   "cell_type": "code",
   "execution_count": 177,
   "metadata": {},
   "outputs": [
    {
     "data": {
      "text/plain": [
       "array([1., 5., 9.])"
      ]
     },
     "execution_count": 177,
     "metadata": {},
     "output_type": "execute_result"
    }
   ],
   "source": [
    "x[absent]"
   ]
  },
  {
   "cell_type": "code",
   "execution_count": 178,
   "metadata": {},
   "outputs": [],
   "source": [
    "cp_comp_df = cp_comp_df.iloc[[5, 0, 1, 2, 3, 4]]"
   ]
  },
  {
   "cell_type": "code",
   "execution_count": 179,
   "metadata": {},
   "outputs": [
    {
     "data": {
      "image/png": "[encoded data removed]",
      "text/plain": [
       "<Figure size 2400x1200 with 1 Axes>"
      ]
     },
     "metadata": {},
     "output_type": "display_data"
    }
   ],
   "source": [
    "fig, ax = plt.subplots(figsize=(8,4))\n",
    "\n",
    "ax.scatter(x, cp_df[\"Abundance\"], label=\"GBR\")\n",
    "ax.scatter(x[absent], cp_df[\"Abundance\"].iloc[[0, 2, 4]])\n",
    "ax.scatter(x, np.log10(cp_comp_df[\"Column density (cm^-2)\"]), marker='_', s=400, lw=3., label=\"Observed\")\n",
    "ax.set_xticks(x)\n",
    "ax.set_xticklabels([\"HCN\", \"HC3N\", \"HC5N\", \"HC7N\", \"HC9N\", \"HC11N\"])\n",
    "ax.set_ylabel(\"log $N_{col}$ cm$^{-2}$\")\n",
    "ax.legend()\n",
    "fig.savefig(\"cyanopolyyne_validation.png\", dpi=300)"
   ]
  },
  {
   "cell_type": "code",
   "execution_count": null,
   "metadata": {},
   "outputs": [],
   "source": []
  }
 ],
 "metadata": {
  "kernelspec": {
   "display_name": "Python 3.6.10 64-bit ('rdkit': conda)",
   "language": "python",
   "name": "python361064bitrdkitconda2231f7cd07614fa9b5f8257698e6a5f8"
  },
  "language_info": {
   "codemirror_mode": {
    "name": "ipython",
    "version": 3
   },
   "file_extension": ".py",
   "mimetype": "text/x-python",
   "name": "python",
   "nbconvert_exporter": "python",
   "pygments_lexer": "ipython3",
   "version": "3.6.10"
  },
  "widgets": {
   "application/vnd.jupyter.widget-state+json": {
    "state": {},
    "version_major": 2,
    "version_minor": 0
   }
  }
 },
 "nbformat": 4,
 "nbformat_minor": 4
}
