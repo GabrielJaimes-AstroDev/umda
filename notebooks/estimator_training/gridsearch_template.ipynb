{
 "metadata": {
  "language_info": {
   "codemirror_mode": {
    "name": "ipython",
    "version": 3
   },
   "file_extension": ".py",
   "mimetype": "text/x-python",
   "name": "python",
   "nbconvert_exporter": "python",
   "pygments_lexer": "ipython3",
   "version": "3.7.10"
  },
  "orig_nbformat": 2,
  "kernelspec": {
   "name": "python3710jvsc74a57bd038815272606d4e3b04bbd3a96dc4b085d5a6c2ed1c5ead0b1b607595242e786b",
   "display_name": "Python 3.7.10 64-bit ('umda': conda)"
  },
  "metadata": {
   "interpreter": {
    "hash": "38815272606d4e3b04bbd3a96dc4b085d5a6c2ed1c5ead0b1b607595242e786b"
   }
  }
 },
 "nbformat": 4,
 "nbformat_minor": 2,
 "cells": [
  {
   "cell_type": "code",
   "execution_count": 1,
   "metadata": {},
   "outputs": [],
   "source": [
    "%matplotlib inline\n",
    "from joblib import load\n",
    "from ruamel.yaml import YAML\n",
    "from matplotlib import pyplot as plt\n",
    "import seaborn as sns\n",
    "import numpy as np\n",
    "import pandas as pd\n",
    "import h5py\n",
    "\n",
    "from sklearn.metrics import mean_squared_error, r2_score\n",
    "from sklearn.model_selection import KFold, GridSearchCV, ShuffleSplit, train_test_split\n",
    "from sklearn.preprocessing import StandardScaler\n",
    "from sklearn.pipeline import Pipeline\n",
    "from sklearn.gaussian_process import GaussianProcessRegressor, kernels\n",
    "from sklearn.neighbors import KNeighborsRegressor\n",
    "from sklearn.linear_model import LinearRegression, BayesianRidge, Ridge\n",
    "from sklearn.svm import SVR\n",
    "from sklearn.ensemble import RandomForestRegressor, GradientBoostingRegressor\n",
    "from sklearn.utils import resample\n",
    "\n",
    "from umda import paths"
   ]
  },
  {
   "cell_type": "code",
   "execution_count": 2,
   "metadata": {},
   "outputs": [],
   "source": [
    "seed = 1215677\n",
    "normalize = False\n",
    "mask = False"
   ]
  },
  {
   "cell_type": "code",
   "execution_count": 3,
   "metadata": {},
   "outputs": [],
   "source": [
    "def load_data(exclude_hydrogen: bool=True):\n",
    "    data_path = paths.get(\"processed\").joinpath(\"pipeline_embeddings_70.h5\")\n",
    "    tmc1_data = pd.read_pickle(paths.get(\"processed\").joinpath(\"tmc1_ready.pkl\"))\n",
    "    if exclude_hydrogen:\n",
    "        tmc1_data = tmc1_data.loc[tmc1_data[\"SMILES\"] != \"[HH]\"]\n",
    "    tmc1_data.reset_index(inplace=True, drop=True)\n",
    "    with h5py.File(data_path, \"r\") as h5_data:\n",
    "        X = h5_data[\"pca\"][:]\n",
    "        cluster_ids = h5_data[\"cluster_ids\"][:]\n",
    "    return X, cluster_ids, tmc1_data\n",
    "\n",
    "\n",
    "def load_pipeline():\n",
    "    model_path = paths.get(\"models\")\n",
    "    embedder = load(model_path.joinpath(\"EmbeddingModel.pkl\"))\n",
    "    return embedder\n",
    "\n",
    "\n",
    "def cross_validation(data, estimator, hparams, seed, n_splits: int = 5, n_jobs: int = 16):\n",
    "    X, y = data\n",
    "    splitter = ShuffleSplit(n_splits, random_state=seed)\n",
    "    grid_search = GridSearchCV(\n",
    "        estimator,\n",
    "        {f\"regressor__{key}\": value for key, value in hparams.items()},\n",
    "        scoring=\"r2\",\n",
    "        cv=splitter,\n",
    "        n_jobs=n_jobs,\n",
    "        refit=False\n",
    "    )\n",
    "    result = grid_search.fit(X, y)\n",
    "    return result\n",
    "\n",
    "\n",
    "def standardized_fit_test(data, estimator, hparams, seed, n_splits: int = 100, test_size: float = 0.2):\n",
    "    X, y = data\n",
    "    splitter = ShuffleSplit(n_splits, test_size=test_size, random_state=seed)\n",
    "    best_train_error, best_test_error, best_combined = np.inf, np.inf, np.inf\n",
    "    log = list()\n",
    "    for split_index, (train_index, test_index) in enumerate(splitter.split(X, y)):\n",
    "        train_X, test_X, train_y, test_y = X[train_index], X[test_index], y[train_index], y[test_index]\n",
    "        # current_estimator = estimator.__class__()\n",
    "        # set the estimator hyperparameters\n",
    "        estimator.__dict__.update(**{f\"regressor__{key}\": value for key, value in hparams.items()})\n",
    "        result = estimator.fit(train_X, train_y)\n",
    "        # compute the mean squared error\n",
    "        train_error = mean_squared_error(train_y, result.predict(train_X))\n",
    "        test_error = mean_squared_error(test_y, result.predict(test_X))\n",
    "        combined_error = mean_squared_error(y, result.predict(X))\n",
    "        r2 = r2_score(y, result.predict(X))\n",
    "        log.append({\"train_error\": train_error, \"test_error\": test_error, \"combined_error\": combined_error, \"r2\": r2, \"train_index\": train_index, \"test_index\": test_index})\n",
    "        if test_error < best_test_error:\n",
    "            best_split = (train_index, test_index)\n",
    "            best_train_error = train_error\n",
    "            best_test_error = test_error\n",
    "            best_combined = combined_error\n",
    "            best_estimator = result\n",
    "    return best_estimator, best_train_error, best_test_error, best_split, log\n",
    "\n",
    "\n",
    "def compose_model(base_estimator, scale: bool = False):\n",
    "    if scale:\n",
    "        models = [\n",
    "            (\"scaler\", StandardScaler()), (\"regressor\", base_estimator)\n",
    "        ]\n",
    "    else:\n",
    "        models = [(\"regressor\", base_estimator)]\n",
    "    return Pipeline(models)"
   ]
  },
  {
   "cell_type": "code",
   "execution_count": 606,
   "metadata": {},
   "outputs": [
    {
     "output_type": "stream",
     "name": "stderr",
     "text": [
      "/home/kelvin/miniconda3/envs/umda/lib/python3.7/site-packages/sklearn/base.py:315: UserWarning: Trying to unpickle estimator StandardScaler from version 0.23.2 when using version 0.24.1. This might lead to breaking code or invalid results. Use at your own risk.\n  UserWarning)\n/home/kelvin/miniconda3/envs/umda/lib/python3.7/site-packages/sklearn/base.py:315: UserWarning: Trying to unpickle estimator IncrementalPCA from version 0.23.2 when using version 0.24.1. This might lead to breaking code or invalid results. Use at your own risk.\n  UserWarning)\n/home/kelvin/miniconda3/envs/umda/lib/python3.7/site-packages/sklearn/base.py:315: UserWarning: Trying to unpickle estimator KMeans from version 0.23.2 when using version 0.24.1. This might lead to breaking code or invalid results. Use at your own risk.\n  UserWarning)\n/home/kelvin/miniconda3/envs/umda/lib/python3.7/site-packages/sklearn/base.py:315: UserWarning: Trying to unpickle estimator Pipeline from version 0.23.2 when using version 0.24.1. This might lead to breaking code or invalid results. Use at your own risk.\n  UserWarning)\n"
     ]
    }
   ],
   "source": [
    "state = np.random.default_rng(seed)\n",
    "\n",
    "full_X, full_cluster_ids, tmc1_df = load_data()\n",
    "embedder = load_pipeline()\n",
    "\n",
    "tmc1_X = np.vstack([embedder.vectorize(smi) for smi in tmc1_df[\"SMILES\"]])\n",
    "tmc1_y = np.log10(tmc1_df[\"Column density (cm^-2)\"].to_numpy())"
   ]
  },
  {
   "cell_type": "code",
   "execution_count": 662,
   "metadata": {},
   "outputs": [],
   "source": [
    "with open(\"model_hparams.yml\") as read_file:\n",
    "    hparams = YAML().load(read_file)"
   ]
  },
  {
   "cell_type": "code",
   "execution_count": 663,
   "metadata": {},
   "outputs": [],
   "source": [
    "gp_kernel = kernels.ConstantKernel() * \\\n",
    "    kernels.RBF(3.0, (1e-1, 10.0)) + \\\n",
    "    kernels.RationalQuadratic(200.0, 20.0, alpha_bounds=(1e-3, 5e2), length_scale_bounds=(50.0, 1e4)) * \\\n",
    "        kernels.ConstantKernel() + kernels.ConstantKernel()"
   ]
  },
  {
   "cell_type": "code",
   "execution_count": 664,
   "metadata": {},
   "outputs": [],
   "source": [
    "base_models = {\n",
    "    \"linear_regression\": LinearRegression(),\n",
    "    \"ridge\": Ridge(),\n",
    "    \"svr\": SVR(),\n",
    "    \"br\": BayesianRidge(),\n",
    "    \"knn\": KNeighborsRegressor(),\n",
    "    \"rfr\": RandomForestRegressor(random_state=seed),\n",
    "    \"gbr\": GradientBoostingRegressor(random_state=seed),\n",
    "    \"gpr\": GaussianProcessRegressor(\n",
    "        kernel=gp_kernel, random_state=seed\n",
    "    )\n",
    "}\n",
    "\n",
    "models = {key: compose_model(value, normalize) for key, value in base_models.items()}"
   ]
  },
  {
   "cell_type": "code",
   "execution_count": 665,
   "metadata": {},
   "outputs": [
    {
     "output_type": "stream",
     "name": "stderr",
     "text": [
      "/home/kelvin/miniconda3/envs/umda/lib/python3.7/site-packages/sklearn/model_selection/_search.py:289: UserWarning: The total space of parameters 2 is smaller than n_iter=10. Running 2 iterations. For exhaustive searches, use GridSearchCV.\n",
      "  % (grid_size, self.n_iter, grid_size), UserWarning)\n",
      "Model: linear_regression best CV score: -5.4218e+13\n",
      "Model: ridge best CV score: -1.2134e+00\n",
      "Model: svr best CV score: -1.2826e-01\n",
      "Model: br best CV score: -1.2749e+00\n",
      "Model: knn best CV score: -6.6063e-02\n",
      "Model: rfr best CV score: -2.3436e-02\n",
      "/home/kelvin/miniconda3/envs/umda/lib/python3.7/site-packages/sklearn/model_selection/_search.py:921: UserWarning: One or more of the test scores are non-finite: [-0.14915524 -0.14372437 -0.15232949 -0.11310683 -0.14701598 -0.15820126\n",
      " -0.15368787         nan -0.14675171 -0.146141  ]\n",
      "  category=UserWarning\n",
      "Model: gbr best CV score: -1.1311e-01\n",
      "/home/kelvin/miniconda3/envs/umda/lib/python3.7/site-packages/sklearn/model_selection/_search.py:921: UserWarning: One or more of the test scores are non-finite: [-0.2731131  -0.15121167 -0.63279738         nan -0.25829478 -0.25866019\n",
      "         nan -0.63324279 -0.27497139 -0.27263917]\n",
      "  category=UserWarning\n",
      "/home/kelvin/miniconda3/envs/umda/lib/python3.7/site-packages/sklearn/gaussian_process/kernels.py:418: ConvergenceWarning: The optimal value found for dimension 0 of parameter k1__k2__k1__length_scale is close to the specified upper bound 10000.0. Increasing the bound and calling fit again may find a better value.\n",
      "  ConvergenceWarning)\n",
      "/home/kelvin/miniconda3/envs/umda/lib/python3.7/site-packages/sklearn/gaussian_process/kernels.py:418: ConvergenceWarning: The optimal value found for dimension 0 of parameter k1__k1__k1__constant_value is close to the specified upper bound 100000.0. Increasing the bound and calling fit again may find a better value.\n",
      "  ConvergenceWarning)\n",
      "/home/kelvin/miniconda3/envs/umda/lib/python3.7/site-packages/sklearn/gaussian_process/kernels.py:409: ConvergenceWarning: The optimal value found for dimension 0 of parameter k1__k1__k2__length_scale is close to the specified lower bound 0.1. Decreasing the bound and calling fit again may find a better value.\n",
      "  ConvergenceWarning)\n",
      "/home/kelvin/miniconda3/envs/umda/lib/python3.7/site-packages/sklearn/gaussian_process/kernels.py:418: ConvergenceWarning: The optimal value found for dimension 0 of parameter k1__k2__k2__constant_value is close to the specified upper bound 100000.0. Increasing the bound and calling fit again may find a better value.\n",
      "  ConvergenceWarning)\n",
      "/home/kelvin/miniconda3/envs/umda/lib/python3.7/site-packages/sklearn/gaussian_process/kernels.py:418: ConvergenceWarning: The optimal value found for dimension 0 of parameter k2__constant_value is close to the specified upper bound 100000.0. Increasing the bound and calling fit again may find a better value.\n",
      "  ConvergenceWarning)\n",
      "/home/kelvin/miniconda3/envs/umda/lib/python3.7/site-packages/sklearn/gaussian_process/_gpr.py:509: ConvergenceWarning: lbfgs failed to converge (status=2):\n",
      "ABNORMAL_TERMINATION_IN_LNSRCH.\n",
      "\n",
      "Increase the number of iterations (max_iter) or scale the data as shown in:\n",
      "    https://scikit-learn.org/stable/modules/preprocessing.html\n",
      "  _check_optimize_result(\"lbfgs\", opt_res)\n",
      "/home/kelvin/miniconda3/envs/umda/lib/python3.7/site-packages/sklearn/gaussian_process/kernels.py:418: ConvergenceWarning: The optimal value found for dimension 0 of parameter k1__k1__k1__constant_value is close to the specified upper bound 100000.0. Increasing the bound and calling fit again may find a better value.\n",
      "  ConvergenceWarning)\n",
      "/home/kelvin/miniconda3/envs/umda/lib/python3.7/site-packages/sklearn/gaussian_process/kernels.py:409: ConvergenceWarning: The optimal value found for dimension 0 of parameter k1__k1__k2__length_scale is close to the specified lower bound 0.1. Decreasing the bound and calling fit again may find a better value.\n",
      "  ConvergenceWarning)\n",
      "/home/kelvin/miniconda3/envs/umda/lib/python3.7/site-packages/sklearn/gaussian_process/kernels.py:409: ConvergenceWarning: The optimal value found for dimension 0 of parameter k1__k2__k2__constant_value is close to the specified lower bound 1e-05. Decreasing the bound and calling fit again may find a better value.\n",
      "  ConvergenceWarning)\n",
      "/home/kelvin/miniconda3/envs/umda/lib/python3.7/site-packages/sklearn/gaussian_process/kernels.py:409: ConvergenceWarning: The optimal value found for dimension 0 of parameter k2__constant_value is close to the specified lower bound 1e-05. Decreasing the bound and calling fit again may find a better value.\n",
      "  ConvergenceWarning)\n",
      "Model: gpr best CV score: -1.5121e-01\n",
      "/home/kelvin/miniconda3/envs/umda/lib/python3.7/site-packages/sklearn/gaussian_process/_gpr.py:509: ConvergenceWarning: lbfgs failed to converge (status=2):\n",
      "ABNORMAL_TERMINATION_IN_LNSRCH.\n",
      "\n",
      "Increase the number of iterations (max_iter) or scale the data as shown in:\n",
      "    https://scikit-learn.org/stable/modules/preprocessing.html\n",
      "  _check_optimize_result(\"lbfgs\", opt_res)\n",
      "/home/kelvin/miniconda3/envs/umda/lib/python3.7/site-packages/sklearn/gaussian_process/kernels.py:409: ConvergenceWarning: The optimal value found for dimension 0 of parameter k1__k2__k1__length_scale is close to the specified lower bound 50.0. Decreasing the bound and calling fit again may find a better value.\n",
      "  ConvergenceWarning)\n",
      "/home/kelvin/miniconda3/envs/umda/lib/python3.7/site-packages/sklearn/gaussian_process/kernels.py:418: ConvergenceWarning: The optimal value found for dimension 0 of parameter k1__k1__k1__constant_value is close to the specified upper bound 100000.0. Increasing the bound and calling fit again may find a better value.\n",
      "  ConvergenceWarning)\n",
      "/home/kelvin/miniconda3/envs/umda/lib/python3.7/site-packages/sklearn/gaussian_process/kernels.py:409: ConvergenceWarning: The optimal value found for dimension 0 of parameter k1__k1__k2__length_scale is close to the specified lower bound 0.1. Decreasing the bound and calling fit again may find a better value.\n",
      "  ConvergenceWarning)\n",
      "/home/kelvin/miniconda3/envs/umda/lib/python3.7/site-packages/sklearn/gaussian_process/kernels.py:409: ConvergenceWarning: The optimal value found for dimension 0 of parameter k2__constant_value is close to the specified lower bound 1e-05. Decreasing the bound and calling fit again may find a better value.\n",
      "  ConvergenceWarning)\n",
      "/home/kelvin/miniconda3/envs/umda/lib/python3.7/site-packages/sklearn/gaussian_process/kernels.py:418: ConvergenceWarning: The optimal value found for dimension 0 of parameter k1__k2__k1__length_scale is close to the specified upper bound 10000.0. Increasing the bound and calling fit again may find a better value.\n",
      "  ConvergenceWarning)\n",
      "/home/kelvin/miniconda3/envs/umda/lib/python3.7/site-packages/sklearn/gaussian_process/kernels.py:418: ConvergenceWarning: The optimal value found for dimension 0 of parameter k1__k2__k1__length_scale is close to the specified upper bound 10000.0. Increasing the bound and calling fit again may find a better value.\n",
      "  ConvergenceWarning)\n",
      "/home/kelvin/miniconda3/envs/umda/lib/python3.7/site-packages/sklearn/gaussian_process/kernels.py:418: ConvergenceWarning: The optimal value found for dimension 0 of parameter k1__k1__k1__constant_value is close to the specified upper bound 100000.0. Increasing the bound and calling fit again may find a better value.\n",
      "  ConvergenceWarning)\n",
      "/home/kelvin/miniconda3/envs/umda/lib/python3.7/site-packages/sklearn/gaussian_process/kernels.py:409: ConvergenceWarning: The optimal value found for dimension 0 of parameter k1__k1__k2__length_scale is close to the specified lower bound 0.1. Decreasing the bound and calling fit again may find a better value.\n",
      "  ConvergenceWarning)\n",
      "/home/kelvin/miniconda3/envs/umda/lib/python3.7/site-packages/sklearn/gaussian_process/kernels.py:418: ConvergenceWarning: The optimal value found for dimension 0 of parameter k1__k2__k2__constant_value is close to the specified upper bound 100000.0. Increasing the bound and calling fit again may find a better value.\n",
      "  ConvergenceWarning)\n",
      "/home/kelvin/miniconda3/envs/umda/lib/python3.7/site-packages/sklearn/gaussian_process/kernels.py:418: ConvergenceWarning: The optimal value found for dimension 0 of parameter k2__constant_value is close to the specified upper bound 100000.0. Increasing the bound and calling fit again may find a better value.\n",
      "  ConvergenceWarning)\n",
      "/home/kelvin/miniconda3/envs/umda/lib/python3.7/site-packages/sklearn/gaussian_process/kernels.py:418: ConvergenceWarning: The optimal value found for dimension 0 of parameter k1__k1__k1__constant_value is close to the specified upper bound 100000.0. Increasing the bound and calling fit again may find a better value.\n",
      "  ConvergenceWarning)\n",
      "/home/kelvin/miniconda3/envs/umda/lib/python3.7/site-packages/sklearn/gaussian_process/kernels.py:409: ConvergenceWarning: The optimal value found for dimension 0 of parameter k1__k1__k2__length_scale is close to the specified lower bound 0.1. Decreasing the bound and calling fit again may find a better value.\n",
      "  ConvergenceWarning)\n",
      "/home/kelvin/miniconda3/envs/umda/lib/python3.7/site-packages/sklearn/gaussian_process/kernels.py:418: ConvergenceWarning: The optimal value found for dimension 0 of parameter k1__k2__k2__constant_value is close to the specified upper bound 100000.0. Increasing the bound and calling fit again may find a better value.\n",
      "  ConvergenceWarning)\n",
      "/home/kelvin/miniconda3/envs/umda/lib/python3.7/site-packages/sklearn/gaussian_process/kernels.py:409: ConvergenceWarning: The optimal value found for dimension 0 of parameter k2__constant_value is close to the specified lower bound 1e-05. Decreasing the bound and calling fit again may find a better value.\n",
      "  ConvergenceWarning)\n",
      "/home/kelvin/miniconda3/envs/umda/lib/python3.7/site-packages/sklearn/gaussian_process/_gpr.py:509: ConvergenceWarning: lbfgs failed to converge (status=2):\n",
      "ABNORMAL_TERMINATION_IN_LNSRCH.\n",
      "\n",
      "Increase the number of iterations (max_iter) or scale the data as shown in:\n",
      "    https://scikit-learn.org/stable/modules/preprocessing.html\n",
      "  _check_optimize_result(\"lbfgs\", opt_res)\n",
      "/home/kelvin/miniconda3/envs/umda/lib/python3.7/site-packages/sklearn/gaussian_process/kernels.py:418: ConvergenceWarning: The optimal value found for dimension 0 of parameter k1__k1__k1__constant_value is close to the specified upper bound 100000.0. Increasing the bound and calling fit again may find a better value.\n",
      "  ConvergenceWarning)\n",
      "/home/kelvin/miniconda3/envs/umda/lib/python3.7/site-packages/sklearn/gaussian_process/kernels.py:409: ConvergenceWarning: The optimal value found for dimension 0 of parameter k1__k1__k2__length_scale is close to the specified lower bound 0.1. Decreasing the bound and calling fit again may find a better value.\n",
      "  ConvergenceWarning)\n",
      "/home/kelvin/miniconda3/envs/umda/lib/python3.7/site-packages/sklearn/gaussian_process/kernels.py:418: ConvergenceWarning: The optimal value found for dimension 0 of parameter k1__k2__k2__constant_value is close to the specified upper bound 100000.0. Increasing the bound and calling fit again may find a better value.\n",
      "  ConvergenceWarning)\n",
      "/home/kelvin/miniconda3/envs/umda/lib/python3.7/site-packages/sklearn/gaussian_process/_gpr.py:509: ConvergenceWarning: lbfgs failed to converge (status=2):\n",
      "ABNORMAL_TERMINATION_IN_LNSRCH.\n",
      "\n",
      "Increase the number of iterations (max_iter) or scale the data as shown in:\n",
      "    https://scikit-learn.org/stable/modules/preprocessing.html\n",
      "  _check_optimize_result(\"lbfgs\", opt_res)\n",
      "/home/kelvin/miniconda3/envs/umda/lib/python3.7/site-packages/sklearn/gaussian_process/kernels.py:418: ConvergenceWarning: The optimal value found for dimension 0 of parameter k1__k1__k1__constant_value is close to the specified upper bound 100000.0. Increasing the bound and calling fit again may find a better value.\n",
      "  ConvergenceWarning)\n",
      "/home/kelvin/miniconda3/envs/umda/lib/python3.7/site-packages/sklearn/gaussian_process/kernels.py:409: ConvergenceWarning: The optimal value found for dimension 0 of parameter k1__k1__k2__length_scale is close to the specified lower bound 0.1. Decreasing the bound and calling fit again may find a better value.\n",
      "  ConvergenceWarning)\n",
      "/home/kelvin/miniconda3/envs/umda/lib/python3.7/site-packages/sklearn/gaussian_process/kernels.py:418: ConvergenceWarning: The optimal value found for dimension 0 of parameter k1__k2__k2__constant_value is close to the specified upper bound 100000.0. Increasing the bound and calling fit again may find a better value.\n",
      "  ConvergenceWarning)\n",
      "/home/kelvin/miniconda3/envs/umda/lib/python3.7/site-packages/sklearn/gaussian_process/kernels.py:418: ConvergenceWarning: The optimal value found for dimension 0 of parameter k2__constant_value is close to the specified upper bound 100000.0. Increasing the bound and calling fit again may find a better value.\n",
      "  ConvergenceWarning)\n"
     ]
    }
   ],
   "source": [
    "# generalized workflow\n",
    "model_results = dict()\n",
    "best_models = dict()\n",
    "cv_results = dict()\n",
    "for name in models.keys():\n",
    "    model = models.get(name)\n",
    "    hparam = hparams.get(name)\n",
    "    cv_grid = cross_validation((tmc1_X, tmc1_y), model, hparam, seed)\n",
    "    print(f\"Model: {name} best CV score: {cv_grid.best_score_:.4e}\")\n",
    "    best_estimator, best_train, best_test, best_index, log = standardized_fit_test((tmc1_X, tmc1_y), model, cv_grid.best_params_, seed, n_splits=20)\n",
    "    model_results[name] = log\n",
    "    best_models[name] = best_estimator\n",
    "    cv_results[name] = cv_grid"
   ]
  },
  {
   "cell_type": "code",
   "execution_count": 611,
   "metadata": {},
   "outputs": [],
   "source": [
    "# export the cross-validation results\n",
    "for name in models.keys():\n",
    "    df = pd.DataFrame(cv_results[name].cv_results_)\n",
    "    keys = [\"mean_test_score\", \"rank_test_score\"]\n",
    "    keys.extend([key for key in df.keys() if \"param_\" in key])\n",
    "    df = df[keys]\n",
    "    # sort and reset the indices\n",
    "    df.sort_values(\"rank_test_score\", ascending=True, inplace=True)\n",
    "    df.reset_index(inplace=True, drop=True)\n",
    "    # dump to CSV file\n",
    "    if normalize:\n",
    "        flags = \"norm\"\n",
    "    else:\n",
    "        flags = \"unnorm\"\n",
    "    if mask:\n",
    "        flags += \"_mask\"\n",
    "    else:\n",
    "        flags += \"_nomask\"\n",
    "    df.to_csv(f\"outputs/grid_search/{name}_{flags}.csv\", index=False)"
   ]
  },
  {
   "cell_type": "code",
   "execution_count": 666,
   "metadata": {},
   "outputs": [
    {
     "output_type": "execute_result",
     "data": {
      "text/plain": [
       "{'regressor__kernel': 'rbf',\n",
       " 'regressor__gamma': 0.05,\n",
       " 'regressor__epsilon': 0.5,\n",
       " 'regressor__C': 50}"
      ]
     },
     "metadata": {},
     "execution_count": 666
    }
   ],
   "source": [
    "cv_results[\"svr\"].best_params_"
   ]
  },
  {
   "cell_type": "code",
   "execution_count": 669,
   "metadata": {},
   "outputs": [
    {
     "output_type": "execute_result",
     "data": {
      "text/plain": [
       "    train_error  test_error  combined_error        r2  \\\n",
       "19     0.847580    0.652768        0.807274  0.186440   \n",
       "16     0.848213    0.661877        0.809661  0.184035   \n",
       "0      0.882160    0.538300        0.811016  0.182669   \n",
       "13     0.868070    0.600848        0.812783  0.180889   \n",
       "1      0.801862    0.906220        0.823453  0.170135   \n",
       "7      0.844760    0.772525        0.829815  0.163724   \n",
       "4      0.908982    0.538758        0.832384  0.161135   \n",
       "15     0.845774    0.788861        0.833999  0.159507   \n",
       "6      0.835174    0.829693        0.834040  0.159466   \n",
       "18     0.841129    0.807617        0.834196  0.159309   \n",
       "10     0.865232    0.720988        0.835388  0.158107   \n",
       "2      0.760128    1.128229        0.836286  0.157202   \n",
       "5      0.930406    0.487711        0.838814  0.154655   \n",
       "14     0.763475    1.129371        0.839178  0.154288   \n",
       "9      0.815841    0.937469        0.841005  0.152446   \n",
       "17     0.792825    1.043433        0.844675  0.148748   \n",
       "12     0.857473    0.800724        0.845731  0.147684   \n",
       "3      0.802286    1.012709        0.845822  0.147592   \n",
       "11     0.785761    1.094206        0.849577  0.143808   \n",
       "8      0.824698    0.961799        0.853064  0.140294   \n",
       "\n",
       "                                          train_index  \\\n",
       "19  [27, 22, 76, 1, 7, 49, 8, 64, 86, 79, 26, 50, ...   \n",
       "16  [13, 86, 10, 54, 27, 60, 17, 52, 74, 43, 48, 1...   \n",
       "0   [48, 59, 11, 71, 38, 30, 56, 58, 3, 43, 29, 81...   \n",
       "13  [10, 75, 37, 43, 16, 25, 24, 1, 30, 11, 85, 20...   \n",
       "1   [10, 47, 79, 58, 23, 86, 21, 68, 32, 7, 60, 27...   \n",
       "7   [17, 3, 40, 70, 83, 53, 44, 21, 57, 20, 34, 36...   \n",
       "4   [74, 76, 52, 51, 6, 3, 30, 49, 16, 38, 41, 53,...   \n",
       "15  [24, 76, 15, 29, 39, 68, 63, 75, 27, 5, 74, 43...   \n",
       "6   [51, 45, 40, 70, 52, 72, 73, 38, 82, 53, 55, 6...   \n",
       "18  [48, 59, 41, 42, 7, 3, 53, 75, 39, 81, 52, 70,...   \n",
       "10  [1, 14, 75, 62, 0, 17, 59, 53, 36, 86, 32, 15,...   \n",
       "2   [52, 6, 21, 54, 16, 82, 67, 42, 59, 58, 18, 71...   \n",
       "5   [65, 5, 12, 6, 48, 28, 38, 22, 84, 17, 53, 3, ...   \n",
       "14  [80, 75, 30, 50, 73, 66, 42, 11, 9, 26, 43, 18...   \n",
       "9   [47, 45, 61, 27, 68, 64, 34, 62, 1, 14, 0, 26,...   \n",
       "17  [65, 15, 12, 6, 8, 58, 7, 57, 49, 59, 78, 76, ...   \n",
       "12  [44, 6, 10, 72, 68, 25, 41, 16, 3, 52, 37, 61,...   \n",
       "3   [59, 10, 31, 21, 37, 25, 23, 70, 42, 46, 82, 9...   \n",
       "11  [18, 58, 1, 69, 66, 50, 79, 57, 62, 20, 64, 13...   \n",
       "8   [48, 39, 16, 29, 32, 59, 10, 12, 82, 50, 51, 1...   \n",
       "\n",
       "                                           test_index  \n",
       "19  [10, 19, 71, 63, 84, 16, 32, 67, 20, 43, 57, 4...  \n",
       "16  [28, 75, 67, 11, 42, 64, 2, 8, 20, 83, 82, 80,...  \n",
       "0   [68, 32, 2, 69, 42, 60, 77, 0, 33, 84, 52, 15,...  \n",
       "13  [60, 26, 65, 83, 53, 23, 27, 32, 54, 21, 78, 5...  \n",
       "1   [70, 33, 36, 42, 4, 71, 69, 20, 19, 53, 26, 29...  \n",
       "7   [81, 8, 43, 75, 18, 61, 32, 64, 10, 84, 28, 29...  \n",
       "4   [71, 4, 77, 28, 73, 23, 83, 62, 34, 81, 46, 56...  \n",
       "15  [45, 19, 69, 1, 78, 31, 60, 44, 33, 72, 57, 12...  \n",
       "6   [19, 26, 11, 46, 76, 50, 22, 65, 15, 41, 47, 7...  \n",
       "18  [73, 0, 17, 6, 47, 2, 56, 68, 9, 78, 54, 5, 82...  \n",
       "10  [11, 51, 48, 25, 80, 20, 77, 3, 38, 78, 6, 61,...  \n",
       "2   [45, 20, 24, 29, 8, 63, 41, 65, 26, 28, 62, 76...  \n",
       "5   [74, 33, 21, 83, 51, 2, 62, 63, 1, 71, 27, 43,...  \n",
       "14  [29, 83, 15, 67, 74, 24, 17, 56, 82, 53, 31, 3...  \n",
       "9   [50, 39, 5, 18, 25, 31, 70, 54, 55, 20, 84, 7,...  \n",
       "17  [60, 14, 46, 36, 38, 22, 35, 80, 29, 28, 62, 2...  \n",
       "12  [80, 62, 9, 2, 69, 21, 67, 29, 23, 4, 43, 81, ...  \n",
       "3   [13, 64, 4, 52, 60, 14, 32, 20, 8, 76, 39, 86,...  \n",
       "11  [7, 30, 83, 21, 77, 31, 49, 28, 25, 48, 84, 11...  \n",
       "8   [71, 76, 80, 54, 66, 4, 62, 43, 46, 64, 45, 81...  "
      ],
      "text/html": "<div>\n<style scoped>\n    .dataframe tbody tr th:only-of-type {\n        vertical-align: middle;\n    }\n\n    .dataframe tbody tr th {\n        vertical-align: top;\n    }\n\n    .dataframe thead th {\n        text-align: right;\n    }\n</style>\n<table border=\"1\" class=\"dataframe\">\n  <thead>\n    <tr style=\"text-align: right;\">\n      <th></th>\n      <th>train_error</th>\n      <th>test_error</th>\n      <th>combined_error</th>\n      <th>r2</th>\n      <th>train_index</th>\n      <th>test_index</th>\n    </tr>\n  </thead>\n  <tbody>\n    <tr>\n      <th>19</th>\n      <td>0.847580</td>\n      <td>0.652768</td>\n      <td>0.807274</td>\n      <td>0.186440</td>\n      <td>[27, 22, 76, 1, 7, 49, 8, 64, 86, 79, 26, 50, ...</td>\n      <td>[10, 19, 71, 63, 84, 16, 32, 67, 20, 43, 57, 4...</td>\n    </tr>\n    <tr>\n      <th>16</th>\n      <td>0.848213</td>\n      <td>0.661877</td>\n      <td>0.809661</td>\n      <td>0.184035</td>\n      <td>[13, 86, 10, 54, 27, 60, 17, 52, 74, 43, 48, 1...</td>\n      <td>[28, 75, 67, 11, 42, 64, 2, 8, 20, 83, 82, 80,...</td>\n    </tr>\n    <tr>\n      <th>0</th>\n      <td>0.882160</td>\n      <td>0.538300</td>\n      <td>0.811016</td>\n      <td>0.182669</td>\n      <td>[48, 59, 11, 71, 38, 30, 56, 58, 3, 43, 29, 81...</td>\n      <td>[68, 32, 2, 69, 42, 60, 77, 0, 33, 84, 52, 15,...</td>\n    </tr>\n    <tr>\n      <th>13</th>\n      <td>0.868070</td>\n      <td>0.600848</td>\n      <td>0.812783</td>\n      <td>0.180889</td>\n      <td>[10, 75, 37, 43, 16, 25, 24, 1, 30, 11, 85, 20...</td>\n      <td>[60, 26, 65, 83, 53, 23, 27, 32, 54, 21, 78, 5...</td>\n    </tr>\n    <tr>\n      <th>1</th>\n      <td>0.801862</td>\n      <td>0.906220</td>\n      <td>0.823453</td>\n      <td>0.170135</td>\n      <td>[10, 47, 79, 58, 23, 86, 21, 68, 32, 7, 60, 27...</td>\n      <td>[70, 33, 36, 42, 4, 71, 69, 20, 19, 53, 26, 29...</td>\n    </tr>\n    <tr>\n      <th>7</th>\n      <td>0.844760</td>\n      <td>0.772525</td>\n      <td>0.829815</td>\n      <td>0.163724</td>\n      <td>[17, 3, 40, 70, 83, 53, 44, 21, 57, 20, 34, 36...</td>\n      <td>[81, 8, 43, 75, 18, 61, 32, 64, 10, 84, 28, 29...</td>\n    </tr>\n    <tr>\n      <th>4</th>\n      <td>0.908982</td>\n      <td>0.538758</td>\n      <td>0.832384</td>\n      <td>0.161135</td>\n      <td>[74, 76, 52, 51, 6, 3, 30, 49, 16, 38, 41, 53,...</td>\n      <td>[71, 4, 77, 28, 73, 23, 83, 62, 34, 81, 46, 56...</td>\n    </tr>\n    <tr>\n      <th>15</th>\n      <td>0.845774</td>\n      <td>0.788861</td>\n      <td>0.833999</td>\n      <td>0.159507</td>\n      <td>[24, 76, 15, 29, 39, 68, 63, 75, 27, 5, 74, 43...</td>\n      <td>[45, 19, 69, 1, 78, 31, 60, 44, 33, 72, 57, 12...</td>\n    </tr>\n    <tr>\n      <th>6</th>\n      <td>0.835174</td>\n      <td>0.829693</td>\n      <td>0.834040</td>\n      <td>0.159466</td>\n      <td>[51, 45, 40, 70, 52, 72, 73, 38, 82, 53, 55, 6...</td>\n      <td>[19, 26, 11, 46, 76, 50, 22, 65, 15, 41, 47, 7...</td>\n    </tr>\n    <tr>\n      <th>18</th>\n      <td>0.841129</td>\n      <td>0.807617</td>\n      <td>0.834196</td>\n      <td>0.159309</td>\n      <td>[48, 59, 41, 42, 7, 3, 53, 75, 39, 81, 52, 70,...</td>\n      <td>[73, 0, 17, 6, 47, 2, 56, 68, 9, 78, 54, 5, 82...</td>\n    </tr>\n    <tr>\n      <th>10</th>\n      <td>0.865232</td>\n      <td>0.720988</td>\n      <td>0.835388</td>\n      <td>0.158107</td>\n      <td>[1, 14, 75, 62, 0, 17, 59, 53, 36, 86, 32, 15,...</td>\n      <td>[11, 51, 48, 25, 80, 20, 77, 3, 38, 78, 6, 61,...</td>\n    </tr>\n    <tr>\n      <th>2</th>\n      <td>0.760128</td>\n      <td>1.128229</td>\n      <td>0.836286</td>\n      <td>0.157202</td>\n      <td>[52, 6, 21, 54, 16, 82, 67, 42, 59, 58, 18, 71...</td>\n      <td>[45, 20, 24, 29, 8, 63, 41, 65, 26, 28, 62, 76...</td>\n    </tr>\n    <tr>\n      <th>5</th>\n      <td>0.930406</td>\n      <td>0.487711</td>\n      <td>0.838814</td>\n      <td>0.154655</td>\n      <td>[65, 5, 12, 6, 48, 28, 38, 22, 84, 17, 53, 3, ...</td>\n      <td>[74, 33, 21, 83, 51, 2, 62, 63, 1, 71, 27, 43,...</td>\n    </tr>\n    <tr>\n      <th>14</th>\n      <td>0.763475</td>\n      <td>1.129371</td>\n      <td>0.839178</td>\n      <td>0.154288</td>\n      <td>[80, 75, 30, 50, 73, 66, 42, 11, 9, 26, 43, 18...</td>\n      <td>[29, 83, 15, 67, 74, 24, 17, 56, 82, 53, 31, 3...</td>\n    </tr>\n    <tr>\n      <th>9</th>\n      <td>0.815841</td>\n      <td>0.937469</td>\n      <td>0.841005</td>\n      <td>0.152446</td>\n      <td>[47, 45, 61, 27, 68, 64, 34, 62, 1, 14, 0, 26,...</td>\n      <td>[50, 39, 5, 18, 25, 31, 70, 54, 55, 20, 84, 7,...</td>\n    </tr>\n    <tr>\n      <th>17</th>\n      <td>0.792825</td>\n      <td>1.043433</td>\n      <td>0.844675</td>\n      <td>0.148748</td>\n      <td>[65, 15, 12, 6, 8, 58, 7, 57, 49, 59, 78, 76, ...</td>\n      <td>[60, 14, 46, 36, 38, 22, 35, 80, 29, 28, 62, 2...</td>\n    </tr>\n    <tr>\n      <th>12</th>\n      <td>0.857473</td>\n      <td>0.800724</td>\n      <td>0.845731</td>\n      <td>0.147684</td>\n      <td>[44, 6, 10, 72, 68, 25, 41, 16, 3, 52, 37, 61,...</td>\n      <td>[80, 62, 9, 2, 69, 21, 67, 29, 23, 4, 43, 81, ...</td>\n    </tr>\n    <tr>\n      <th>3</th>\n      <td>0.802286</td>\n      <td>1.012709</td>\n      <td>0.845822</td>\n      <td>0.147592</td>\n      <td>[59, 10, 31, 21, 37, 25, 23, 70, 42, 46, 82, 9...</td>\n      <td>[13, 64, 4, 52, 60, 14, 32, 20, 8, 76, 39, 86,...</td>\n    </tr>\n    <tr>\n      <th>11</th>\n      <td>0.785761</td>\n      <td>1.094206</td>\n      <td>0.849577</td>\n      <td>0.143808</td>\n      <td>[18, 58, 1, 69, 66, 50, 79, 57, 62, 20, 64, 13...</td>\n      <td>[7, 30, 83, 21, 77, 31, 49, 28, 25, 48, 84, 11...</td>\n    </tr>\n    <tr>\n      <th>8</th>\n      <td>0.824698</td>\n      <td>0.961799</td>\n      <td>0.853064</td>\n      <td>0.140294</td>\n      <td>[48, 39, 16, 29, 32, 59, 10, 12, 82, 50, 51, 1...</td>\n      <td>[71, 76, 80, 54, 66, 4, 62, 43, 46, 64, 45, 81...</td>\n    </tr>\n  </tbody>\n</table>\n</div>"
     },
     "metadata": {},
     "execution_count": 669
    }
   ],
   "source": [
    "pd.DataFrame(model_results[\"svr\"]).sort_values([\"r2\", \"combined_error\"], ascending=[False, True])"
   ]
  },
  {
   "cell_type": "code",
   "execution_count": 670,
   "metadata": {},
   "outputs": [
    {
     "output_type": "execute_result",
     "data": {
      "text/plain": [
       "[(10.0, 15.0), (10.0, 15.0)]"
      ]
     },
     "metadata": {},
     "execution_count": 670
    },
    {
     "output_type": "display_data",
     "data": {
      "text/plain": "<Figure size 288x288 with 1 Axes>",
      "image/svg+xml": "<?xml version=\"1.0\" encoding=\"utf-8\" standalone=\"no\"?>\n<!DOCTYPE svg PUBLIC \"-//W3C//DTD SVG 1.1//EN\"\n  \"http://www.w3.org/Graphics/SVG/1.1/DTD/svg11.dtd\">\n<!-- Created with matplotlib (https://matplotlib.org/) -->\n<svg height=\"252.317344pt\" version=\"1.1\" viewBox=\"0 0 263.6875 252.317344\" width=\"263.6875pt\" xmlns=\"http://www.w3.org/2000/svg\" xmlns:xlink=\"http://www.w3.org/1999/xlink\">\n <metadata>\n  <rdf:RDF xmlns:cc=\"http://creativecommons.org/ns#\" xmlns:dc=\"http://purl.org/dc/elements/1.1/\" xmlns:rdf=\"http://www.w3.org/1999/02/22-rdf-syntax-ns#\">\n   <cc:Work>\n    <dc:type rdf:resource=\"http://purl.org/dc/dcmitype/StillImage\"/>\n    <dc:date>2021-06-09T16:50:58.262941</dc:date>\n    <dc:format>image/svg+xml</dc:format>\n    <dc:creator>\n     <cc:Agent>\n      <dc:title>Matplotlib v3.3.4, https://matplotlib.org/</dc:title>\n     </cc:Agent>\n    </dc:creator>\n   </cc:Work>\n  </rdf:RDF>\n </metadata>\n <defs>\n  <style type=\"text/css\">*{stroke-linecap:butt;stroke-linejoin:round;}</style>\n </defs>\n <g id=\"figure_1\">\n  <g id=\"patch_1\">\n   <path d=\"M 0 252.317344 \nL 263.6875 252.317344 \nL 263.6875 0 \nL 0 0 \nz\n\" style=\"fill:none;\"/>\n  </g>\n  <g id=\"axes_1\">\n   <g id=\"patch_2\">\n    <path d=\"M 26.925 228.439219 \nL 250.125 228.439219 \nL 250.125 10.999219 \nL 26.925 10.999219 \nz\n\" style=\"fill:#ffffff;\"/>\n   </g>\n   <g id=\"PathCollection_1\">\n    <defs>\n     <path d=\"M 0 3 \nC 0.795609 3 1.55874 2.683901 2.12132 2.12132 \nC 2.683901 1.55874 3 0.795609 3 0 \nC 3 -0.795609 2.683901 -1.55874 2.12132 -2.12132 \nC 1.55874 -2.683901 0.795609 -3 0 -3 \nC -0.795609 -3 -1.55874 -2.683901 -2.12132 -2.12132 \nC -2.683901 -1.55874 -3 -0.795609 -3 0 \nC -3 0.795609 -2.683901 1.55874 -2.12132 2.12132 \nC -1.55874 2.683901 -0.795609 3 0 3 \nz\n\" id=\"me0ffc38906\" style=\"stroke:#1f77b4;\"/>\n    </defs>\n    <g clip-path=\"url(#pbe2f776eaf)\">\n     <use style=\"fill:#1f77b4;stroke:#1f77b4;\" x=\"138.139386\" xlink:href=\"#me0ffc38906\" y=\"134.485095\"/>\n     <use style=\"fill:#1f77b4;stroke:#1f77b4;\" x=\"182.143693\" xlink:href=\"#me0ffc38906\" y=\"128.114038\"/>\n     <use style=\"fill:#1f77b4;stroke:#1f77b4;\" x=\"112.824827\" xlink:href=\"#me0ffc38906\" y=\"142.290292\"/>\n     <use style=\"fill:#1f77b4;stroke:#1f77b4;\" x=\"127.600365\" xlink:href=\"#me0ffc38906\" y=\"137.767997\"/>\n     <use style=\"fill:#1f77b4;stroke:#1f77b4;\" x=\"147.407021\" xlink:href=\"#me0ffc38906\" y=\"109.631723\"/>\n     <use style=\"fill:#1f77b4;stroke:#1f77b4;\" x=\"236.725756\" xlink:href=\"#me0ffc38906\" y=\"101.064593\"/>\n     <use style=\"fill:#1f77b4;stroke:#1f77b4;\" x=\"168.048468\" xlink:href=\"#me0ffc38906\" y=\"101.621209\"/>\n     <use style=\"fill:#1f77b4;stroke:#1f77b4;\" x=\"182.27251\" xlink:href=\"#me0ffc38906\" y=\"100.107597\"/>\n     <use style=\"fill:#1f77b4;stroke:#1f77b4;\" x=\"149.673229\" xlink:href=\"#me0ffc38906\" y=\"123.843054\"/>\n     <use style=\"fill:#1f77b4;stroke:#1f77b4;\" x=\"172.876058\" xlink:href=\"#me0ffc38906\" y=\"102.647984\"/>\n     <use style=\"fill:#1f77b4;stroke:#1f77b4;\" x=\"105.942947\" xlink:href=\"#me0ffc38906\" y=\"101.008329\"/>\n     <use style=\"fill:#1f77b4;stroke:#1f77b4;\" x=\"133.969042\" xlink:href=\"#me0ffc38906\" y=\"113.21767\"/>\n     <use style=\"fill:#1f77b4;stroke:#1f77b4;\" x=\"208.194552\" xlink:href=\"#me0ffc38906\" y=\"113.00419\"/>\n     <use style=\"fill:#1f77b4;stroke:#1f77b4;\" x=\"141.674037\" xlink:href=\"#me0ffc38906\" y=\"120.460213\"/>\n     <use style=\"fill:#1f77b4;stroke:#1f77b4;\" x=\"186.72654\" xlink:href=\"#me0ffc38906\" y=\"123.673035\"/>\n     <use style=\"fill:#1f77b4;stroke:#1f77b4;\" x=\"143.417294\" xlink:href=\"#me0ffc38906\" y=\"125.172989\"/>\n     <use style=\"fill:#1f77b4;stroke:#1f77b4;\" x=\"162.156692\" xlink:href=\"#me0ffc38906\" y=\"122.22699\"/>\n     <use style=\"fill:#1f77b4;stroke:#1f77b4;\" x=\"181.352281\" xlink:href=\"#me0ffc38906\" y=\"108.887034\"/>\n     <use style=\"fill:#1f77b4;stroke:#1f77b4;\" x=\"135.389142\" xlink:href=\"#me0ffc38906\" y=\"115.057463\"/>\n     <use style=\"fill:#1f77b4;stroke:#1f77b4;\" x=\"150.116573\" xlink:href=\"#me0ffc38906\" y=\"103.62683\"/>\n     <use style=\"fill:#1f77b4;stroke:#1f77b4;\" x=\"188.527873\" xlink:href=\"#me0ffc38906\" y=\"101.845308\"/>\n     <use style=\"fill:#1f77b4;stroke:#1f77b4;\" x=\"190.764775\" xlink:href=\"#me0ffc38906\" y=\"101.045254\"/>\n     <use style=\"fill:#1f77b4;stroke:#1f77b4;\" x=\"180.029142\" xlink:href=\"#me0ffc38906\" y=\"120.248027\"/>\n     <use style=\"fill:#1f77b4;stroke:#1f77b4;\" x=\"175.864563\" xlink:href=\"#me0ffc38906\" y=\"126.082502\"/>\n     <use style=\"fill:#1f77b4;stroke:#1f77b4;\" x=\"185.407194\" xlink:href=\"#me0ffc38906\" y=\"129.911693\"/>\n     <use style=\"fill:#1f77b4;stroke:#1f77b4;\" x=\"101.935177\" xlink:href=\"#me0ffc38906\" y=\"141.960367\"/>\n     <use style=\"fill:#1f77b4;stroke:#1f77b4;\" x=\"112.639305\" xlink:href=\"#me0ffc38906\" y=\"120.279162\"/>\n     <use style=\"fill:#1f77b4;stroke:#1f77b4;\" x=\"110.393685\" xlink:href=\"#me0ffc38906\" y=\"131.681298\"/>\n     <use style=\"fill:#1f77b4;stroke:#1f77b4;\" x=\"152.37378\" xlink:href=\"#me0ffc38906\" y=\"144.228555\"/>\n     <use style=\"fill:#1f77b4;stroke:#1f77b4;\" x=\"83.174587\" xlink:href=\"#me0ffc38906\" y=\"133.737679\"/>\n     <use style=\"fill:#1f77b4;stroke:#1f77b4;\" x=\"205.868912\" xlink:href=\"#me0ffc38906\" y=\"128.734002\"/>\n     <use style=\"fill:#1f77b4;stroke:#1f77b4;\" x=\"172.454587\" xlink:href=\"#me0ffc38906\" y=\"119.24564\"/>\n     <use style=\"fill:#1f77b4;stroke:#1f77b4;\" x=\"128.236058\" xlink:href=\"#me0ffc38906\" y=\"146.512863\"/>\n     <use style=\"fill:#1f77b4;stroke:#1f77b4;\" x=\"167.089202\" xlink:href=\"#me0ffc38906\" y=\"137.811228\"/>\n     <use style=\"fill:#1f77b4;stroke:#1f77b4;\" x=\"149.25479\" xlink:href=\"#me0ffc38906\" y=\"137.685053\"/>\n     <use style=\"fill:#1f77b4;stroke:#1f77b4;\" x=\"216.334218\" xlink:href=\"#me0ffc38906\" y=\"136.658261\"/>\n     <use style=\"fill:#1f77b4;stroke:#1f77b4;\" x=\"142.188309\" xlink:href=\"#me0ffc38906\" y=\"134.074804\"/>\n     <use style=\"fill:#1f77b4;stroke:#1f77b4;\" x=\"197.692022\" xlink:href=\"#me0ffc38906\" y=\"146.136846\"/>\n     <use style=\"fill:#1f77b4;stroke:#1f77b4;\" x=\"94.652625\" xlink:href=\"#me0ffc38906\" y=\"152.457897\"/>\n     <use style=\"fill:#1f77b4;stroke:#1f77b4;\" x=\"185.945753\" xlink:href=\"#me0ffc38906\" y=\"141.265852\"/>\n     <use style=\"fill:#1f77b4;stroke:#1f77b4;\" x=\"98.633864\" xlink:href=\"#me0ffc38906\" y=\"157.326915\"/>\n     <use style=\"fill:#1f77b4;stroke:#1f77b4;\" x=\"175.775015\" xlink:href=\"#me0ffc38906\" y=\"127.007584\"/>\n     <use style=\"fill:#1f77b4;stroke:#1f77b4;\" x=\"116.965368\" xlink:href=\"#me0ffc38906\" y=\"111.994362\"/>\n     <use style=\"fill:#1f77b4;stroke:#1f77b4;\" x=\"112.592646\" xlink:href=\"#me0ffc38906\" y=\"134.821089\"/>\n     <use style=\"fill:#1f77b4;stroke:#1f77b4;\" x=\"84.008561\" xlink:href=\"#me0ffc38906\" y=\"137.567114\"/>\n     <use style=\"fill:#1f77b4;stroke:#1f77b4;\" x=\"110.236067\" xlink:href=\"#me0ffc38906\" y=\"136.806529\"/>\n     <use style=\"fill:#1f77b4;stroke:#1f77b4;\" x=\"109.428162\" xlink:href=\"#me0ffc38906\" y=\"137.913856\"/>\n     <use style=\"fill:#1f77b4;stroke:#1f77b4;\" x=\"126.831378\" xlink:href=\"#me0ffc38906\" y=\"135.459872\"/>\n     <use style=\"fill:#1f77b4;stroke:#1f77b4;\" x=\"114.60955\" xlink:href=\"#me0ffc38906\" y=\"138.668693\"/>\n     <use style=\"fill:#1f77b4;stroke:#1f77b4;\" x=\"88.858082\" xlink:href=\"#me0ffc38906\" y=\"162.647494\"/>\n     <use style=\"fill:#1f77b4;stroke:#1f77b4;\" x=\"74.773813\" xlink:href=\"#me0ffc38906\" y=\"157.09375\"/>\n     <use style=\"fill:#1f77b4;stroke:#1f77b4;\" x=\"85.099672\" xlink:href=\"#me0ffc38906\" y=\"162.647494\"/>\n     <use style=\"fill:#1f77b4;stroke:#1f77b4;\" x=\"101.15051\" xlink:href=\"#me0ffc38906\" y=\"142.020135\"/>\n     <use style=\"fill:#1f77b4;stroke:#1f77b4;\" x=\"41.308869\" xlink:href=\"#me0ffc38906\" y=\"148.576003\"/>\n     <use style=\"fill:#1f77b4;stroke:#1f77b4;\" x=\"75.099651\" xlink:href=\"#me0ffc38906\" y=\"151.434113\"/>\n     <use style=\"fill:#1f77b4;stroke:#1f77b4;\" x=\"68.414261\" xlink:href=\"#me0ffc38906\" y=\"139.123411\"/>\n     <use style=\"fill:#1f77b4;stroke:#1f77b4;\" x=\"147.980075\" xlink:href=\"#me0ffc38906\" y=\"122.980021\"/>\n     <use style=\"fill:#1f77b4;stroke:#1f77b4;\" x=\"155.928427\" xlink:href=\"#me0ffc38906\" y=\"104.853161\"/>\n     <use style=\"fill:#1f77b4;stroke:#1f77b4;\" x=\"143.887873\" xlink:href=\"#me0ffc38906\" y=\"110.136945\"/>\n     <use style=\"fill:#1f77b4;stroke:#1f77b4;\" x=\"111.388103\" xlink:href=\"#me0ffc38906\" y=\"149.048643\"/>\n     <use style=\"fill:#1f77b4;stroke:#1f77b4;\" x=\"126.49224\" xlink:href=\"#me0ffc38906\" y=\"144.050602\"/>\n     <use style=\"fill:#1f77b4;stroke:#1f77b4;\" x=\"79.425714\" xlink:href=\"#me0ffc38906\" y=\"107.62021\"/>\n     <use style=\"fill:#1f77b4;stroke:#1f77b4;\" x=\"164.379651\" xlink:href=\"#me0ffc38906\" y=\"104.533905\"/>\n     <use style=\"fill:#1f77b4;stroke:#1f77b4;\" x=\"85.948869\" xlink:href=\"#me0ffc38906\" y=\"134.103637\"/>\n     <use style=\"fill:#1f77b4;stroke:#1f77b4;\" x=\"98.440958\" xlink:href=\"#me0ffc38906\" y=\"118.642486\"/>\n     <use style=\"fill:#1f77b4;stroke:#1f77b4;\" x=\"92.863693\" xlink:href=\"#me0ffc38906\" y=\"104.087002\"/>\n     <use style=\"fill:#1f77b4;stroke:#1f77b4;\" x=\"53.800958\" xlink:href=\"#me0ffc38906\" y=\"123.144231\"/>\n     <use style=\"fill:#1f77b4;stroke:#1f77b4;\" x=\"64.650177\" xlink:href=\"#me0ffc38906\" y=\"107.365243\"/>\n     <use style=\"fill:#1f77b4;stroke:#1f77b4;\" x=\"73.412769\" xlink:href=\"#me0ffc38906\" y=\"124.522243\"/>\n     <use style=\"fill:#1f77b4;stroke:#1f77b4;\" x=\"75.099651\" xlink:href=\"#me0ffc38906\" y=\"133.780293\"/>\n     <use style=\"fill:#1f77b4;stroke:#1f77b4;\" x=\"122.728156\" xlink:href=\"#me0ffc38906\" y=\"118.106744\"/>\n     <use style=\"fill:#1f77b4;stroke:#1f77b4;\" x=\"116.205\" xlink:href=\"#me0ffc38906\" y=\"119.852787\"/>\n     <use style=\"fill:#1f77b4;stroke:#1f77b4;\" x=\"85.002979\" xlink:href=\"#me0ffc38906\" y=\"129.539269\"/>\n     <use style=\"fill:#1f77b4;stroke:#1f77b4;\" x=\"92.863693\" xlink:href=\"#me0ffc38906\" y=\"140.531268\"/>\n     <use style=\"fill:#1f77b4;stroke:#1f77b4;\" x=\"73.412769\" xlink:href=\"#me0ffc38906\" y=\"139.832633\"/>\n     <use style=\"fill:#1f77b4;stroke:#1f77b4;\" x=\"98.440958\" xlink:href=\"#me0ffc38906\" y=\"104.783454\"/>\n     <use style=\"fill:#1f77b4;stroke:#1f77b4;\" x=\"212.008156\" xlink:href=\"#me0ffc38906\" y=\"97.514625\"/>\n     <use style=\"fill:#1f77b4;stroke:#1f77b4;\" x=\"114.162386\" xlink:href=\"#me0ffc38906\" y=\"129.445492\"/>\n     <use style=\"fill:#1f77b4;stroke:#1f77b4;\" x=\"68.641011\" xlink:href=\"#me0ffc38906\" y=\"140.804099\"/>\n     <use style=\"fill:#1f77b4;stroke:#1f77b4;\" x=\"41.583865\" xlink:href=\"#me0ffc38906\" y=\"150.001122\"/>\n     <use style=\"fill:#1f77b4;stroke:#1f77b4;\" x=\"187.720958\" xlink:href=\"#me0ffc38906\" y=\"116.655573\"/>\n     <use style=\"fill:#1f77b4;stroke:#1f77b4;\" x=\"100.724407\" xlink:href=\"#me0ffc38906\" y=\"155.701092\"/>\n     <use style=\"fill:#1f77b4;stroke:#1f77b4;\" x=\"133.577374\" xlink:href=\"#me0ffc38906\" y=\"110.880185\"/>\n     <use style=\"fill:#1f77b4;stroke:#1f77b4;\" x=\"160.053588\" xlink:href=\"#me0ffc38906\" y=\"119.331769\"/>\n     <use style=\"fill:#1f77b4;stroke:#1f77b4;\" x=\"164.379651\" xlink:href=\"#me0ffc38906\" y=\"136.07147\"/>\n     <use style=\"fill:#1f77b4;stroke:#1f77b4;\" x=\"100.288727\" xlink:href=\"#me0ffc38906\" y=\"125.491647\"/>\n     <use style=\"fill:#1f77b4;stroke:#1f77b4;\" x=\"73.412769\" xlink:href=\"#me0ffc38906\" y=\"129.576656\"/>\n    </g>\n   </g>\n   <g id=\"matplotlib.axis_1\">\n    <g id=\"xtick_1\">\n     <g id=\"line2d_1\">\n      <defs>\n       <path d=\"M 0 0 \nL 0 3.5 \n\" id=\"m0b65272dde\" style=\"stroke:#000000;stroke-width:0.8;\"/>\n      </defs>\n      <g>\n       <use style=\"stroke:#000000;stroke-width:0.8;\" x=\"26.925\" xlink:href=\"#m0b65272dde\" y=\"228.439219\"/>\n      </g>\n     </g>\n     <g id=\"text_1\">\n      <!-- 10 -->\n      <g transform=\"translate(20.5625 243.037656)scale(0.1 -0.1)\">\n       <defs>\n        <path d=\"M 12.40625 8.296875 \nL 28.515625 8.296875 \nL 28.515625 63.921875 \nL 10.984375 60.40625 \nL 10.984375 69.390625 \nL 28.421875 72.90625 \nL 38.28125 72.90625 \nL 38.28125 8.296875 \nL 54.390625 8.296875 \nL 54.390625 0 \nL 12.40625 0 \nz\n\" id=\"DejaVuSans-49\"/>\n        <path d=\"M 31.78125 66.40625 \nQ 24.171875 66.40625 20.328125 58.90625 \nQ 16.5 51.421875 16.5 36.375 \nQ 16.5 21.390625 20.328125 13.890625 \nQ 24.171875 6.390625 31.78125 6.390625 \nQ 39.453125 6.390625 43.28125 13.890625 \nQ 47.125 21.390625 47.125 36.375 \nQ 47.125 51.421875 43.28125 58.90625 \nQ 39.453125 66.40625 31.78125 66.40625 \nz\nM 31.78125 74.21875 \nQ 44.046875 74.21875 50.515625 64.515625 \nQ 56.984375 54.828125 56.984375 36.375 \nQ 56.984375 17.96875 50.515625 8.265625 \nQ 44.046875 -1.421875 31.78125 -1.421875 \nQ 19.53125 -1.421875 13.0625 8.265625 \nQ 6.59375 17.96875 6.59375 36.375 \nQ 6.59375 54.828125 13.0625 64.515625 \nQ 19.53125 74.21875 31.78125 74.21875 \nz\n\" id=\"DejaVuSans-48\"/>\n       </defs>\n       <use xlink:href=\"#DejaVuSans-49\"/>\n       <use x=\"63.623047\" xlink:href=\"#DejaVuSans-48\"/>\n      </g>\n     </g>\n    </g>\n    <g id=\"xtick_2\">\n     <g id=\"line2d_2\">\n      <g>\n       <use style=\"stroke:#000000;stroke-width:0.8;\" x=\"71.565\" xlink:href=\"#m0b65272dde\" y=\"228.439219\"/>\n      </g>\n     </g>\n     <g id=\"text_2\">\n      <!-- 11 -->\n      <g transform=\"translate(65.2025 243.037656)scale(0.1 -0.1)\">\n       <use xlink:href=\"#DejaVuSans-49\"/>\n       <use x=\"63.623047\" xlink:href=\"#DejaVuSans-49\"/>\n      </g>\n     </g>\n    </g>\n    <g id=\"xtick_3\">\n     <g id=\"line2d_3\">\n      <g>\n       <use style=\"stroke:#000000;stroke-width:0.8;\" x=\"116.205\" xlink:href=\"#m0b65272dde\" y=\"228.439219\"/>\n      </g>\n     </g>\n     <g id=\"text_3\">\n      <!-- 12 -->\n      <g transform=\"translate(109.8425 243.037656)scale(0.1 -0.1)\">\n       <defs>\n        <path d=\"M 19.1875 8.296875 \nL 53.609375 8.296875 \nL 53.609375 0 \nL 7.328125 0 \nL 7.328125 8.296875 \nQ 12.9375 14.109375 22.625 23.890625 \nQ 32.328125 33.6875 34.8125 36.53125 \nQ 39.546875 41.84375 41.421875 45.53125 \nQ 43.3125 49.21875 43.3125 52.78125 \nQ 43.3125 58.59375 39.234375 62.25 \nQ 35.15625 65.921875 28.609375 65.921875 \nQ 23.96875 65.921875 18.8125 64.3125 \nQ 13.671875 62.703125 7.8125 59.421875 \nL 7.8125 69.390625 \nQ 13.765625 71.78125 18.9375 73 \nQ 24.125 74.21875 28.421875 74.21875 \nQ 39.75 74.21875 46.484375 68.546875 \nQ 53.21875 62.890625 53.21875 53.421875 \nQ 53.21875 48.921875 51.53125 44.890625 \nQ 49.859375 40.875 45.40625 35.40625 \nQ 44.1875 33.984375 37.640625 27.21875 \nQ 31.109375 20.453125 19.1875 8.296875 \nz\n\" id=\"DejaVuSans-50\"/>\n       </defs>\n       <use xlink:href=\"#DejaVuSans-49\"/>\n       <use x=\"63.623047\" xlink:href=\"#DejaVuSans-50\"/>\n      </g>\n     </g>\n    </g>\n    <g id=\"xtick_4\">\n     <g id=\"line2d_4\">\n      <g>\n       <use style=\"stroke:#000000;stroke-width:0.8;\" x=\"160.845\" xlink:href=\"#m0b65272dde\" y=\"228.439219\"/>\n      </g>\n     </g>\n     <g id=\"text_4\">\n      <!-- 13 -->\n      <g transform=\"translate(154.4825 243.037656)scale(0.1 -0.1)\">\n       <defs>\n        <path d=\"M 40.578125 39.3125 \nQ 47.65625 37.796875 51.625 33 \nQ 55.609375 28.21875 55.609375 21.1875 \nQ 55.609375 10.40625 48.1875 4.484375 \nQ 40.765625 -1.421875 27.09375 -1.421875 \nQ 22.515625 -1.421875 17.65625 -0.515625 \nQ 12.796875 0.390625 7.625 2.203125 \nL 7.625 11.71875 \nQ 11.71875 9.328125 16.59375 8.109375 \nQ 21.484375 6.890625 26.8125 6.890625 \nQ 36.078125 6.890625 40.9375 10.546875 \nQ 45.796875 14.203125 45.796875 21.1875 \nQ 45.796875 27.640625 41.28125 31.265625 \nQ 36.765625 34.90625 28.71875 34.90625 \nL 20.21875 34.90625 \nL 20.21875 43.015625 \nL 29.109375 43.015625 \nQ 36.375 43.015625 40.234375 45.921875 \nQ 44.09375 48.828125 44.09375 54.296875 \nQ 44.09375 59.90625 40.109375 62.90625 \nQ 36.140625 65.921875 28.71875 65.921875 \nQ 24.65625 65.921875 20.015625 65.03125 \nQ 15.375 64.15625 9.8125 62.3125 \nL 9.8125 71.09375 \nQ 15.4375 72.65625 20.34375 73.4375 \nQ 25.25 74.21875 29.59375 74.21875 \nQ 40.828125 74.21875 47.359375 69.109375 \nQ 53.90625 64.015625 53.90625 55.328125 \nQ 53.90625 49.265625 50.4375 45.09375 \nQ 46.96875 40.921875 40.578125 39.3125 \nz\n\" id=\"DejaVuSans-51\"/>\n       </defs>\n       <use xlink:href=\"#DejaVuSans-49\"/>\n       <use x=\"63.623047\" xlink:href=\"#DejaVuSans-51\"/>\n      </g>\n     </g>\n    </g>\n    <g id=\"xtick_5\">\n     <g id=\"line2d_5\">\n      <g>\n       <use style=\"stroke:#000000;stroke-width:0.8;\" x=\"205.485\" xlink:href=\"#m0b65272dde\" y=\"228.439219\"/>\n      </g>\n     </g>\n     <g id=\"text_5\">\n      <!-- 14 -->\n      <g transform=\"translate(199.1225 243.037656)scale(0.1 -0.1)\">\n       <defs>\n        <path d=\"M 37.796875 64.3125 \nL 12.890625 25.390625 \nL 37.796875 25.390625 \nz\nM 35.203125 72.90625 \nL 47.609375 72.90625 \nL 47.609375 25.390625 \nL 58.015625 25.390625 \nL 58.015625 17.1875 \nL 47.609375 17.1875 \nL 47.609375 0 \nL 37.796875 0 \nL 37.796875 17.1875 \nL 4.890625 17.1875 \nL 4.890625 26.703125 \nz\n\" id=\"DejaVuSans-52\"/>\n       </defs>\n       <use xlink:href=\"#DejaVuSans-49\"/>\n       <use x=\"63.623047\" xlink:href=\"#DejaVuSans-52\"/>\n      </g>\n     </g>\n    </g>\n    <g id=\"xtick_6\">\n     <g id=\"line2d_6\">\n      <g>\n       <use style=\"stroke:#000000;stroke-width:0.8;\" x=\"250.125\" xlink:href=\"#m0b65272dde\" y=\"228.439219\"/>\n      </g>\n     </g>\n     <g id=\"text_6\">\n      <!-- 15 -->\n      <g transform=\"translate(243.7625 243.037656)scale(0.1 -0.1)\">\n       <defs>\n        <path d=\"M 10.796875 72.90625 \nL 49.515625 72.90625 \nL 49.515625 64.59375 \nL 19.828125 64.59375 \nL 19.828125 46.734375 \nQ 21.96875 47.46875 24.109375 47.828125 \nQ 26.265625 48.1875 28.421875 48.1875 \nQ 40.625 48.1875 47.75 41.5 \nQ 54.890625 34.8125 54.890625 23.390625 \nQ 54.890625 11.625 47.5625 5.09375 \nQ 40.234375 -1.421875 26.90625 -1.421875 \nQ 22.3125 -1.421875 17.546875 -0.640625 \nQ 12.796875 0.140625 7.71875 1.703125 \nL 7.71875 11.625 \nQ 12.109375 9.234375 16.796875 8.0625 \nQ 21.484375 6.890625 26.703125 6.890625 \nQ 35.15625 6.890625 40.078125 11.328125 \nQ 45.015625 15.765625 45.015625 23.390625 \nQ 45.015625 31 40.078125 35.4375 \nQ 35.15625 39.890625 26.703125 39.890625 \nQ 22.75 39.890625 18.8125 39.015625 \nQ 14.890625 38.140625 10.796875 36.28125 \nz\n\" id=\"DejaVuSans-53\"/>\n       </defs>\n       <use xlink:href=\"#DejaVuSans-49\"/>\n       <use x=\"63.623047\" xlink:href=\"#DejaVuSans-53\"/>\n      </g>\n     </g>\n    </g>\n   </g>\n   <g id=\"matplotlib.axis_2\">\n    <g id=\"ytick_1\">\n     <g id=\"line2d_7\">\n      <defs>\n       <path d=\"M 0 0 \nL -3.5 0 \n\" id=\"m6100a5a9b9\" style=\"stroke:#000000;stroke-width:0.8;\"/>\n      </defs>\n      <g>\n       <use style=\"stroke:#000000;stroke-width:0.8;\" x=\"26.925\" xlink:href=\"#m6100a5a9b9\" y=\"228.439219\"/>\n      </g>\n     </g>\n     <g id=\"text_7\">\n      <!-- 10 -->\n      <g transform=\"translate(7.2 232.238437)scale(0.1 -0.1)\">\n       <use xlink:href=\"#DejaVuSans-49\"/>\n       <use x=\"63.623047\" xlink:href=\"#DejaVuSans-48\"/>\n      </g>\n     </g>\n    </g>\n    <g id=\"ytick_2\">\n     <g id=\"line2d_8\">\n      <g>\n       <use style=\"stroke:#000000;stroke-width:0.8;\" x=\"26.925\" xlink:href=\"#m6100a5a9b9\" y=\"184.951219\"/>\n      </g>\n     </g>\n     <g id=\"text_8\">\n      <!-- 11 -->\n      <g transform=\"translate(7.2 188.750437)scale(0.1 -0.1)\">\n       <use xlink:href=\"#DejaVuSans-49\"/>\n       <use x=\"63.623047\" xlink:href=\"#DejaVuSans-49\"/>\n      </g>\n     </g>\n    </g>\n    <g id=\"ytick_3\">\n     <g id=\"line2d_9\">\n      <g>\n       <use style=\"stroke:#000000;stroke-width:0.8;\" x=\"26.925\" xlink:href=\"#m6100a5a9b9\" y=\"141.463219\"/>\n      </g>\n     </g>\n     <g id=\"text_9\">\n      <!-- 12 -->\n      <g transform=\"translate(7.2 145.262437)scale(0.1 -0.1)\">\n       <use xlink:href=\"#DejaVuSans-49\"/>\n       <use x=\"63.623047\" xlink:href=\"#DejaVuSans-50\"/>\n      </g>\n     </g>\n    </g>\n    <g id=\"ytick_4\">\n     <g id=\"line2d_10\">\n      <g>\n       <use style=\"stroke:#000000;stroke-width:0.8;\" x=\"26.925\" xlink:href=\"#m6100a5a9b9\" y=\"97.975219\"/>\n      </g>\n     </g>\n     <g id=\"text_10\">\n      <!-- 13 -->\n      <g transform=\"translate(7.2 101.774437)scale(0.1 -0.1)\">\n       <use xlink:href=\"#DejaVuSans-49\"/>\n       <use x=\"63.623047\" xlink:href=\"#DejaVuSans-51\"/>\n      </g>\n     </g>\n    </g>\n    <g id=\"ytick_5\">\n     <g id=\"line2d_11\">\n      <g>\n       <use style=\"stroke:#000000;stroke-width:0.8;\" x=\"26.925\" xlink:href=\"#m6100a5a9b9\" y=\"54.487219\"/>\n      </g>\n     </g>\n     <g id=\"text_11\">\n      <!-- 14 -->\n      <g transform=\"translate(7.2 58.286437)scale(0.1 -0.1)\">\n       <use xlink:href=\"#DejaVuSans-49\"/>\n       <use x=\"63.623047\" xlink:href=\"#DejaVuSans-52\"/>\n      </g>\n     </g>\n    </g>\n    <g id=\"ytick_6\">\n     <g id=\"line2d_12\">\n      <g>\n       <use style=\"stroke:#000000;stroke-width:0.8;\" x=\"26.925\" xlink:href=\"#m6100a5a9b9\" y=\"10.999219\"/>\n      </g>\n     </g>\n     <g id=\"text_12\">\n      <!-- 15 -->\n      <g transform=\"translate(7.2 14.798437)scale(0.1 -0.1)\">\n       <use xlink:href=\"#DejaVuSans-49\"/>\n       <use x=\"63.623047\" xlink:href=\"#DejaVuSans-53\"/>\n      </g>\n     </g>\n    </g>\n   </g>\n   <g id=\"patch_3\">\n    <path d=\"M 26.925 228.439219 \nL 26.925 10.999219 \n\" style=\"fill:none;stroke:#000000;stroke-linecap:square;stroke-linejoin:miter;stroke-width:0.8;\"/>\n   </g>\n   <g id=\"patch_4\">\n    <path d=\"M 250.125 228.439219 \nL 250.125 10.999219 \n\" style=\"fill:none;stroke:#000000;stroke-linecap:square;stroke-linejoin:miter;stroke-width:0.8;\"/>\n   </g>\n   <g id=\"patch_5\">\n    <path d=\"M 26.925 228.439219 \nL 250.125 228.439219 \n\" style=\"fill:none;stroke:#000000;stroke-linecap:square;stroke-linejoin:miter;stroke-width:0.8;\"/>\n   </g>\n   <g id=\"patch_6\">\n    <path d=\"M 26.925 10.999219 \nL 250.125 10.999219 \n\" style=\"fill:none;stroke:#000000;stroke-linecap:square;stroke-linejoin:miter;stroke-width:0.8;\"/>\n   </g>\n  </g>\n </g>\n <defs>\n  <clipPath id=\"pbe2f776eaf\">\n   <rect height=\"217.44\" width=\"223.2\" x=\"26.925\" y=\"10.999219\"/>\n  </clipPath>\n </defs>\n</svg>\n",
      "image/png": "[encoded data removed]"
     },
     "metadata": {
      "needs_background": "light"
     }
    }
   ],
   "source": [
    "fig, ax = plt.subplots(figsize=(4,4))\n",
    "\n",
    "ax.scatter(tmc1_y, best_models[\"svr\"].predict(tmc1_X))\n",
    "ax.set(xlim=[10., 15.], ylim=[10., 15.])"
   ]
  },
  {
   "source": [
    "## Data importance estimation"
   ],
   "cell_type": "markdown",
   "metadata": {}
  },
  {
   "cell_type": "code",
   "execution_count": 599,
   "metadata": {},
   "outputs": [],
   "source": [
    "def bootstrap_importance_estimation(estimator, data, seed: int, n_splits: int = 500):\n",
    "    X, y = data\n",
    "    splitter = ShuffleSplit(n_splits, test_size=0.2, random_state=seed)\n",
    "    log = list()\n",
    "    weights = np.ones((n_splits, y.size))\n",
    "    test_errors = list()\n",
    "    for split_index, (train_index, test_index) in enumerate(splitter.split(X, y)):\n",
    "        train_X, test_X, train_y, test_y = X[train_index], X[test_index], y[train_index], y[test_index]\n",
    "        result = estimator.fit(train_X, train_y)\n",
    "        # compute the mean squared error\n",
    "        train_error = mean_squared_error(train_y, result.predict(train_X))\n",
    "        test_error = mean_squared_error(test_y, result.predict(test_X))\n",
    "        log.append(\n",
    "            {\"train_error\": train_error, \"test_error\": test_error, \"train_index\": train_index, \"test_index\": test_index}\n",
    "        )\n",
    "        test_errors.append(test_error)\n",
    "        weights[split_index, test_index] = 0.\n",
    "    # reshape so we can do matrix multiplication\n",
    "    test_errors = np.asarray(test_errors)[:,None]\n",
    "    molecule_weights = (weights * test_errors).std(axis=0)\n",
    "    molecule_weights /= np.min(molecule_weights)\n",
    "    return log, molecule_weights"
   ]
  },
  {
   "cell_type": "code",
   "execution_count": 600,
   "metadata": {},
   "outputs": [],
   "source": [
    "bootstrap_log, weights = bootstrap_importance_estimation(best_models[\"ridge\"], (tmc1_X, tmc1_y) ,seed, n_splits=5000)"
   ]
  },
  {
   "cell_type": "code",
   "execution_count": null,
   "metadata": {},
   "outputs": [],
   "source": []
  }
 ]
}